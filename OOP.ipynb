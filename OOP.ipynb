{
 "cells": [
  {
   "cell_type": "markdown",
   "id": "27a6cb8d-ecc1-4def-bda2-f39b3394e9ea",
   "metadata": {},
   "source": [
    "### **Object Oriented Programming in Python**"
   ]
  },
  {
   "cell_type": "code",
   "execution_count": 1,
   "id": "b40dad11-8964-4eaa-ac4e-7bf21daac8ce",
   "metadata": {},
   "outputs": [],
   "source": [
    "class MyFirstClass:\n",
    "    pass      # a class can not have empty body, atleast it should have pass statement"
   ]
  },
  {
   "cell_type": "code",
   "execution_count": 4,
   "id": "1e3c8b13-5728-4532-97a7-afb0255efdb9",
   "metadata": {},
   "outputs": [
    {
     "name": "stdout",
     "output_type": "stream",
     "text": [
      "This is a document string.\n",
      "    It is a multi-line text enclosed within tripple single/double quotes.\n",
      "    This document/doc string contains the definition/purpose of the class.\n",
      "This is a document string.\n",
      "    It is a multi-line text enclosed within tripple single/double quotes.\n",
      "    This document/doc string contains the definition/purpose of the class.\n",
      "This is a document string.\n",
      "    It is a multi-line text enclosed within tripple single/double quotes.\n",
      "    This document/doc string contains the definition/purpose of the class.\n"
     ]
    }
   ],
   "source": [
    "class MyFirstClass:\n",
    "    '''This is a document string.\n",
    "    It is a multi-line text enclosed within tripple single/double quotes.\n",
    "    This document/doc string contains the definition/purpose of the class.'''\n",
    "    \n",
    "print (MyFirstClass.__doc__)\n",
    "ob = MyFirstClass()\n",
    "print (ob.__doc__)\n",
    "print (MyFirstClass().__doc__)"
   ]
  },
  {
   "cell_type": "code",
   "execution_count": 5,
   "id": "61df10b6-54f7-42bd-86fe-bd71fc5ddf28",
   "metadata": {},
   "outputs": [
    {
     "name": "stdout",
     "output_type": "stream",
     "text": [
      "int([x]) -> integer\n",
      "int(x, base=10) -> integer\n",
      "\n",
      "Convert a number or string to an integer, or return 0 if no arguments\n",
      "are given.  If x is a number, return x.__int__().  For floating point\n",
      "numbers, this truncates towards zero.\n",
      "\n",
      "If x is not a number or if base is given, then x must be a string,\n",
      "bytes, or bytearray instance representing an integer literal in the\n",
      "given base.  The literal can be preceded by '+' or '-' and be surrounded\n",
      "by whitespace.  The base defaults to 10.  Valid bases are 0 and 2-36.\n",
      "Base 0 means to interpret the base from the string as an integer literal.\n",
      ">>> int('0b100', base=0)\n",
      "4\n"
     ]
    }
   ],
   "source": [
    "print (int.__doc__)"
   ]
  },
  {
   "cell_type": "code",
   "execution_count": 6,
   "id": "679bee75-e88c-41fa-b0c8-7c91f1cec4b9",
   "metadata": {},
   "outputs": [
    {
     "name": "stdout",
     "output_type": "stream",
     "text": [
      "str(object='') -> str\n",
      "str(bytes_or_buffer[, encoding[, errors]]) -> str\n",
      "\n",
      "Create a new string object from the given object. If encoding or\n",
      "errors is specified, then the object must expose a data buffer\n",
      "that will be decoded using the given encoding and error handler.\n",
      "Otherwise, returns the result of object.__str__() (if defined)\n",
      "or repr(object).\n",
      "encoding defaults to sys.getdefaultencoding().\n",
      "errors defaults to 'strict'.\n"
     ]
    }
   ],
   "source": [
    "print (str.__doc__)"
   ]
  },
  {
   "cell_type": "code",
   "execution_count": 24,
   "id": "be20064b-a52a-4afd-a2e1-7be0e3760049",
   "metadata": {},
   "outputs": [
    {
     "name": "stdout",
     "output_type": "stream",
     "text": [
      "Executing the constructor method...\n",
      "Executing the display method...\n",
      "Class variable = 100 and 100...\n",
      "Instance variable = 900...\n",
      "Updating class variable...\n",
      "Executing the constructor method...\n",
      "Executing the display method...\n",
      "Class variable = 150 and 150...\n",
      "Instance variable = 555...\n",
      "This is a document string...\n"
     ]
    }
   ],
   "source": [
    "class MyClass:\n",
    "    '''This is a document string...'''\n",
    "    class_var = 100   # this is called class / static variable\n",
    "    def __init__(self, data1):    # this is called constructor method\n",
    "        print (\"Executing the constructor method...\")\n",
    "        self.inst_var = data1   # this is called instance variable\n",
    "    def display(self):   # self is object binding/referencing variable\n",
    "        print (\"Executing the display method...\")\n",
    "        print (f\"Class variable = {MyClass.class_var} and {self.class_var}...\")\n",
    "        print (f\"Instance variable = {self.inst_var}...\")\n",
    "    def update(self):\n",
    "        print (\"Updating class variable...\")\n",
    "        MyClass.class_var += 50\n",
    "    def __del__(self):    # this is called destructor method\n",
    "        print (\"Destructor method is executing...\")\n",
    "ob1 = MyClass(900)\n",
    "ob1.display()\n",
    "ob1.update()\n",
    "ob2 = MyClass(555)\n",
    "ob2.display()\n",
    "print (ob1.__doc__)"
   ]
  },
  {
   "cell_type": "code",
   "execution_count": 25,
   "id": "83e89050-68b0-471a-bc65-e09c516af980",
   "metadata": {},
   "outputs": [
    {
     "name": "stdout",
     "output_type": "stream",
     "text": [
      "Executing the display method...\n",
      "Class variable = 150 and 150...\n",
      "Instance variable = 555...\n"
     ]
    }
   ],
   "source": [
    "ob2.display()"
   ]
  },
  {
   "cell_type": "code",
   "execution_count": 26,
   "id": "032154a0-9e3c-4a8c-b5c1-5a8b0b8292f4",
   "metadata": {},
   "outputs": [
    {
     "name": "stdout",
     "output_type": "stream",
     "text": [
      "Destructor method is executing...\n"
     ]
    }
   ],
   "source": [
    "del ob1"
   ]
  },
  {
   "cell_type": "code",
   "execution_count": 27,
   "id": "ce5440f6-6ded-4953-9b7f-1a7ef6c858ab",
   "metadata": {},
   "outputs": [
    {
     "name": "stdout",
     "output_type": "stream",
     "text": [
      "Destructor method is executing...\n"
     ]
    }
   ],
   "source": [
    "del ob2"
   ]
  },
  {
   "cell_type": "code",
   "execution_count": 28,
   "id": "71cda3a1-5c9e-4d0e-ab32-927cb1ca378f",
   "metadata": {},
   "outputs": [
    {
     "name": "stdout",
     "output_type": "stream",
     "text": [
      "Number of objects created = 5\n"
     ]
    }
   ],
   "source": [
    "# count the number of objects created or instantiated against a class\n",
    "class MyClass:\n",
    "    count = 0\n",
    "    def __init__(self):\n",
    "        MyClass.count += 1\n",
    "        \n",
    "ob1 = MyClass()\n",
    "ob2 = MyClass()\n",
    "ob3 = MyClass()\n",
    "ob4 = MyClass()\n",
    "ob5 = MyClass()\n",
    "print (f\"Number of objects created = {MyClass.count}\")"
   ]
  },
  {
   "cell_type": "code",
   "execution_count": 34,
   "id": "b5ccb0b7-f9f1-4afd-98e1-6eab6ce7dd2c",
   "metadata": {},
   "outputs": [
    {
     "name": "stdout",
     "output_type": "stream",
     "text": [
      "Executing the instamce method <__main__.MyClass object at 0x0000017E98209DB0>\n",
      "instVar = 100, classVar = 222...\n",
      "Executing the class method <class '__main__.MyClass'>\n",
      "classVar = 333...\n",
      "Executing the class method <class '__main__.MyClass'>\n",
      "classVar = 333...\n",
      "Executing the static method...\n",
      "classVar = 444\n",
      "Executing the static method...\n",
      "classVar = 444\n"
     ]
    }
   ],
   "source": [
    "# there are three types of methods defined in Python: instance, class and static\n",
    "class MyClass:\n",
    "    classVar = 111   # class or static variable\n",
    "    # declaring instance method\n",
    "    def instMethod(self):   # self is an object binding variable\n",
    "        print (\"Executing the instamce method\", self)\n",
    "        self.instVar = 100   # instance variable\n",
    "        MyClass.classVar = 222\n",
    "        print (f\"instVar = {self.instVar}, classVar = {MyClass.classVar}...\")\n",
    "    # declaring class method\n",
    "    @classmethod    # it is called annotation or decorator\n",
    "    def classMethod(cla):    # cla is a class binding variable\n",
    "        print (\"Executing the class method\", cla)\n",
    "        cla.classVar = 333\n",
    "        print (f\"classVar = {MyClass.classVar}...\")\n",
    "    # declaring static method\n",
    "    @staticmethod    # it is called annotation or decorator\n",
    "    def staticMethod():\n",
    "        print (\"Executing the static method...\")\n",
    "        MyClass.classVar = 444\n",
    "        print (f\"classVar = {MyClass.classVar}\")\n",
    "ob1 = MyClass()\n",
    "ob1.instMethod()\n",
    "ob1.classMethod()\n",
    "MyClass.classMethod()\n",
    "ob1.staticMethod()\n",
    "MyClass.staticMethod()"
   ]
  },
  {
   "cell_type": "code",
   "execution_count": null,
   "id": "7d6ce3f0-9fac-4483-a022-3963b63b23f4",
   "metadata": {},
   "outputs": [],
   "source": []
  },
  {
   "cell_type": "code",
   "execution_count": null,
   "id": "e995ab2a-354e-4ff5-8f85-426bd9d9cce0",
   "metadata": {},
   "outputs": [],
   "source": []
  },
  {
   "cell_type": "code",
   "execution_count": null,
   "id": "85d2cf60-be76-44a9-a768-a3f69bea9202",
   "metadata": {},
   "outputs": [],
   "source": []
  },
  {
   "cell_type": "code",
   "execution_count": null,
   "id": "6116aa3c-98b0-4b7b-8de6-3321c5d81db8",
   "metadata": {},
   "outputs": [],
   "source": []
  },
  {
   "cell_type": "code",
   "execution_count": null,
   "id": "5fe5c204-5208-4b31-be55-6761c83ba4d9",
   "metadata": {},
   "outputs": [],
   "source": []
  },
  {
   "cell_type": "code",
   "execution_count": null,
   "id": "5e0cd39c-9b88-4415-a131-b3ea594eef97",
   "metadata": {},
   "outputs": [],
   "source": []
  },
  {
   "cell_type": "code",
   "execution_count": null,
   "id": "53818f28-627b-4de9-9c26-f2071f0263e6",
   "metadata": {},
   "outputs": [],
   "source": []
  },
  {
   "cell_type": "code",
   "execution_count": null,
   "id": "5df7c71a-437b-4d55-98d7-7fd3d51bf8c3",
   "metadata": {},
   "outputs": [],
   "source": []
  },
  {
   "cell_type": "code",
   "execution_count": null,
   "id": "a3659a73-5703-46b3-ba5f-b9533b76be66",
   "metadata": {},
   "outputs": [],
   "source": []
  },
  {
   "cell_type": "code",
   "execution_count": null,
   "id": "90357343-a0f5-4965-9381-1f9e9772e12f",
   "metadata": {},
   "outputs": [],
   "source": []
  },
  {
   "cell_type": "code",
   "execution_count": null,
   "id": "2deb2b70-3427-4c21-8a0c-f2ffe250d18e",
   "metadata": {},
   "outputs": [],
   "source": []
  },
  {
   "cell_type": "code",
   "execution_count": null,
   "id": "23d24152-f73c-44db-b760-48ff55e5d31d",
   "metadata": {},
   "outputs": [],
   "source": []
  },
  {
   "cell_type": "code",
   "execution_count": null,
   "id": "512acf19-1b46-4e5a-9676-63b0edefae7f",
   "metadata": {},
   "outputs": [],
   "source": []
  },
  {
   "cell_type": "code",
   "execution_count": null,
   "id": "eae27ae9-532c-44bb-b2e8-28b1ae252fa4",
   "metadata": {},
   "outputs": [],
   "source": []
  },
  {
   "cell_type": "code",
   "execution_count": null,
   "id": "f0369d21-02b1-4187-838a-32ee631c0a19",
   "metadata": {},
   "outputs": [],
   "source": []
  },
  {
   "cell_type": "code",
   "execution_count": null,
   "id": "3b93c941-c03f-4ce4-970e-208be2bead75",
   "metadata": {},
   "outputs": [],
   "source": []
  },
  {
   "cell_type": "code",
   "execution_count": null,
   "id": "b7186964-9ef3-4685-a4c1-167b8c784f7b",
   "metadata": {},
   "outputs": [],
   "source": []
  },
  {
   "cell_type": "code",
   "execution_count": null,
   "id": "a4005967-3b61-40a2-96bd-8c001cd67456",
   "metadata": {},
   "outputs": [],
   "source": []
  },
  {
   "cell_type": "code",
   "execution_count": null,
   "id": "e2dbc441-ec82-470b-99a3-4d5f34dfc8a2",
   "metadata": {},
   "outputs": [],
   "source": []
  }
 ],
 "metadata": {
  "kernelspec": {
   "display_name": "Python 3 (ipykernel)",
   "language": "python",
   "name": "python3"
  },
  "language_info": {
   "codemirror_mode": {
    "name": "ipython",
    "version": 3
   },
   "file_extension": ".py",
   "mimetype": "text/x-python",
   "name": "python",
   "nbconvert_exporter": "python",
   "pygments_lexer": "ipython3",
   "version": "3.10.9"
  }
 },
 "nbformat": 4,
 "nbformat_minor": 5
}
