{
 "cells": [
  {
   "cell_type": "markdown",
   "id": "bfe9883b-a3d8-4564-8688-6a4059451260",
   "metadata": {},
   "source": [
    "## **Introduction to Python Programming**"
   ]
  },
  {
   "cell_type": "code",
   "execution_count": 5,
   "id": "4b4e799f-f7b7-410e-b58f-43e093fb47bb",
   "metadata": {},
   "outputs": [
    {
     "name": "stdout",
     "output_type": "stream",
     "text": [
      "Hello\n"
     ]
    }
   ],
   "source": [
    "print ('Hello');"
   ]
  },
  {
   "cell_type": "code",
   "execution_count": null,
   "id": "79dffeab-a1c3-4fce-8336-3f65bde85818",
   "metadata": {},
   "outputs": [],
   "source": [
    "# This is a comment line\n",
    "# This is another comment line\n",
    "# This is the last comment line"
   ]
  },
  {
   "cell_type": "markdown",
   "id": "aacb95a4-7416-4d47-b3ee-975667ba0ef7",
   "metadata": {},
   "source": [
    "### Input and Output"
   ]
  },
  {
   "cell_type": "code",
   "execution_count": 7,
   "id": "fb3991f3-415c-4698-8a01-adcb21613236",
   "metadata": {},
   "outputs": [
    {
     "name": "stdin",
     "output_type": "stream",
     "text": [
      "Please enter the first number:  100\n",
      "Please enter the second number:  200\n"
     ]
    },
    {
     "name": "stdout",
     "output_type": "stream",
     "text": [
      "100 <class 'str'>\n",
      "200 <class 'str'>\n",
      "So the result is: 100200\n",
      "End of the program...\n"
     ]
    }
   ],
   "source": [
    "num1 = input(\"Please enter the first number: \")\n",
    "num2 = input(\"Please enter the second number: \")\n",
    "print (num1, type(num1))\n",
    "print (num2, type(num2))\n",
    "result = num1 + num2\n",
    "print (\"So the result is:\", result)\n",
    "print (\"End of the program...\")"
   ]
  },
  {
   "cell_type": "code",
   "execution_count": 8,
   "id": "c3545a86-a0ad-42bd-aaef-70929cad0abf",
   "metadata": {},
   "outputs": [
    {
     "name": "stdin",
     "output_type": "stream",
     "text": [
      "Please enter the first number:  100\n",
      "Please enter the second number:  300\n"
     ]
    },
    {
     "name": "stdout",
     "output_type": "stream",
     "text": [
      "100 <class 'int'>\n",
      "300 <class 'int'>\n",
      "So the result is: 400\n",
      "End of the program...\n"
     ]
    }
   ],
   "source": [
    "num1 = int(input(\"Please enter the first number: \"))\n",
    "num2 = int(input(\"Please enter the second number: \"))\n",
    "print (num1, type(num1))\n",
    "print (num2, type(num2))\n",
    "result = num1 + num2\n",
    "print (\"So the result is:\", result)\n",
    "print (\"End of the program...\")"
   ]
  },
  {
   "cell_type": "code",
   "execution_count": 9,
   "id": "031ee7a0-8e1b-40f3-96a2-713a602e5c6b",
   "metadata": {},
   "outputs": [
    {
     "name": "stdin",
     "output_type": "stream",
     "text": [
      "Please enter the first number:  200\n",
      "Please enter the second number:  300\n"
     ]
    }
   ],
   "source": [
    "num1 = int(input(\"Please enter the first number: \"))\n",
    "num2 = int(input(\"Please enter the second number: \"))\n",
    "result = num1 + num2"
   ]
  },
  {
   "cell_type": "code",
   "execution_count": 24,
   "id": "259c67a1-d47d-488f-8196-f044b936dc60",
   "metadata": {},
   "outputs": [
    {
     "name": "stdout",
     "output_type": "stream",
     "text": [
      "So 200 + 300 = 500\n",
      "So 200 + 300 = 500\n",
      "So 200 + 300 = 500\n",
      "So 200 + 300 = 500\n",
      "So 200 + 300 = 500\n",
      "So 200 + 300 = 500\n",
      "So 200 + 300 = 500\n",
      "So 200 + 300 = 500\n",
      "So 200 + 300.000000 = 500\n",
      "So 200 +   300.00 = 500\n",
      "So 200 + 300 = 500\n"
     ]
    }
   ],
   "source": [
    "print (\"So\", num1, \"+\", num2, \"=\", result)\n",
    "print (\"So \" + str(num1) + \" + \" + str(num2) + \" = \" + str(result))\n",
    "print (\"So {} + {} = {}\".format(num1, num2, result))   # here {} denotes place holder\n",
    "print (\"So {0} + {1} = {2}\".format(num1, num2, result)) # using indexed place holder\n",
    "print (\"So {2} + {0} = {1}\".format(num2, result, num1))\n",
    "print (\"So {fnum} + {snum} = {tot}\".format(fnum = num1, snum = num2, tot = result))  # labelled place holder\n",
    "print (\"So {fnum} + {snum} = {tot}\".format(snum = num2, fnum = num1, tot = result))  # labelled place holder\n",
    "print (\"So %d + %d = %d\"%(num1, num2, result))\n",
    "print (\"So %d + %f = %d\"%(num1, num2, result))\n",
    "print (\"So %d + %8.2f = %d\"%(num1, num2, result))\n",
    "print (f\"So {num1} + {num2} = {result}\")    # f => denotes smart formatting availbale from Python 3.7 onwards"
   ]
  },
  {
   "cell_type": "markdown",
   "id": "24426b4e-b076-4ab6-98d7-958d1f1cb718",
   "metadata": {},
   "source": [
    "### Dynamic Datatypes"
   ]
  },
  {
   "cell_type": "code",
   "execution_count": 25,
   "id": "fc4685f3-3726-436b-b2b6-d699500e49b1",
   "metadata": {},
   "outputs": [
    {
     "name": "stdout",
     "output_type": "stream",
     "text": [
      "100 <class 'int'> 1721774378320\n",
      "205.7 <class 'float'> 1721903923536\n",
      "College <class 'str'> 1721897160368\n",
      "College <class 'str'> 1721897160368\n",
      "A <class 'str'> 1721776920816\n",
      "True <class 'bool'> 140706504919248\n",
      "False <class 'bool'> 140706504919280\n"
     ]
    }
   ],
   "source": [
    "var1 = 100\n",
    "print (var1, type(var1), id(var1))\n",
    "var1 = 205.7\n",
    "print (var1, type(var1), id(var1))\n",
    "var1 = \"College\"\n",
    "print (var1, type(var1), id(var1))\n",
    "var1 = 'College'\n",
    "print (var1, type(var1), id(var1))\n",
    "var1 = \"A\"\n",
    "print (var1, type(var1), id(var1))\n",
    "var1 = True\n",
    "print (var1, type(var1), id(var1))\n",
    "var1 = False\n",
    "print (var1, type(var1), id(var1))"
   ]
  },
  {
   "cell_type": "code",
   "execution_count": 26,
   "id": "311e50d2-9549-4883-8d4e-71840feff3a8",
   "metadata": {},
   "outputs": [
    {
     "name": "stdout",
     "output_type": "stream",
     "text": [
      "100 1721774378320\n",
      "100 1721774378320\n"
     ]
    }
   ],
   "source": [
    "var1 = 100\n",
    "var2 = 100\n",
    "print (var1, id(var1))\n",
    "print (var2, id(var2))"
   ]
  },
  {
   "cell_type": "code",
   "execution_count": 29,
   "id": "18651e06-a296-4c94-b9b7-6cc72df57422",
   "metadata": {},
   "outputs": [
    {
     "name": "stdout",
     "output_type": "stream",
     "text": [
      "257 1721903935728\n",
      "257 1721903935664\n"
     ]
    }
   ],
   "source": [
    "var1 = 257\n",
    "var2 = 257\n",
    "print (var1, id(var1))\n",
    "print (var2, id(var2))"
   ]
  },
  {
   "cell_type": "code",
   "execution_count": 31,
   "id": "cdb32ede-90dd-4dd7-9ff2-c463d532f729",
   "metadata": {},
   "outputs": [
    {
     "name": "stdout",
     "output_type": "stream",
     "text": [
      "-6 1721903935856\n",
      "-6 1721903935664\n"
     ]
    }
   ],
   "source": [
    "var1 = -6\n",
    "var2 = -6\n",
    "print (var1, id(var1))\n",
    "print (var2, id(var2))"
   ]
  },
  {
   "cell_type": "markdown",
   "id": "2615170f-63f7-4e71-942b-0197527cf826",
   "metadata": {},
   "source": [
    "### Python Operators"
   ]
  },
  {
   "cell_type": "code",
   "execution_count": 34,
   "id": "502220fb-6387-44e3-94c1-6eccf4b68d0d",
   "metadata": {},
   "outputs": [
    {
     "name": "stdout",
     "output_type": "stream",
     "text": [
      "140\n",
      "60\n",
      "4000\n",
      "2.5\n",
      "2\n",
      "20\n",
      "100000000\n"
     ]
    }
   ],
   "source": [
    "# Arithmetic Operators: + - * / // ** %\n",
    "# Conditional/Relational Operators: > >= < <= != ==\n",
    "# Logical Operators: and or not\n",
    "# Assignment Operator: =\n",
    "# Special Assignment Operator: += -= *= /= //= **= %=\n",
    "# Bitwise Operators: & | ^ ~\n",
    "\n",
    "print (100 + 40)\n",
    "print (100 - 40)\n",
    "print (100 * 40)\n",
    "print (100 / 40)    # float division\n",
    "print (100 // 40)   # integer division\n",
    "print (100 % 40)    # remainder of the division or modulus\n",
    "print (100 ** 4)    # exponentiation"
   ]
  },
  {
   "cell_type": "code",
   "execution_count": 35,
   "id": "74da0b9c-0459-4649-abe2-66133b4c4632",
   "metadata": {},
   "outputs": [
    {
     "name": "stdout",
     "output_type": "stream",
     "text": [
      "False True True True\n"
     ]
    }
   ],
   "source": [
    "print (100 < 30, 100 >= 30, 100 == 100, 100 != 200)"
   ]
  },
  {
   "cell_type": "code",
   "execution_count": null,
   "id": "370d8b93-342c-496d-a087-f2582dc8a9a2",
   "metadata": {},
   "outputs": [],
   "source": [
    "# Operator are of three types: Unary, Binary and Ternary\n",
    "# Unary Operators: (Require only one operand) +100 -300\n",
    "# Binary Operators: (Require only one operands) 700+100 900-300\n",
    "# Ternary Operators: (Require only one operands) examples are here\n",
    "\n",
    "num1 = 100\n",
    "result = \"Even\" if (num1 % 2 == 0) else \"Odd\"\n",
    "print (num1, result)\n",
    "\n",
    "num1 = 101\n",
    "# result = num % 2 == 0?\"Even\":\"odd\";    # C++, C, Java\n",
    "result = \"Even\" if (num1 % 2 == 0) else \"Odd\"\n",
    "print (num1, result)"
   ]
  },
  {
   "cell_type": "code",
   "execution_count": 38,
   "id": "e9d0bca8-377b-4f9e-8a6f-dcb457ee6a5c",
   "metadata": {},
   "outputs": [
    {
     "name": "stdout",
     "output_type": "stream",
     "text": [
      "100\n"
     ]
    }
   ],
   "source": [
    "num1 = 100; print (num1)"
   ]
  },
  {
   "cell_type": "code",
   "execution_count": 42,
   "id": "45082e88-d23e-4f41-91ba-0b3734d8770a",
   "metadata": {},
   "outputs": [
    {
     "name": "stdout",
     "output_type": "stream",
     "text": [
      "Welcome to all\n",
      "Good bye\n"
     ]
    }
   ],
   "source": [
    "print (\"Welcome\",\"to all\")\n",
    "print (\"Good bye\")"
   ]
  },
  {
   "cell_type": "code",
   "execution_count": 46,
   "id": "fe557563-cd61-490a-bd40-ce1c1d8c00f7",
   "metadata": {},
   "outputs": [
    {
     "name": "stdout",
     "output_type": "stream",
     "text": [
      "Welcome - to all; Good bye\n"
     ]
    }
   ],
   "source": [
    "print (\"Welcome\",\"to all\", end = \"; \", sep = \" - \")\n",
    "print (\"Good bye\")"
   ]
  },
  {
   "cell_type": "code",
   "execution_count": 41,
   "id": "763ba665-597a-4096-8db0-14ebef53eee5",
   "metadata": {},
   "outputs": [
    {
     "name": "stdout",
     "output_type": "stream",
     "text": [
      "Help on built-in function print in module builtins:\n",
      "\n",
      "print(...)\n",
      "    print(value, ..., sep=' ', end='\\n', file=sys.stdout, flush=False)\n",
      "    \n",
      "    Prints the values to a stream, or to sys.stdout by default.\n",
      "    Optional keyword arguments:\n",
      "    file:  a file-like object (stream); defaults to the current sys.stdout.\n",
      "    sep:   string inserted between values, default a space.\n",
      "    end:   string appended after the last value, default a newline.\n",
      "    flush: whether to forcibly flush the stream.\n",
      "\n"
     ]
    }
   ],
   "source": [
    "help(print)"
   ]
  },
  {
   "cell_type": "code",
   "execution_count": 49,
   "id": "d07c8cc1-215d-4e5f-a606-b9d96305a376",
   "metadata": {},
   "outputs": [
    {
     "name": "stdout",
     "output_type": "stream",
     "text": [
      "Hello Hello Hello Hello \n",
      "Hi !!! Hi !!! Hi !!! Hi !!! Hi !!! \n"
     ]
    }
   ],
   "source": [
    "print (\"Hello \" * 4)\n",
    "print (\"Hi !!! \" * 5)"
   ]
  },
  {
   "cell_type": "markdown",
   "id": "5142c86d-a666-48bd-8855-7d06b9d41ae4",
   "metadata": {},
   "source": [
    "### Characters and ASCII Codes"
   ]
  },
  {
   "cell_type": "code",
   "execution_count": 52,
   "id": "043c746c-36ee-48fc-a473-bf931fe46d4a",
   "metadata": {},
   "outputs": [
    {
     "name": "stdout",
     "output_type": "stream",
     "text": [
      "65 97 90 122 57\n",
      "A a Z z 9\n"
     ]
    }
   ],
   "source": [
    "# ASCII (American Standard Code for Information Interchange)\n",
    "# 8-bit Code, 256 combinations and values are ranging from 0 to 255 (2**8 - 1)\n",
    "# ASCII Codes will have two sections:\n",
    "# 1. Normal ASCII Codes (0 to 127): Printable ASCII Codes\n",
    "# 2. Extended ASCII Codes (128 to 255): Non-Printable ASCII Codes\n",
    "# A => 65, B => 66 and Z => 90\n",
    "# a => 97, b => 98 and z => 122\n",
    "# 0 => 48, 1 => 49 and 9 => 57\n",
    "# Enter => 13, Tab => 8, Back Space => 9, Space => 32, Esc => 27\n",
    "print (ord('A'), ord(\"a\"), ord('Z'), ord('z'), ord('9'))\n",
    "print (chr(65), chr(97), chr(90), chr(122), chr(57))"
   ]
  },
  {
   "cell_type": "code",
   "execution_count": null,
   "id": "908f38d6-e46f-478b-8349-8a24de1e476d",
   "metadata": {},
   "outputs": [],
   "source": [
    "# A => 65 = 64 + 1 = 0100 0001\n",
    "              244   116  52   20\n",
    "# 500 = 256 + 128 + 64 + 32 + 16 + 4 = 1 1111 0100\n",
    "              88   24\n",
    "# 600 = 512 + 64 + 16 + 8 = 10 0101 1000"
   ]
  },
  {
   "cell_type": "code",
   "execution_count": null,
   "id": "6845db14-5378-42dc-9778-adb1ebe225b5",
   "metadata": {},
   "outputs": [],
   "source": [
    "# A => 65 = 64 + 1      = 0100 0001\n",
    "#                    or | 0010 0000 = 32   \n",
    "#                         --------- \n",
    "# a => 97 = 64 + 32 + 1 = 0110 0001"
   ]
  },
  {
   "cell_type": "code",
   "execution_count": 55,
   "id": "98f914d2-46cd-46a5-825c-68d082f21de1",
   "metadata": {},
   "outputs": [
    {
     "name": "stdout",
     "output_type": "stream",
     "text": [
      "A 97\n",
      "A a\n"
     ]
    }
   ],
   "source": [
    "var1 = \"A\"\n",
    "var2 = ord(var1) | 32\n",
    "print (var1, var2)\n",
    "var2 = chr(var2)\n",
    "print (var1, var2)"
   ]
  },
  {
   "cell_type": "code",
   "execution_count": null,
   "id": "5c34fdad-91ca-4525-87a2-c9819834868c",
   "metadata": {},
   "outputs": [],
   "source": [
    "# a => 97 = 64 + 32 + 1 = 0110 0001\n",
    "#                   And & 1101 1111 => 255-32 = 223\n",
    "#                         --------- \n",
    "# A => 65 = 64 + 1      = 0100 0001"
   ]
  },
  {
   "cell_type": "code",
   "execution_count": 56,
   "id": "7c7c4fc8-7b42-425e-842f-95637a457c31",
   "metadata": {},
   "outputs": [
    {
     "name": "stdout",
     "output_type": "stream",
     "text": [
      "a 65\n",
      "a A\n"
     ]
    }
   ],
   "source": [
    "var1 = \"a\"\n",
    "var2 = ord(var1) & 223\n",
    "print (var1, var2)\n",
    "var2 = chr(var2)\n",
    "print (var1, var2)"
   ]
  },
  {
   "cell_type": "code",
   "execution_count": null,
   "id": "4b89b483-78f1-4eb8-91c5-27596007b8ed",
   "metadata": {},
   "outputs": [],
   "source": []
  },
  {
   "cell_type": "code",
   "execution_count": null,
   "id": "93b75356-c2a7-449f-8506-a85ad64df2b2",
   "metadata": {},
   "outputs": [],
   "source": []
  },
  {
   "cell_type": "code",
   "execution_count": null,
   "id": "a4633215-0711-4c50-932c-9633269d9628",
   "metadata": {},
   "outputs": [],
   "source": []
  },
  {
   "cell_type": "code",
   "execution_count": null,
   "id": "2528b810-5d57-4b2d-a202-3dd6af7cafac",
   "metadata": {},
   "outputs": [],
   "source": []
  }
 ],
 "metadata": {
  "kernelspec": {
   "display_name": "Python 3 (ipykernel)",
   "language": "python",
   "name": "python3"
  },
  "language_info": {
   "codemirror_mode": {
    "name": "ipython",
    "version": 3
   },
   "file_extension": ".py",
   "mimetype": "text/x-python",
   "name": "python",
   "nbconvert_exporter": "python",
   "pygments_lexer": "ipython3",
   "version": "3.10.9"
  }
 },
 "nbformat": 4,
 "nbformat_minor": 5
}
