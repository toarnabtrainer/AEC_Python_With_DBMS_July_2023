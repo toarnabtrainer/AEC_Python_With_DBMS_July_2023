{
 "cells": [
  {
   "cell_type": "markdown",
   "id": "bfe9883b-a3d8-4564-8688-6a4059451260",
   "metadata": {},
   "source": [
    "## **Introduction to Python Programming**"
   ]
  },
  {
   "cell_type": "code",
   "execution_count": 5,
   "id": "4b4e799f-f7b7-410e-b58f-43e093fb47bb",
   "metadata": {},
   "outputs": [
    {
     "name": "stdout",
     "output_type": "stream",
     "text": [
      "Hello\n"
     ]
    }
   ],
   "source": [
    "print ('Hello');"
   ]
  },
  {
   "cell_type": "code",
   "execution_count": null,
   "id": "79dffeab-a1c3-4fce-8336-3f65bde85818",
   "metadata": {},
   "outputs": [],
   "source": [
    "# This is a comment line\n",
    "# This is another comment line\n",
    "# This is the last comment line"
   ]
  },
  {
   "cell_type": "markdown",
   "id": "aacb95a4-7416-4d47-b3ee-975667ba0ef7",
   "metadata": {},
   "source": [
    "### Input and Output"
   ]
  },
  {
   "cell_type": "code",
   "execution_count": 7,
   "id": "fb3991f3-415c-4698-8a01-adcb21613236",
   "metadata": {},
   "outputs": [
    {
     "name": "stdin",
     "output_type": "stream",
     "text": [
      "Please enter the first number:  100\n",
      "Please enter the second number:  200\n"
     ]
    },
    {
     "name": "stdout",
     "output_type": "stream",
     "text": [
      "100 <class 'str'>\n",
      "200 <class 'str'>\n",
      "So the result is: 100200\n",
      "End of the program...\n"
     ]
    }
   ],
   "source": [
    "num1 = input(\"Please enter the first number: \")\n",
    "num2 = input(\"Please enter the second number: \")\n",
    "print (num1, type(num1))\n",
    "print (num2, type(num2))\n",
    "result = num1 + num2\n",
    "print (\"So the result is:\", result)\n",
    "print (\"End of the program...\")"
   ]
  },
  {
   "cell_type": "code",
   "execution_count": 8,
   "id": "c3545a86-a0ad-42bd-aaef-70929cad0abf",
   "metadata": {},
   "outputs": [
    {
     "name": "stdin",
     "output_type": "stream",
     "text": [
      "Please enter the first number:  100\n",
      "Please enter the second number:  300\n"
     ]
    },
    {
     "name": "stdout",
     "output_type": "stream",
     "text": [
      "100 <class 'int'>\n",
      "300 <class 'int'>\n",
      "So the result is: 400\n",
      "End of the program...\n"
     ]
    }
   ],
   "source": [
    "num1 = int(input(\"Please enter the first number: \"))\n",
    "num2 = int(input(\"Please enter the second number: \"))\n",
    "print (num1, type(num1))\n",
    "print (num2, type(num2))\n",
    "result = num1 + num2\n",
    "print (\"So the result is:\", result)\n",
    "print (\"End of the program...\")"
   ]
  },
  {
   "cell_type": "code",
   "execution_count": 9,
   "id": "031ee7a0-8e1b-40f3-96a2-713a602e5c6b",
   "metadata": {},
   "outputs": [
    {
     "name": "stdin",
     "output_type": "stream",
     "text": [
      "Please enter the first number:  200\n",
      "Please enter the second number:  300\n"
     ]
    }
   ],
   "source": [
    "num1 = int(input(\"Please enter the first number: \"))\n",
    "num2 = int(input(\"Please enter the second number: \"))\n",
    "result = num1 + num2"
   ]
  },
  {
   "cell_type": "code",
   "execution_count": 24,
   "id": "259c67a1-d47d-488f-8196-f044b936dc60",
   "metadata": {},
   "outputs": [
    {
     "name": "stdout",
     "output_type": "stream",
     "text": [
      "So 200 + 300 = 500\n",
      "So 200 + 300 = 500\n",
      "So 200 + 300 = 500\n",
      "So 200 + 300 = 500\n",
      "So 200 + 300 = 500\n",
      "So 200 + 300 = 500\n",
      "So 200 + 300 = 500\n",
      "So 200 + 300 = 500\n",
      "So 200 + 300.000000 = 500\n",
      "So 200 +   300.00 = 500\n",
      "So 200 + 300 = 500\n"
     ]
    }
   ],
   "source": [
    "print (\"So\", num1, \"+\", num2, \"=\", result)\n",
    "print (\"So \" + str(num1) + \" + \" + str(num2) + \" = \" + str(result))\n",
    "print (\"So {} + {} = {}\".format(num1, num2, result))   # here {} denotes place holder\n",
    "print (\"So {0} + {1} = {2}\".format(num1, num2, result)) # using indexed place holder\n",
    "print (\"So {2} + {0} = {1}\".format(num2, result, num1))\n",
    "print (\"So {fnum} + {snum} = {tot}\".format(fnum = num1, snum = num2, tot = result))  # labelled place holder\n",
    "print (\"So {fnum} + {snum} = {tot}\".format(snum = num2, fnum = num1, tot = result))  # labelled place holder\n",
    "print (\"So %d + %d = %d\"%(num1, num2, result))\n",
    "print (\"So %d + %f = %d\"%(num1, num2, result))\n",
    "print (\"So %d + %8.2f = %d\"%(num1, num2, result))\n",
    "print (f\"So {num1} + {num2} = {result}\")    # f => denotes smart formatting availbale from Python 3.7 onwards"
   ]
  },
  {
   "cell_type": "markdown",
   "id": "24426b4e-b076-4ab6-98d7-958d1f1cb718",
   "metadata": {},
   "source": [
    "### Dynamic Datatypes"
   ]
  },
  {
   "cell_type": "code",
   "execution_count": 25,
   "id": "fc4685f3-3726-436b-b2b6-d699500e49b1",
   "metadata": {},
   "outputs": [
    {
     "name": "stdout",
     "output_type": "stream",
     "text": [
      "100 <class 'int'> 1721774378320\n",
      "205.7 <class 'float'> 1721903923536\n",
      "College <class 'str'> 1721897160368\n",
      "College <class 'str'> 1721897160368\n",
      "A <class 'str'> 1721776920816\n",
      "True <class 'bool'> 140706504919248\n",
      "False <class 'bool'> 140706504919280\n"
     ]
    }
   ],
   "source": [
    "var1 = 100\n",
    "print (var1, type(var1), id(var1))\n",
    "var1 = 205.7\n",
    "print (var1, type(var1), id(var1))\n",
    "var1 = \"College\"\n",
    "print (var1, type(var1), id(var1))\n",
    "var1 = 'College'\n",
    "print (var1, type(var1), id(var1))\n",
    "var1 = \"A\"\n",
    "print (var1, type(var1), id(var1))\n",
    "var1 = True\n",
    "print (var1, type(var1), id(var1))\n",
    "var1 = False\n",
    "print (var1, type(var1), id(var1))"
   ]
  },
  {
   "cell_type": "code",
   "execution_count": 26,
   "id": "311e50d2-9549-4883-8d4e-71840feff3a8",
   "metadata": {},
   "outputs": [
    {
     "name": "stdout",
     "output_type": "stream",
     "text": [
      "100 1721774378320\n",
      "100 1721774378320\n"
     ]
    }
   ],
   "source": [
    "var1 = 100\n",
    "var2 = 100\n",
    "print (var1, id(var1))\n",
    "print (var2, id(var2))"
   ]
  },
  {
   "cell_type": "code",
   "execution_count": 29,
   "id": "18651e06-a296-4c94-b9b7-6cc72df57422",
   "metadata": {},
   "outputs": [
    {
     "name": "stdout",
     "output_type": "stream",
     "text": [
      "257 1721903935728\n",
      "257 1721903935664\n"
     ]
    }
   ],
   "source": [
    "var1 = 257\n",
    "var2 = 257\n",
    "print (var1, id(var1))\n",
    "print (var2, id(var2))"
   ]
  },
  {
   "cell_type": "code",
   "execution_count": 31,
   "id": "cdb32ede-90dd-4dd7-9ff2-c463d532f729",
   "metadata": {},
   "outputs": [
    {
     "name": "stdout",
     "output_type": "stream",
     "text": [
      "-6 1721903935856\n",
      "-6 1721903935664\n"
     ]
    }
   ],
   "source": [
    "var1 = -6\n",
    "var2 = -6\n",
    "print (var1, id(var1))\n",
    "print (var2, id(var2))"
   ]
  },
  {
   "cell_type": "markdown",
   "id": "2615170f-63f7-4e71-942b-0197527cf826",
   "metadata": {},
   "source": [
    "### Python Operators"
   ]
  },
  {
   "cell_type": "code",
   "execution_count": 34,
   "id": "502220fb-6387-44e3-94c1-6eccf4b68d0d",
   "metadata": {},
   "outputs": [
    {
     "name": "stdout",
     "output_type": "stream",
     "text": [
      "140\n",
      "60\n",
      "4000\n",
      "2.5\n",
      "2\n",
      "20\n",
      "100000000\n"
     ]
    }
   ],
   "source": [
    "# Arithmetic Operators: + - * / // ** %\n",
    "# Conditional/Relational Operators: > >= < <= != ==\n",
    "# Logical Operators: and or not\n",
    "# Assignment Operator: =\n",
    "# Special Assignment Operator: += -= *= /= //= **= %=\n",
    "# Bitwise Operators: & | ^ ~\n",
    "\n",
    "print (100 + 40)\n",
    "print (100 - 40)\n",
    "print (100 * 40)\n",
    "print (100 / 40)    # float division\n",
    "print (100 // 40)   # integer division\n",
    "print (100 % 40)    # remainder of the division or modulus\n",
    "print (100 ** 4)    # exponentiation"
   ]
  },
  {
   "cell_type": "code",
   "execution_count": 35,
   "id": "74da0b9c-0459-4649-abe2-66133b4c4632",
   "metadata": {},
   "outputs": [
    {
     "name": "stdout",
     "output_type": "stream",
     "text": [
      "False True True True\n"
     ]
    }
   ],
   "source": [
    "print (100 < 30, 100 >= 30, 100 == 100, 100 != 200)"
   ]
  },
  {
   "cell_type": "code",
   "execution_count": null,
   "id": "370d8b93-342c-496d-a087-f2582dc8a9a2",
   "metadata": {},
   "outputs": [],
   "source": [
    "# Operator are of three types: Unary, Binary and Ternary\n",
    "# Unary Operators: (Require only one operand) +100 -300\n",
    "# Binary Operators: (Require only one operands) 700+100 900-300\n",
    "# Ternary Operators: (Require only one operands) examples are here\n",
    "\n",
    "num1 = 100\n",
    "result = \"Even\" if (num1 % 2 == 0) else \"Odd\"\n",
    "print (num1, result)\n",
    "\n",
    "num1 = 101\n",
    "# result = num % 2 == 0?\"Even\":\"odd\";    # C++, C, Java\n",
    "result = \"Even\" if (num1 % 2 == 0) else \"Odd\"\n",
    "print (num1, result)"
   ]
  },
  {
   "cell_type": "code",
   "execution_count": 38,
   "id": "e9d0bca8-377b-4f9e-8a6f-dcb457ee6a5c",
   "metadata": {},
   "outputs": [
    {
     "name": "stdout",
     "output_type": "stream",
     "text": [
      "100\n"
     ]
    }
   ],
   "source": [
    "num1 = 100; print (num1)"
   ]
  },
  {
   "cell_type": "code",
   "execution_count": 42,
   "id": "45082e88-d23e-4f41-91ba-0b3734d8770a",
   "metadata": {},
   "outputs": [
    {
     "name": "stdout",
     "output_type": "stream",
     "text": [
      "Welcome to all\n",
      "Good bye\n"
     ]
    }
   ],
   "source": [
    "print (\"Welcome\",\"to all\")\n",
    "print (\"Good bye\")"
   ]
  },
  {
   "cell_type": "code",
   "execution_count": 46,
   "id": "fe557563-cd61-490a-bd40-ce1c1d8c00f7",
   "metadata": {},
   "outputs": [
    {
     "name": "stdout",
     "output_type": "stream",
     "text": [
      "Welcome - to all; Good bye\n"
     ]
    }
   ],
   "source": [
    "print (\"Welcome\",\"to all\", end = \"; \", sep = \" - \")\n",
    "print (\"Good bye\")"
   ]
  },
  {
   "cell_type": "code",
   "execution_count": 41,
   "id": "763ba665-597a-4096-8db0-14ebef53eee5",
   "metadata": {},
   "outputs": [
    {
     "name": "stdout",
     "output_type": "stream",
     "text": [
      "Help on built-in function print in module builtins:\n",
      "\n",
      "print(...)\n",
      "    print(value, ..., sep=' ', end='\\n', file=sys.stdout, flush=False)\n",
      "    \n",
      "    Prints the values to a stream, or to sys.stdout by default.\n",
      "    Optional keyword arguments:\n",
      "    file:  a file-like object (stream); defaults to the current sys.stdout.\n",
      "    sep:   string inserted between values, default a space.\n",
      "    end:   string appended after the last value, default a newline.\n",
      "    flush: whether to forcibly flush the stream.\n",
      "\n"
     ]
    }
   ],
   "source": [
    "help(print)"
   ]
  },
  {
   "cell_type": "code",
   "execution_count": 49,
   "id": "d07c8cc1-215d-4e5f-a606-b9d96305a376",
   "metadata": {},
   "outputs": [
    {
     "name": "stdout",
     "output_type": "stream",
     "text": [
      "Hello Hello Hello Hello \n",
      "Hi !!! Hi !!! Hi !!! Hi !!! Hi !!! \n"
     ]
    }
   ],
   "source": [
    "print (\"Hello \" * 4)\n",
    "print (\"Hi !!! \" * 5)"
   ]
  },
  {
   "cell_type": "markdown",
   "id": "5142c86d-a666-48bd-8855-7d06b9d41ae4",
   "metadata": {},
   "source": [
    "### Characters and ASCII Codes"
   ]
  },
  {
   "cell_type": "code",
   "execution_count": 52,
   "id": "043c746c-36ee-48fc-a473-bf931fe46d4a",
   "metadata": {},
   "outputs": [
    {
     "name": "stdout",
     "output_type": "stream",
     "text": [
      "65 97 90 122 57\n",
      "A a Z z 9\n"
     ]
    }
   ],
   "source": [
    "# ASCII (American Standard Code for Information Interchange)\n",
    "# 8-bit Code, 256 combinations and values are ranging from 0 to 255 (2**8 - 1)\n",
    "# ASCII Codes will have two sections:\n",
    "# 1. Normal ASCII Codes (0 to 127): Printable ASCII Codes\n",
    "# 2. Extended ASCII Codes (128 to 255): Non-Printable ASCII Codes\n",
    "# A => 65, B => 66 and Z => 90\n",
    "# a => 97, b => 98 and z => 122\n",
    "# 0 => 48, 1 => 49 and 9 => 57\n",
    "# Enter => 13, Tab => 8, Back Space => 9, Space => 32, Esc => 27\n",
    "print (ord('A'), ord(\"a\"), ord('Z'), ord('z'), ord('9'))\n",
    "print (chr(65), chr(97), chr(90), chr(122), chr(57))"
   ]
  },
  {
   "cell_type": "code",
   "execution_count": null,
   "id": "908f38d6-e46f-478b-8349-8a24de1e476d",
   "metadata": {},
   "outputs": [],
   "source": [
    "# A => 65 = 64 + 1 = 0100 0001\n",
    "              244   116  52   20\n",
    "# 500 = 256 + 128 + 64 + 32 + 16 + 4 = 1 1111 0100\n",
    "              88   24\n",
    "# 600 = 512 + 64 + 16 + 8 = 10 0101 1000"
   ]
  },
  {
   "cell_type": "code",
   "execution_count": null,
   "id": "6845db14-5378-42dc-9778-adb1ebe225b5",
   "metadata": {},
   "outputs": [],
   "source": [
    "# A => 65 = 64 + 1      = 0100 0001\n",
    "#                    or | 0010 0000 = 32   \n",
    "#                         --------- \n",
    "# a => 97 = 64 + 32 + 1 = 0110 0001"
   ]
  },
  {
   "cell_type": "code",
   "execution_count": 55,
   "id": "98f914d2-46cd-46a5-825c-68d082f21de1",
   "metadata": {},
   "outputs": [
    {
     "name": "stdout",
     "output_type": "stream",
     "text": [
      "A 97\n",
      "A a\n"
     ]
    }
   ],
   "source": [
    "var1 = \"A\"\n",
    "var2 = ord(var1) | 32\n",
    "print (var1, var2)\n",
    "var2 = chr(var2)\n",
    "print (var1, var2)"
   ]
  },
  {
   "cell_type": "code",
   "execution_count": null,
   "id": "5c34fdad-91ca-4525-87a2-c9819834868c",
   "metadata": {},
   "outputs": [],
   "source": [
    "# a => 97 = 64 + 32 + 1 = 0110 0001\n",
    "#                   And & 1101 1111 => 255-32 = 223\n",
    "#                         --------- \n",
    "# A => 65 = 64 + 1      = 0100 0001"
   ]
  },
  {
   "cell_type": "code",
   "execution_count": 56,
   "id": "7c7c4fc8-7b42-425e-842f-95637a457c31",
   "metadata": {},
   "outputs": [
    {
     "name": "stdout",
     "output_type": "stream",
     "text": [
      "a 65\n",
      "a A\n"
     ]
    }
   ],
   "source": [
    "var1 = \"a\"\n",
    "var2 = ord(var1) & 223\n",
    "print (var1, var2)\n",
    "var2 = chr(var2)\n",
    "print (var1, var2)"
   ]
  },
  {
   "cell_type": "code",
   "execution_count": 58,
   "id": "4b89b483-78f1-4eb8-91c5-27596007b8ed",
   "metadata": {},
   "outputs": [
    {
     "name": "stdout",
     "output_type": "stream",
     "text": [
      "A a\n",
      "a A\n"
     ]
    }
   ],
   "source": [
    "var1 = \"A\"\n",
    "var2 = chr(ord(var1) ^ 32)\n",
    "print (var1, var2)\n",
    "\n",
    "var1 = \"a\"\n",
    "var2 = chr(ord(var1) ^ 32)\n",
    "print (var1, var2)"
   ]
  },
  {
   "cell_type": "markdown",
   "id": "60e094a0-0243-4f3d-a127-c93471912908",
   "metadata": {},
   "source": [
    "### Conditional Satements"
   ]
  },
  {
   "cell_type": "code",
   "execution_count": 68,
   "id": "a4633215-0711-4c50-932c-9633269d9628",
   "metadata": {},
   "outputs": [
    {
     "name": "stdin",
     "output_type": "stream",
     "text": [
      "Please enter the first number:  200\n",
      "Please enter the second number:  300\n",
      "Please enter the third number:  100\n"
     ]
    },
    {
     "name": "stdout",
     "output_type": "stream",
     "text": [
      "The second number is the maximum number...\n",
      "The maximum number is: 300\n",
      "End of the program...\n"
     ]
    }
   ],
   "source": [
    "# finding the maximum of three user given numbers\n",
    "num1 = int(input(\"Please enter the first number: \"))\n",
    "num2 = int(input(\"Please enter the second number: \"))\n",
    "num3 = int(input(\"Please enter the third number: \"))\n",
    "if (num1 > num2):\n",
    "    if (num1 > num3):\n",
    "        print (\"The first number is the maximum number...\")\n",
    "        print (\"The maximum number is:\", num1)\n",
    "    else:\n",
    "        print (\"The third number is the maximum number...\")\n",
    "        print (\"The maximum number is:\", num3)\n",
    "elif (num2 > num3):\n",
    "    print (\"The second number is the maximum number...\")\n",
    "    print (\"The maximum number is:\", num2)\n",
    "else:\n",
    "    print (\"The third number is the maximum number...\")\n",
    "    print (\"The maximum number is:\", num3)\n",
    "print (\"End of the program...\")"
   ]
  },
  {
   "cell_type": "code",
   "execution_count": 71,
   "id": "1e727950-4565-4c82-ba07-b049d3ff6427",
   "metadata": {},
   "outputs": [
    {
     "name": "stdin",
     "output_type": "stream",
     "text": [
      "Please enter the first number:  100\n",
      "Please enter the second number:  300\n",
      "Please enter the third number:  200\n"
     ]
    },
    {
     "name": "stdout",
     "output_type": "stream",
     "text": [
      "The second number is the maximum number...\n",
      "The maximum number is: 300\n",
      "End of the program...\n"
     ]
    }
   ],
   "source": [
    "# finding the maximum of three user given numbers\n",
    "num1 = int(input(\"Please enter the first number: \"))\n",
    "num2 = int(input(\"Please enter the second number: \"))\n",
    "num3 = int(input(\"Please enter the third number: \"))\n",
    "if (num1 > num2 and num1 > num3):\n",
    "    print (\"The first number is the maximum number...\")\n",
    "    print (\"The maximum number is:\", num1)\n",
    "elif (num2 > num3):\n",
    "    print (\"The second number is the maximum number...\")\n",
    "    print (\"The maximum number is:\", num2)\n",
    "else:\n",
    "    print (\"The third number is the maximum number...\")\n",
    "    print (\"The maximum number is:\", num3)\n",
    "print (\"End of the program...\")"
   ]
  },
  {
   "cell_type": "markdown",
   "id": "ff48e1f5-69e6-451e-8fab-1dc13cc1cac4",
   "metadata": {},
   "source": [
    "### Loop Control"
   ]
  },
  {
   "cell_type": "code",
   "execution_count": 5,
   "id": "2528b810-5d57-4b2d-a202-3dd6af7cafac",
   "metadata": {},
   "outputs": [
    {
     "name": "stdout",
     "output_type": "stream",
     "text": [
      "Looping for i = 0...\n",
      "Looping for i = 1...\n",
      "Looping for i = 2...\n",
      "Looping for i = 3...\n",
      "Looping for i = 4...\n",
      "Looping for i = 5...\n",
      "Looping for i = 6...\n",
      "Looping for i = 7...\n",
      "Looping for i = 8...\n",
      "Looping for i = 9...\n",
      "End of the program...\n"
     ]
    }
   ],
   "source": [
    "for i in range(10):\n",
    "    print (f\"Looping for i = {i}...\")\n",
    "print (\"End of the program...\")"
   ]
  },
  {
   "cell_type": "code",
   "execution_count": 2,
   "id": "bc6254a0-0997-4f68-ab04-0ff6a1afc0f7",
   "metadata": {},
   "outputs": [
    {
     "name": "stdout",
     "output_type": "stream",
     "text": [
      "Looping for i = 0...\n",
      "Looping for i = 1...\n",
      "Looping for i = 2...\n",
      "Looping for i = 3...\n",
      "Looping for i = 4...\n",
      "Looping for i = 5...\n",
      "Looping for i = 6...\n",
      "Looping for i = 7...\n",
      "Looping for i = 8...\n",
      "Looping for i = 9...\n",
      "End of the program...\n"
     ]
    }
   ],
   "source": [
    "for i in range(0, 10, 1):\n",
    "    print (f\"Looping for i = {i}...\")\n",
    "print (\"End of the program...\")"
   ]
  },
  {
   "cell_type": "code",
   "execution_count": 3,
   "id": "8f3736e1-d9db-452e-a85f-427f9627b45d",
   "metadata": {},
   "outputs": [
    {
     "name": "stdout",
     "output_type": "stream",
     "text": [
      "Looping for i = 1...\n",
      "Looping for i = 3...\n",
      "Looping for i = 5...\n",
      "Looping for i = 7...\n",
      "Looping for i = 9...\n",
      "End of the program...\n"
     ]
    }
   ],
   "source": [
    "for i in range(1, 10, 2):\n",
    "    print (f\"Looping for i = {i}...\")\n",
    "print (\"End of the program...\")"
   ]
  },
  {
   "cell_type": "code",
   "execution_count": 6,
   "id": "b29e1410-f96a-4cd1-a662-6a50778660ca",
   "metadata": {},
   "outputs": [
    {
     "name": "stdout",
     "output_type": "stream",
     "text": [
      "Looping for i = 10...\n",
      "Looping for i = 9...\n",
      "Looping for i = 8...\n",
      "Looping for i = 7...\n",
      "Looping for i = 6...\n",
      "Looping for i = 5...\n",
      "Looping for i = 4...\n",
      "Looping for i = 3...\n",
      "Looping for i = 2...\n",
      "End of the program...\n"
     ]
    }
   ],
   "source": [
    "for i in range(10, 1, -1):\n",
    "    print (f\"Looping for i = {i}...\")\n",
    "print (\"End of the program...\")"
   ]
  },
  {
   "cell_type": "code",
   "execution_count": 7,
   "id": "9c865db3-1494-44ee-9e96-54bc5b182562",
   "metadata": {},
   "outputs": [
    {
     "name": "stdout",
     "output_type": "stream",
     "text": [
      "Looping for i = 10...\n",
      "Looping for i = 9...\n",
      "Looping for i = 8...\n",
      "Looping for i = 7...\n",
      "Looping for i = 6...\n",
      "Looping for i = 5...\n",
      "Looping for i = 4...\n",
      "Looping for i = 3...\n",
      "Looping for i = 2...\n",
      "Else block is executing...\n",
      "Had a smooth execution...\n",
      "End of the program...\n"
     ]
    }
   ],
   "source": [
    "for i in range(10, 1, -1):\n",
    "    print (f\"Looping for i = {i}...\")\n",
    "else:\n",
    "    print (\"Else block is executing...\")\n",
    "    print (\"Had a smooth execution...\")\n",
    "print (\"End of the program...\")"
   ]
  },
  {
   "cell_type": "code",
   "execution_count": 11,
   "id": "589c930b-3d55-4e0a-8321-0f2f7533f7bf",
   "metadata": {},
   "outputs": [
    {
     "name": "stdout",
     "output_type": "stream",
     "text": [
      "So looping for i = 1...\n",
      "So looping for i = 2...\n",
      "So looping for i = 3...\n",
      "So looping for i = 4...\n",
      "So looping for i = 5...\n",
      "So looping for i = 6...\n",
      "So looping for i = 7...\n",
      "So looping for i = 8...\n",
      "So looping for i = 9...\n",
      "Terminating the for loop...\n",
      "End of the program...\n"
     ]
    }
   ],
   "source": [
    "for i in range(1, 10, 1):\n",
    "    print (f\"So looping for i = {i}...\")\n",
    "    if (i == 9):\n",
    "        print (\"Terminating the for loop...\")\n",
    "        break\n",
    "else:\n",
    "    print (\"Else block is executing...\")\n",
    "    print (\"Had a smooth execution...\")\n",
    "print (\"End of the program...\")"
   ]
  },
  {
   "cell_type": "code",
   "execution_count": 15,
   "id": "02d19a55-d62f-45e7-bad2-591d90ffcc6a",
   "metadata": {},
   "outputs": [
    {
     "name": "stdin",
     "output_type": "stream",
     "text": [
      "Please enter one integer number:  101\n"
     ]
    },
    {
     "name": "stdout",
     "output_type": "stream",
     "text": [
      "101 is a PRIME number...\n",
      "End of the program...\n"
     ]
    }
   ],
   "source": [
    "# Find whether a user given number is PRIME or not.\n",
    "num = int(input(\"Please enter one integer number: \"))\n",
    "for i in range(2, int(num ** 0.5) + 1):\n",
    "    if (num % i == 0):\n",
    "        print (f\"{num} is NOT a PRIME number...\")\n",
    "        break\n",
    "else:\n",
    "    print (f\"{num} is a PRIME number...\")\n",
    "print (\"End of the program...\")"
   ]
  },
  {
   "cell_type": "code",
   "execution_count": null,
   "id": "db887b85-9a61-434e-8553-6b85fe0bbf70",
   "metadata": {},
   "outputs": [],
   "source": [
    "100\n",
    "1, 100\n",
    "2, 50\n",
    "4, 25\n",
    "5, 20\n",
    "10, 10\n",
    "20, 5\n",
    "25, 4\n",
    "50, 2\n",
    "100, 1"
   ]
  },
  {
   "cell_type": "code",
   "execution_count": 16,
   "id": "b088ae78-74e0-4328-a28d-4470a8dff913",
   "metadata": {},
   "outputs": [
    {
     "name": "stdout",
     "output_type": "stream",
     "text": [
      "Looping with i = 1...\n",
      "Looping with i = 2...\n",
      "Looping with i = 3...\n",
      "Looping with i = 4...\n",
      "Executing the loop again...\n",
      "Looping with i = 6...\n",
      "Executing the loop again...\n",
      "Looping with i = 8...\n",
      "Looping with i = 9...\n",
      "Else block is executing...\n",
      "End of the program...\n"
     ]
    }
   ],
   "source": [
    "for i in range(1, 10):\n",
    "    if (i == 5 or i == 7):\n",
    "        print (\"Executing the loop again...\")\n",
    "        continue\n",
    "    print (f\"Looping with i = {i}...\")\n",
    "else:\n",
    "    print (\"Else block is executing...\")\n",
    "print (\"End of the program...\")"
   ]
  },
  {
   "cell_type": "code",
   "execution_count": 21,
   "id": "85451dab-fe51-4f09-be6b-e685b0211ad5",
   "metadata": {},
   "outputs": [
    {
     "name": "stdout",
     "output_type": "stream",
     "text": [
      "100 is an EVEN number...\n",
      "End of the program...\n"
     ]
    }
   ],
   "source": [
    "num = 100\n",
    "\n",
    "if (num % 2 != 0):\n",
    "    pass    # pass is a statement placeholder\n",
    "else:\n",
    "    print (f\"{num} is an EVEN number...\")\n",
    "    \n",
    "print (\"End of the program...\")"
   ]
  },
  {
   "cell_type": "code",
   "execution_count": 20,
   "id": "434aa963-8506-42ef-9558-c56cc4518ab9",
   "metadata": {},
   "outputs": [
    {
     "name": "stdout",
     "output_type": "stream",
     "text": [
      "100 is an EVEN number...\n",
      "End of the program...\n"
     ]
    }
   ],
   "source": [
    "num = 100\n",
    "\n",
    "if (num % 2 != 0):\n",
    "    print (f\"{num} is not an EVEN number\")\n",
    "else:\n",
    "    print (f\"{num} is an EVEN number...\")\n",
    "    \n",
    "print (\"End of the program...\")"
   ]
  },
  {
   "cell_type": "markdown",
   "id": "86a9ebdd-6f31-4f2e-8c71-6c90b021b779",
   "metadata": {},
   "source": [
    "#### Pattern Printing"
   ]
  },
  {
   "cell_type": "code",
   "execution_count": null,
   "id": "6985cd79-b71d-49bd-ace4-c481955fe3a2",
   "metadata": {},
   "outputs": [],
   "source": [
    "# pattern - 1\n",
    "n = 6 (user given)   \n",
    "                 i   .   *\n",
    "              ---------------\n",
    ".....*           1   5   1\n",
    "....***          2   4   3  . => (n - i)\n",
    "...*****         3   3   5\n",
    "..*******        4   2   7  * => (2 * i - 1)\n",
    ".*********       5   1   9\n",
    "***********      6   0  11\n",
    "              ---------------\n",
    "               Tracing Table"
   ]
  },
  {
   "cell_type": "code",
   "execution_count": 27,
   "id": "cb2a7cc7-a854-4d19-88f6-bb6a24057ffa",
   "metadata": {},
   "outputs": [
    {
     "name": "stdin",
     "output_type": "stream",
     "text": [
      "Please enter the number of layers:  6\n"
     ]
    },
    {
     "name": "stdout",
     "output_type": "stream",
     "text": [
      ".....*\n",
      "....***\n",
      "...*****\n",
      "..*******\n",
      ".*********\n",
      "***********\n",
      "End of the program...\n"
     ]
    }
   ],
   "source": [
    "n = int(input(\"Please enter the number of layers: \"))\n",
    "for i in range(1, n + 1):\n",
    "    print (\".\" * (n - i) + \"*\" * (2 * i - 1))\n",
    "print (\"End of the program...\")"
   ]
  },
  {
   "cell_type": "code",
   "execution_count": null,
   "id": "cf80fac5-2e84-4e83-a580-4b0d346a5075",
   "metadata": {},
   "outputs": [],
   "source": [
    "# pattern - 2\n",
    "n = 6 (user given)   \n",
    "                 i   .   *\n",
    "              ---------------\n",
    "***********      1   0  11\n",
    ".*********       2   1   9  . => (i - 1)\n",
    "..*******        3   2   7\n",
    "...*****         4   3   5  * => 2 * (n - i) + 1\n",
    "....***          5   4   3\n",
    ".....*           6   5   1\n",
    "              ---------------\n",
    "               Tracing Table"
   ]
  },
  {
   "cell_type": "code",
   "execution_count": 31,
   "id": "b5dd6d8e-ffdf-44e6-b499-39332f1ef32e",
   "metadata": {},
   "outputs": [
    {
     "name": "stdin",
     "output_type": "stream",
     "text": [
      "Please enter the number of layers:  6\n"
     ]
    },
    {
     "name": "stdout",
     "output_type": "stream",
     "text": [
      "***********\n",
      ".*********\n",
      "..*******\n",
      "...*****\n",
      "....***\n",
      ".....*\n",
      "End of the program...\n"
     ]
    }
   ],
   "source": [
    "n = int(input(\"Please enter the number of layers: \"))\n",
    "for i in range(1, n + 1):\n",
    "    print (\".\" * (i - 1) + \"*\" * (2 * (n - i) + 1))\n",
    "print (\"End of the program...\")"
   ]
  },
  {
   "cell_type": "code",
   "execution_count": null,
   "id": "a5301cdb-97c3-4907-9f1a-aa18719086c0",
   "metadata": {},
   "outputs": [],
   "source": [
    "# pattern - 3 (Odd number of layers)\n",
    "n = 11 (user given)   m = (n + 1) // 2 = 6\n",
    "                 i   .   *\n",
    "              ---------------\n",
    ".....*           1   5   1       (n, m, i)\n",
    "....***          2   4   3  . => (m - i)\n",
    "...*****         3   3   5\n",
    "..*******        4   2   7  * => (2 * i - 1)\n",
    ".*********       5   1   9\n",
    "***********   ___6___0__11___\n",
    ".*********       7   1   9\n",
    "..*******        8   2   7  . => (i - m)\n",
    "...*****         9   3   5\n",
    "....***         10   4   3  * => (2 * (n - i) + 1)\n",
    ".....*          11   5   1\n",
    "              ---------------\n",
    "               Tracing Table"
   ]
  },
  {
   "cell_type": "code",
   "execution_count": 35,
   "id": "fc944d40-c5ff-4a9c-8024-42652486d1e2",
   "metadata": {},
   "outputs": [
    {
     "name": "stdin",
     "output_type": "stream",
     "text": [
      "Please enter the ODD number of layers:  10\n"
     ]
    },
    {
     "name": "stdout",
     "output_type": "stream",
     "text": [
      "....*\n",
      "...***\n",
      "..*****\n",
      ".*******\n",
      "*********\n",
      ".*********\n",
      "..*******\n",
      "...*****\n",
      "....***\n",
      ".....*\n",
      "End of the program...\n"
     ]
    }
   ],
   "source": [
    "n = int(input(\"Please enter the ODD number of layers: \"))\n",
    "m = (n + 1) // 2\n",
    "for i in range(1, n + 1):\n",
    "    if (i > m): b = (i - m); s = (2 * (n - i) + 1)\n",
    "    else: b = (m - i); s = (2 * i - 1)\n",
    "    print (\".\" * b + \"*\" * s)\n",
    "print (\"End of the program...\")"
   ]
  },
  {
   "cell_type": "code",
   "execution_count": null,
   "id": "8fc33071-a63e-4cd5-90e4-ad65e27bfc4a",
   "metadata": {},
   "outputs": [],
   "source": [
    "# pattern - 4 (Odd number of layers)\n",
    "n = 11 (user given)   m = (n + 1) // 2 = 6\n",
    "                 i   .   *\n",
    "              ---------------\n",
    "***********      1   0  11       (n, m, i)\n",
    ".*********       2   1   9  . => (i - 1)\n",
    "..*******        3   2   7\n",
    "...*****         4   3   5  * => (2 * (m - i) + 1)\n",
    "....***          5   4   3\n",
    ".....*        ___6___5___1___\n",
    "....***          7   4   3\n",
    "...*****         8   3   5  . => (n - i)\n",
    "..*******        9   2   7\n",
    ".*********      10   1   9  * => (2 * (i - m) + 1)\n",
    "***********     11   0  11\n",
    "              ---------------\n",
    "               Tracing Table"
   ]
  },
  {
   "cell_type": "code",
   "execution_count": 39,
   "id": "968742e8-4a50-45bb-a092-8d4583c304a1",
   "metadata": {},
   "outputs": [
    {
     "name": "stdin",
     "output_type": "stream",
     "text": [
      "Please enter the ODD number of layers:  12\n",
      "Please enter the ODD number of layers:  18\n",
      "Please enter the ODD number of layers:  22\n",
      "Please enter the ODD number of layers:  24\n",
      "Please enter the ODD number of layers:  7\n"
     ]
    },
    {
     "name": "stdout",
     "output_type": "stream",
     "text": [
      "*******\n",
      ".*****\n",
      "..***\n",
      "...*\n",
      "..***\n",
      ".*****\n",
      "*******\n",
      "End of the program...\n"
     ]
    }
   ],
   "source": [
    "while (True):\n",
    "    n = int(input(\"Please enter the ODD number of layers: \"))\n",
    "    if (n % 2 == 1): break\n",
    "m = (n + 1) // 2\n",
    "for i in range(1, n + 1):\n",
    "    if (i > m): b = (n - i); s = (2 * (i - m) + 1)\n",
    "    else: b = (i - 1); s = (2 * (m - i) + 1)\n",
    "    print (\".\" * b + \"*\" * s)\n",
    "print (\"End of the program...\")"
   ]
  },
  {
   "cell_type": "code",
   "execution_count": 42,
   "id": "cdd7bb54-7537-4b30-8ace-19ea53d6763d",
   "metadata": {},
   "outputs": [
    {
     "name": "stdout",
     "output_type": "stream",
     "text": [
      "So looping for i = 1...\n",
      "So looping for i = 2...\n",
      "So looping for i = 3...\n",
      "So looping for i = 4...\n",
      "So looping for i = 5...\n",
      "So looping for i = 6...\n",
      "So looping for i = 7...\n",
      "So looping for i = 8...\n",
      "So looping for i = 9...\n",
      "So looping for i = 10...\n",
      "Executing the ELSE block...\n",
      "Had a smooth loop execution...\n",
      "End of the looping...\n"
     ]
    }
   ],
   "source": [
    "i = 1\n",
    "while (i <= 10):\n",
    "    print (f\"So looping for i = {i}...\")\n",
    "    i += 1\n",
    "else:\n",
    "    print (\"Executing the ELSE block...\")\n",
    "    print (\"Had a smooth loop execution...\")\n",
    "print (\"End of the looping...\")"
   ]
  },
  {
   "cell_type": "code",
   "execution_count": 45,
   "id": "fec3041b-b727-49fd-aa08-5cd1472df571",
   "metadata": {},
   "outputs": [
    {
     "name": "stdout",
     "output_type": "stream",
     "text": [
      "So looping for i = 1...\n",
      "So looping for i = 2...\n",
      "So looping for i = 3...\n",
      "So looping for i = 4...\n",
      "Continuing again...\n",
      "So looping for i = 6...\n",
      "Continuing again...\n",
      "So looping for i = 8...\n",
      "Exiting the loop...\n",
      "End of the looping...\n"
     ]
    }
   ],
   "source": [
    "i = 1\n",
    "while (i <= 10):\n",
    "    if (i == 5 or i == 7):\n",
    "        print (\"Continuing again...\")\n",
    "        i += 1\n",
    "        continue\n",
    "    if (i == 9): \n",
    "        print (\"Exiting the loop...\")\n",
    "        break\n",
    "    print (f\"So looping for i = {i}...\")\n",
    "    i += 1\n",
    "else:\n",
    "    print (\"Executing the ELSE block...\")\n",
    "    print (\"Had a smooth loop execution...\")\n",
    "print (\"End of the looping...\")"
   ]
  },
  {
   "cell_type": "markdown",
   "id": "86d0ebb6-b9d9-47e3-8e2b-542237fce9e2",
   "metadata": {},
   "source": [
    "#### Nested Loops"
   ]
  },
  {
   "cell_type": "code",
   "execution_count": 48,
   "id": "077f4595-c841-496a-9cf2-9a03a41cb432",
   "metadata": {},
   "outputs": [
    {
     "name": "stdout",
     "output_type": "stream",
     "text": [
      "Visit Doctor...\n",
      "Day - 1: Good morning...\n",
      "Day No. - 9 and medicine No. - 1...\n",
      "Day No. - 9 and medicine No. - 2...\n",
      "Day No. - 9 and medicine No. - 3...\n",
      "Day - 1: Good night...\n",
      "------------------------------------------------------------\n",
      "Day - 2: Good morning...\n",
      "Day No. - 9 and medicine No. - 1...\n",
      "Day No. - 9 and medicine No. - 2...\n",
      "Day No. - 9 and medicine No. - 3...\n",
      "Day - 2: Good night...\n",
      "------------------------------------------------------------\n",
      "Day - 3: Good morning...\n",
      "Day No. - 9 and medicine No. - 1...\n",
      "Day No. - 9 and medicine No. - 2...\n",
      "Day No. - 9 and medicine No. - 3...\n",
      "Day - 3: Good night...\n",
      "------------------------------------------------------------\n",
      "Day - 4: Good morning...\n",
      "Day No. - 9 and medicine No. - 1...\n",
      "Day No. - 9 and medicine No. - 2...\n",
      "Day No. - 9 and medicine No. - 3...\n",
      "Day - 4: Good night...\n",
      "------------------------------------------------------------\n",
      "Day - 5: Good morning...\n",
      "Day No. - 9 and medicine No. - 1...\n",
      "Day No. - 9 and medicine No. - 2...\n",
      "Day No. - 9 and medicine No. - 3...\n",
      "Day - 5: Good night...\n",
      "------------------------------------------------------------\n",
      "So total number of medicine consumed is 15...\n",
      "Thanks to Doctor..\n"
     ]
    }
   ],
   "source": [
    "print (\"Visit Doctor...\")   # 1 time\n",
    "medicount = 0\n",
    "for day in range(1, 6):\n",
    "    print (f\"Day - {day}: Good morning...\")   # 5 times\n",
    "    for medi in range(1, 4):\n",
    "        print (f\"Day No. - {i} and medicine No. - {medi}...\")   # 15 times\n",
    "        medicount += 1\n",
    "    print (f\"Day - {day}: Good night...\")   # 5 times\n",
    "    print (\"------------------------------------------------------------\")   # 5 times\n",
    "print (f\"So total number of medicine consumed is {medicount}...\")\n",
    "print (\"Thanks to Doctor..\")   # 1 time"
   ]
  },
  {
   "cell_type": "code",
   "execution_count": null,
   "id": "bc4c4600-1da2-4d7f-a118-45bd1943281c",
   "metadata": {},
   "outputs": [],
   "source": [
    "# rewrite the above code with only nested while loop constructs."
   ]
  },
  {
   "cell_type": "code",
   "execution_count": 2,
   "id": "f0baec29-4ebf-4f52-a063-55c114330671",
   "metadata": {},
   "outputs": [
    {
     "name": "stdout",
     "output_type": "stream",
     "text": [
      "Visit Doctor...\n",
      "Day - 1: Good morning...\n",
      "Day No. - 1 and medicine No. - 1...\n",
      "Day No. - 1 and medicine No. - 2...\n",
      "Day No. - 1 and medicine No. - 3...\n",
      "Day - 1: Good night...\n",
      "------------------------------------------------------------\n",
      "Day - 2: Good morning...\n",
      "Day No. - 2 and medicine No. - 1...\n",
      "Day No. - 2 and medicine No. - 2...\n",
      "Day No. - 2 and medicine No. - 3...\n",
      "Day - 2: Good night...\n",
      "------------------------------------------------------------\n",
      "Day - 3: Good morning...\n",
      "Day No. - 3 and medicine No. - 1...\n",
      "Day No. - 3 and medicine No. - 2...\n",
      "Day No. - 3 and medicine No. - 3...\n",
      "Day - 3: Good night...\n",
      "------------------------------------------------------------\n",
      "Day - 4: Good morning...\n",
      "Day No. - 4 and medicine No. - 1...\n",
      "Day No. - 4 and medicine No. - 2...\n",
      "Day No. - 4 and medicine No. - 3...\n",
      "Day - 4: Good night...\n",
      "------------------------------------------------------------\n",
      "Day - 5: Good morning...\n",
      "Day No. - 5 and medicine No. - 1...\n",
      "Day No. - 5 and medicine No. - 2...\n",
      "Day No. - 5 and medicine No. - 3...\n",
      "Day - 5: Good night...\n",
      "------------------------------------------------------------\n",
      "So total number of medicine consumed is 15...\n",
      "Thanks to Doctor..\n"
     ]
    }
   ],
   "source": [
    "print (\"Visit Doctor...\")   # 1 time\n",
    "medicount = 0\n",
    "day = 1\n",
    "while (day <= 5):\n",
    "    print (f\"Day - {day}: Good morning...\")   # 5 times\n",
    "    medi = 1\n",
    "    while (medi <= 3):\n",
    "        print (f\"Day No. - {day} and medicine No. - {medi}...\")   # 15 times\n",
    "        medicount += 1\n",
    "        medi += 1\n",
    "    print (f\"Day - {day}: Good night...\")   # 5 times\n",
    "    print (\"------------------------------------------------------------\")   # 5 times\n",
    "    day += 1\n",
    "print (f\"So total number of medicine consumed is {medicount}...\")\n",
    "print (\"Thanks to Doctor..\")   # 1 time"
   ]
  },
  {
   "cell_type": "markdown",
   "id": "a1cfc062-07f5-4fa3-a3db-7cff855a1c06",
   "metadata": {},
   "source": [
    "#### Expression Evaluation"
   ]
  },
  {
   "cell_type": "code",
   "execution_count": 3,
   "id": "737ba687-212a-41f9-a864-58c7364cf49c",
   "metadata": {},
   "outputs": [
    {
     "name": "stdin",
     "output_type": "stream",
     "text": [
      "Please enter your expression:  100 + (2 * 3 + 500) * 10\n"
     ]
    },
    {
     "name": "stdout",
     "output_type": "stream",
     "text": [
      "myexpr = 100 + (2 * 3 + 500) * 10...\n",
      "Result against the expression 100 + (2 * 3 + 500) * 10 is 5160...\n",
      "End of the program...\n"
     ]
    }
   ],
   "source": [
    "myexpr = input(\"Please enter your expression: \")\n",
    "print (f\"myexpr = {myexpr}...\")\n",
    "result = eval(myexpr)\n",
    "print (f\"Result against the expression {myexpr} is {result}...\")\n",
    "print (\"End of the program...\")"
   ]
  },
  {
   "cell_type": "markdown",
   "id": "6d54344a-3832-4835-aced-47a98d9ef9e3",
   "metadata": {},
   "source": [
    "#### Python Inbuilt Collection Class Objects"
   ]
  },
  {
   "cell_type": "code",
   "execution_count": 11,
   "id": "e5d619bf-1281-4f8a-bb65-038bf50ee44e",
   "metadata": {},
   "outputs": [
    {
     "name": "stdout",
     "output_type": "stream",
     "text": [
      "[100, 2.45, True, 'Food', False, 'Banana', 'Food', 100] 8 <class 'list'> 2276158086976\n",
      "(100, 2.45, True, 'Food', False, 'Banana', 'Food', 100) 8 <class 'tuple'> 2276162847568\n",
      "{False, True, 2.45, 100, 'Banana', 'Food'} 6 <class 'set'> 2276156606496\n",
      "frozenset({False, True, 2.45, 100, 'Banana', 'Food'}) 6 <class 'frozenset'> 2276154458848\n",
      "{'mango': 200, 'banana': 400, 'orange': 75, 'pineapple': 400} 4 <class 'dict'> 2276126124736\n"
     ]
    }
   ],
   "source": [
    "list1 = [100, 2.45, True, \"Food\", False, \"Banana\", \"Food\", 100]\n",
    "print (list1, len(list1), type(list1), id(list1))\n",
    "tuple1 = (100, 2.45, True, \"Food\", False, \"Banana\", \"Food\", 100)\n",
    "print (tuple1, len(tuple1), type(tuple1), id(tuple1))\n",
    "set1 = {100, 2.45, True, \"Food\", False, \"Banana\", \"Food\", 100}\n",
    "print (set1, len(set1), type(set1), id(set1))\n",
    "fset1 = frozenset([100, 2.45, True, \"Food\", False, \"Banana\", \"Food\", 100])\n",
    "print (fset1, len(fset1), type(fset1), id(fset1))\n",
    "dict1 = {\"mango\":100, \"banana\":400, \"orange\":75, \"mango\":200, \"pineapple\":400}\n",
    "print (dict1, len(dict1), type(dict1), id(dict1))"
   ]
  },
  {
   "cell_type": "code",
   "execution_count": null,
   "id": "5ff52cfc-c7d6-49aa-8060-753e721976ed",
   "metadata": {},
   "outputs": [],
   "source": []
  },
  {
   "cell_type": "code",
   "execution_count": null,
   "id": "5a744cdf-c7ab-4296-8587-50f2bbbf4217",
   "metadata": {},
   "outputs": [],
   "source": []
  },
  {
   "cell_type": "code",
   "execution_count": null,
   "id": "a95ed6df-2e50-4712-9816-0f694ae78671",
   "metadata": {},
   "outputs": [],
   "source": []
  },
  {
   "cell_type": "code",
   "execution_count": null,
   "id": "e1d5a72b-6be2-4bb2-b421-7d8e5b8636eb",
   "metadata": {},
   "outputs": [],
   "source": []
  },
  {
   "cell_type": "code",
   "execution_count": null,
   "id": "2a70b476-4e02-437b-b80a-702eafdb7ec7",
   "metadata": {},
   "outputs": [],
   "source": []
  },
  {
   "cell_type": "code",
   "execution_count": null,
   "id": "3664d2a1-df22-4d3c-8048-f26fd1d59c1a",
   "metadata": {},
   "outputs": [],
   "source": []
  },
  {
   "cell_type": "code",
   "execution_count": null,
   "id": "0dfe94f8-0d19-40d7-8c86-c653e7b4dfe8",
   "metadata": {},
   "outputs": [],
   "source": []
  },
  {
   "cell_type": "code",
   "execution_count": null,
   "id": "ca2a7fda-cfe1-4e17-9cba-91b9de4ac6c8",
   "metadata": {},
   "outputs": [],
   "source": []
  },
  {
   "cell_type": "code",
   "execution_count": null,
   "id": "361c023c-5d27-4a3d-b1ba-cd726d5d0b14",
   "metadata": {},
   "outputs": [],
   "source": []
  },
  {
   "cell_type": "code",
   "execution_count": null,
   "id": "1d24cd85-23ce-4748-bc96-02df4000ede0",
   "metadata": {},
   "outputs": [],
   "source": []
  },
  {
   "cell_type": "code",
   "execution_count": null,
   "id": "8df91304-644b-40d4-9162-82086b4707b2",
   "metadata": {},
   "outputs": [],
   "source": []
  },
  {
   "cell_type": "code",
   "execution_count": null,
   "id": "124eff20-249e-4258-92bf-ba20c1c0c078",
   "metadata": {},
   "outputs": [],
   "source": []
  },
  {
   "cell_type": "code",
   "execution_count": null,
   "id": "33fc7edc-65af-430b-b5f4-3f5a4e0314c1",
   "metadata": {},
   "outputs": [],
   "source": []
  }
 ],
 "metadata": {
  "kernelspec": {
   "display_name": "Python 3 (ipykernel)",
   "language": "python",
   "name": "python3"
  },
  "language_info": {
   "codemirror_mode": {
    "name": "ipython",
    "version": 3
   },
   "file_extension": ".py",
   "mimetype": "text/x-python",
   "name": "python",
   "nbconvert_exporter": "python",
   "pygments_lexer": "ipython3",
   "version": "3.10.9"
  }
 },
 "nbformat": 4,
 "nbformat_minor": 5
}
