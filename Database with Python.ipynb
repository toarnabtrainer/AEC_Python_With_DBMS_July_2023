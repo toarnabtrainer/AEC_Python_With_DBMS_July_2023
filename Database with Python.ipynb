{
 "cells": [
  {
   "cell_type": "markdown",
   "id": "9ced21cf-3936-4756-a668-e7424496dd46",
   "metadata": {},
   "source": [
    "### **Database with Python**"
   ]
  },
  {
   "cell_type": "code",
   "execution_count": 10,
   "id": "abb9ab49-e25f-498d-9e6b-f040812f09d6",
   "metadata": {},
   "outputs": [],
   "source": [
    "# SQLite database is inbuilt in Python.\n",
    "# And it is the light weight version of the MySQL."
   ]
  },
  {
   "cell_type": "code",
   "execution_count": 11,
   "id": "8505f5a9-2d40-435e-96cf-99543e96d9df",
   "metadata": {},
   "outputs": [],
   "source": [
    "# importing the required modules\n",
    "import sqlite3"
   ]
  },
  {
   "cell_type": "code",
   "execution_count": 12,
   "id": "373dab02-8566-44b2-b7eb-2d81c8a62348",
   "metadata": {},
   "outputs": [
    {
     "name": "stdout",
     "output_type": "stream",
     "text": [
      "Connected with the database successfully...\n"
     ]
    }
   ],
   "source": [
    "# creating a database\n",
    "# use the database if it already exists or create a new one\n",
    "try:\n",
    "    connection = sqlite3.connect(\"myemp.db\")\n",
    "    print (\"Connected with the database successfully...\")\n",
    "except:\n",
    "    print (\"There are some connectivity error...\")\n",
    "    print (\"Database could not get connected...\")"
   ]
  },
  {
   "cell_type": "code",
   "execution_count": null,
   "id": "d8a3fa09-4c7a-4b13-b5d7-74cb8c9276df",
   "metadata": {},
   "outputs": [],
   "source": [
    "SQLite manager online link:\n",
    "https://extendsclass.com/sqlite-browser.html\n",
    "\n",
    "Data files are mainly of following types:\n",
    "* csv (Comma Separated Values)\n",
    "* tsv (Tab Separated Values)\n",
    "* XML (Extensible Markup Language)\n",
    "* JSON (Java Script Object Notation)"
   ]
  },
  {
   "cell_type": "code",
   "execution_count": 6,
   "id": "23efae72-b7f6-4ec4-942e-cd4e38477695",
   "metadata": {},
   "outputs": [
    {
     "name": "stdout",
     "output_type": "stream",
     "text": [
      "Database table has been created successfully\n"
     ]
    }
   ],
   "source": [
    "# create employee table as employee(emp_id, emp_name, emp_city, emp_salary)\n",
    "sqlStr = '''\n",
    "            CREATE TABLE employee (\n",
    "                emp_id INTEGER PRIMARY KEY,\n",
    "                emp_name TEXT,\n",
    "                city TEXT,\n",
    "                salary REAL\n",
    "            );\n",
    "         '''\n",
    "try:   # create the table if it does not pre-exist\n",
    "    connection.execute(sqlStr)\n",
    "    print (\"Database table has been created successfully\")\n",
    "except:\n",
    "    print (\"Error !!! Table could not be created...\")"
   ]
  },
  {
   "cell_type": "code",
   "execution_count": 15,
   "id": "e7dda2ca-6855-4a28-8743-27b307d25b42",
   "metadata": {},
   "outputs": [
    {
     "name": "stdout",
     "output_type": "stream",
     "text": [
      "[['1001', 'Dhiman', 'Kolkata', '39000'], ['1002', 'Anupam', 'Kolkata', '25000'], ['1003', 'Subham', 'Mumbai', '36000'], ['1004', 'Dinesh', 'Chennai', '28000'], ['1005', 'Kakali', 'Mumbai', '25000'], ['1006', 'Bimal', 'Hyderabad', '30000'], ['1007', 'Tarun', 'Chennai', '17000'], ['1008', 'Rittik', 'Durgapur', '45000'], ['1009', 'Barun', 'Hyderabad', '39000'], ['1010', 'Utpal', 'Lucknow', '20000']]\n"
     ]
    }
   ],
   "source": [
    "# inserting records from the csv file and writing it to the database employee table\n",
    "import csv   # importing module to read the csv file content\n",
    "# read the csv file content and string them into the table\n",
    "# with open(\"C:\\\\Users\\Arnab\\AEC Python with DBMS July 2023\\emp_data.csv\") as data_file:\n",
    "# with open(\"C:\\\\Users\\\\Arnab\\\\AEC Python with DBMS July 2023\\\\emp_data.csv\") as data_file:\n",
    "# with open(\"C:/Users/Arnab/AEC Python with DBMS July 2023/emp_data.csv\") as data_file:\n",
    "# with open(\"C:\\\\Users\\\\Arnab\\\\AEC Python with DBMS July 2023\\\\emp_data.csv\") as data_file:\n",
    "# with open(\"C:\\\\Users\\Arnab\\AEC Python with DBMS July 2023//emp_data.csv\") as data_file:    \n",
    "with open(\"emp_data.csv\") as data_file:\n",
    "    csv_reader = csv.reader(data_file)\n",
    "    print (list(csv_reader))"
   ]
  },
  {
   "cell_type": "code",
   "execution_count": 25,
   "id": "45b1f73b-ad27-48a9-9626-27f989e49464",
   "metadata": {},
   "outputs": [
    {
     "name": "stdout",
     "output_type": "stream",
     "text": [
      "[['1001', 'Dhiman', 'Kolkata', '39000'], ['1002', 'Anupam', 'Kolkata', '25000'], ['1003', 'Subham', 'Mumbai', '36000'], ['1004', 'Dinesh', 'Chennai', '28000'], ['1005', 'Kakali', 'Mumbai', '25000'], ['1006', 'Bimal', 'Hyderabad', '30000'], ['1007', 'Tarun', 'Chennai', '17000'], ['1008', 'Rittik', 'Durgapur', '45000'], ['1009', 'Barun', 'Hyderabad', '39000'], ['1010', 'Utpal', 'Lucknow', '20000']]\n",
      "0\n",
      "[]\n"
     ]
    }
   ],
   "source": [
    "# inserting records from the csv file and writing it to the database employee table\n",
    "import csv   # importing module to read the csv file content\n",
    "with open(\"emp_data.csv\") as data_file:\n",
    "    csv_reader = csv.reader(data_file)\n",
    "    print (list(csv_reader))\n",
    "    print (len(list(csv_reader)))\n",
    "    print (list(csv_reader))"
   ]
  },
  {
   "cell_type": "code",
   "execution_count": 26,
   "id": "8199cbff-45fa-4bb7-95be-d7487c84a4e0",
   "metadata": {},
   "outputs": [
    {
     "name": "stdout",
     "output_type": "stream",
     "text": [
      "EmpID: 1001, EmpName: Dhiman, EmpLoc: Kolkata, EmpSal: 39000...\n",
      "EmpID: 1002, EmpName: Anupam, EmpLoc: Kolkata, EmpSal: 25000...\n",
      "EmpID: 1003, EmpName: Subham, EmpLoc: Mumbai, EmpSal: 36000...\n",
      "EmpID: 1004, EmpName: Dinesh, EmpLoc: Chennai, EmpSal: 28000...\n",
      "EmpID: 1005, EmpName: Kakali, EmpLoc: Mumbai, EmpSal: 25000...\n",
      "EmpID: 1006, EmpName: Bimal, EmpLoc: Hyderabad, EmpSal: 30000...\n",
      "EmpID: 1007, EmpName: Tarun, EmpLoc: Chennai, EmpSal: 17000...\n",
      "EmpID: 1008, EmpName: Rittik, EmpLoc: Durgapur, EmpSal: 45000...\n",
      "EmpID: 1009, EmpName: Barun, EmpLoc: Hyderabad, EmpSal: 39000...\n",
      "EmpID: 1010, EmpName: Utpal, EmpLoc: Lucknow, EmpSal: 20000...\n"
     ]
    }
   ],
   "source": [
    "# inserting records from the csv file and writing it to the database employee table\n",
    "import csv   # importing module to read the csv file content\n",
    "with open(\"emp_data.csv\") as data_file:\n",
    "    csv_reader = csv.reader(data_file)\n",
    "    for rec in csv_reader:\n",
    "        print (f\"EmpID: {rec[0]}, EmpName: {rec[1]}, EmpLoc: {rec[2]}, EmpSal: {rec[3]}...\")"
   ]
  },
  {
   "cell_type": "code",
   "execution_count": 28,
   "id": "600615c4-b1ad-40ea-b1ac-efb716e5cac2",
   "metadata": {},
   "outputs": [
    {
     "name": "stdout",
     "output_type": "stream",
     "text": [
      "['1001', 'Dhiman', 'Kolkata', '39000']\n",
      "['1002', 'Anupam', 'Kolkata', '25000']\n",
      "['1003', 'Subham', 'Mumbai', '36000']\n",
      "['1004', 'Dinesh', 'Chennai', '28000']\n",
      "['1005', 'Kakali', 'Mumbai', '25000']\n",
      "['1006', 'Bimal', 'Hyderabad', '30000']\n",
      "['1007', 'Tarun', 'Chennai', '17000']\n",
      "['1008', 'Rittik', 'Durgapur', '45000']\n",
      "['1009', 'Barun', 'Hyderabad', '39000']\n",
      "['1010', 'Utpal', 'Lucknow', '20000']\n",
      "All date are inserted successfully...\n"
     ]
    }
   ],
   "source": [
    "# inserting records from the csv file and writing it to the database employee table\n",
    "import csv   # importing module to read the csv file content\n",
    "\n",
    "SqlStr = \"INSERT INTO employee VALUES('{emp_id}', '{emp_name}', '{emp_loc}', '{emp_salary}');\"\n",
    "\n",
    "with open(\"emp_data.csv\") as data_file:\n",
    "    csv_reader = csv.reader(data_file)\n",
    "    for row in csv_reader:\n",
    "        print (row)\n",
    "        connection.execute(SqlStr.format(emp_id = row[0], emp_name = row[1], emp_loc = row[2], emp_salary = row[3]))\n",
    "connection.commit()    # to make the change permanent\n",
    "print (\"All date are inserted successfully...\")"
   ]
  },
  {
   "cell_type": "code",
   "execution_count": 31,
   "id": "95768c7d-9bef-4421-a7f5-d43ebb9ba259",
   "metadata": {},
   "outputs": [
    {
     "name": "stdout",
     "output_type": "stream",
     "text": [
      "EmpID: 1001, EmpName: Dhiman, EmpLoc: Kolkata, EmpSal: 39000.0...\n",
      "EmpID: 1002, EmpName: Anupam, EmpLoc: Kolkata, EmpSal: 25000.0...\n",
      "EmpID: 1003, EmpName: Subham, EmpLoc: Mumbai, EmpSal: 36000.0...\n",
      "EmpID: 1004, EmpName: Dinesh, EmpLoc: Chennai, EmpSal: 28000.0...\n",
      "EmpID: 1005, EmpName: Kakali, EmpLoc: Mumbai, EmpSal: 25000.0...\n",
      "EmpID: 1006, EmpName: Bimal, EmpLoc: Hyderabad, EmpSal: 30000.0...\n",
      "EmpID: 1007, EmpName: Tarun, EmpLoc: Chennai, EmpSal: 17000.0...\n",
      "EmpID: 1008, EmpName: Rittik, EmpLoc: Durgapur, EmpSal: 45000.0...\n",
      "EmpID: 1009, EmpName: Barun, EmpLoc: Hyderabad, EmpSal: 39000.0...\n",
      "EmpID: 1010, EmpName: Utpal, EmpLoc: Lucknow, EmpSal: 20000.0...\n"
     ]
    }
   ],
   "source": [
    "# retrieving records from the database table\n",
    "# SQL for fetching all records from the table\n",
    "SqlStr = \"SELECT * FROM employee;\"    # * means retrieving all attributes from the table\n",
    "# read from table and point the cursor into the variable cur_table\n",
    "cur_table = connection.execute(SqlStr)\n",
    "for row in cur_table:\n",
    "    print (f\"EmpID: {row[0]}, EmpName: {row[1]}, EmpLoc: {row[2]}, EmpSal: {row[3]}...\")"
   ]
  },
  {
   "cell_type": "code",
   "execution_count": 32,
   "id": "34e9f612-9efe-4362-b6ee-e507e64b2b84",
   "metadata": {},
   "outputs": [
    {
     "name": "stdout",
     "output_type": "stream",
     "text": [
      "EmpID: 1001, EmpName: Dhiman and EmpLoc: Kolkata...\n",
      "EmpID: 1002, EmpName: Anupam and EmpLoc: Kolkata...\n",
      "EmpID: 1003, EmpName: Subham and EmpLoc: Mumbai...\n",
      "EmpID: 1004, EmpName: Dinesh and EmpLoc: Chennai...\n",
      "EmpID: 1005, EmpName: Kakali and EmpLoc: Mumbai...\n",
      "EmpID: 1006, EmpName: Bimal and EmpLoc: Hyderabad...\n",
      "EmpID: 1007, EmpName: Tarun and EmpLoc: Chennai...\n",
      "EmpID: 1008, EmpName: Rittik and EmpLoc: Durgapur...\n",
      "EmpID: 1009, EmpName: Barun and EmpLoc: Hyderabad...\n",
      "EmpID: 1010, EmpName: Utpal and EmpLoc: Lucknow...\n"
     ]
    }
   ],
   "source": [
    "# retrieving records from the database table\n",
    "# SQL for fetching all records from the table\n",
    "SqlStr = \"SELECT emp_id, emp_name, city FROM employee;\"\n",
    "# read from table and point the cursor into the variable cur_table\n",
    "cur_table = connection.execute(SqlStr)\n",
    "for row in cur_table:\n",
    "    print (f\"EmpID: {row[0]}, EmpName: {row[1]} and EmpLoc: {row[2]}...\")"
   ]
  },
  {
   "cell_type": "code",
   "execution_count": null,
   "id": "7380a9de-d5b2-4eef-8aa1-64744f25542d",
   "metadata": {},
   "outputs": [],
   "source": [
    "SQLite practice queries on Extendsclass portal:\n",
    "select emp_id, salary, salary*0.10 tax from employee;\n",
    "\n",
    "select * from employee\n",
    "where city = 'Kolkata';\n",
    "\n",
    "select max(salary) max_sal, min(salary) min_sal, avg(salary) avg_sal, count(salary) cnt_sal, sum(salary) tot_sal from employee;\n",
    "\n",
    "-- Give the details of that employee getting maximum salary\n",
    "select * from employee where salary =\n",
    "\t(select max(salary) from employee);\n",
    "    \n",
    "-- Give the details of those employees getting salary greater than average salary of all employees\n",
    "select * from employee where salary > (select avg(salary) from employee);\n",
    "\n",
    "--Delete record where empid is '1008'\n",
    "delete from employee where emp_id=1008;\n",
    "\n",
    "select * from employee;"
   ]
  },
  {
   "cell_type": "markdown",
   "id": "6652f769-52d3-4ebe-bcdc-0b00696fe281",
   "metadata": {},
   "source": [
    "#### Special Query - 1"
   ]
  },
  {
   "cell_type": "code",
   "execution_count": 34,
   "id": "6d01a72e-e99a-41e6-84c1-b928cfcb5d92",
   "metadata": {},
   "outputs": [
    {
     "name": "stdout",
     "output_type": "stream",
     "text": [
      "Emp-Name: Dhiman and Emp-Salary: 39000.0...\n",
      "Emp-Name: Subham and Emp-Salary: 36000.0...\n",
      "Emp-Name: Rittik and Emp-Salary: 45000.0...\n",
      "Emp-Name: Barun and Emp-Salary: 39000.0...\n"
     ]
    }
   ],
   "source": [
    "# Write SQL query which will fetch employee name and employee salary of those employees whose salary is\n",
    "# greater than 30,000\n",
    "SqlStr = '''SELECT emp_name, salary\n",
    "            FROM employee \n",
    "            WHERE salary > 30000;'''\n",
    "# read from the database table and point the cursor into the variable cur_table\n",
    "cur_table = connection.execute(SqlStr)\n",
    "for row in cur_table:\n",
    "    print (f\"Emp-Name: {row[0]} and Emp-Salary: {row[1]}...\")"
   ]
  },
  {
   "cell_type": "markdown",
   "id": "8788cf56-90ca-47db-8ebd-89896c0d22c3",
   "metadata": {},
   "source": [
    "#### Special Query - 2"
   ]
  },
  {
   "cell_type": "code",
   "execution_count": 3,
   "id": "7e03280b-870e-4d67-9ef1-b8d7be95b753",
   "metadata": {},
   "outputs": [
    {
     "name": "stdout",
     "output_type": "stream",
     "text": [
      "Emp-Name: Dhiman, Emp-Location: Kolkata and Emp-Salary: 39000.0...\n",
      "Emp-Name: Subham, Emp-Location: Mumbai and Emp-Salary: 36000.0...\n",
      "Emp-Name: Bimal, Emp-Location: Hyderabad and Emp-Salary: 30000.0...\n",
      "Emp-Name: Barun, Emp-Location: Hyderabad and Emp-Salary: 39000.0...\n"
     ]
    }
   ],
   "source": [
    "# Write SQL query which will fetch employee name, location and employee salary \n",
    "# of those employees whose salary is in between 30,000 to 40,000 inclusive\n",
    "# of the limits\n",
    "SqlStr = '''SELECT emp_name, city, salary\n",
    "            FROM employee \n",
    "            WHERE salary >= 30000\n",
    "              AND salary <= 40000;'''\n",
    "# read from the database table and point the cursor into the variable cur_table\n",
    "cur_table = connection.execute(SqlStr)\n",
    "for row in cur_table:\n",
    "    print (f\"Emp-Name: {row[0]}, Emp-Location: {row[1]} and Emp-Salary: {row[2]}...\")"
   ]
  },
  {
   "cell_type": "markdown",
   "id": "06b0e426-e8b8-4ad5-aedd-a8be19bf3af6",
   "metadata": {},
   "source": [
    "#### Special Query - 3"
   ]
  },
  {
   "cell_type": "code",
   "execution_count": null,
   "id": "bd388b80",
   "metadata": {},
   "outputs": [],
   "source": [
    "# Fetch employee name, salary and 10% TDS against salaries of\n",
    "# all employees and display them\n",
    "SqlStr = \"SELECT emp_name, salary, salary * 0.10 from employee;\"\n",
    "# read from the database table and point the cursor into the variable\n",
    "# cur_table\n",
    "cur_table = connection.execute(SqlStr)\n",
    "for row in cur_table:\n",
    "    print (f\"Emp-Name: {row[0]}, Emp-Salary: {row[1]} and TDS: {row[2]}...\")"
   ]
  },
  {
   "cell_type": "code",
   "execution_count": null,
   "id": "2830366d",
   "metadata": {},
   "outputs": [],
   "source": [
    "Generic SQL Structure:\n",
    "----------------------\n",
    "SELECT city, AVG(salary)\n",
    "FROM employee\n",
    "WHERE salary > 20000\n",
    "GROUP BY city\n",
    "HAVING AVG(salary) > 30000\n",
    "ORDER BY city;"
   ]
  },
  {
   "cell_type": "markdown",
   "id": "1ce08b41",
   "metadata": {},
   "source": [
    "#### Special Query - 4"
   ]
  },
  {
   "cell_type": "code",
   "execution_count": 5,
   "id": "23d30373-d9a6-4a7d-ad18-557fc6cff9eb",
   "metadata": {},
   "outputs": [
    {
     "name": "stdout",
     "output_type": "stream",
     "text": [
      "EmpCity: Chennai and EmpAvgSalary: 22500.0...\n",
      "EmpCity: Durgapur and EmpAvgSalary: 45000.0...\n",
      "EmpCity: Hyderabad and EmpAvgSalary: 34500.0...\n",
      "EmpCity: Kolkata and EmpAvgSalary: 32000.0...\n",
      "EmpCity: Lucknow and EmpAvgSalary: 20000.0...\n",
      "EmpCity: Mumbai and EmpAvgSalary: 30500.0...\n"
     ]
    }
   ],
   "source": [
    "# Display city wise average salaries of all employees from the employee table\n",
    "SqlStr = \"SELECT city, avg(salary) from employee GROUP BY city;\"\n",
    "# read from database table and point the cursor into the variable cur_table\n",
    "cur_table = connection.execute(SqlStr)\n",
    "for row in cur_table:\n",
    "    print (f\"EmpCity: {row[0]} and EmpAvgSalary: {row[1]}...\")"
   ]
  },
  {
   "cell_type": "code",
   "execution_count": 6,
   "id": "270544e5-f0c2-49fb-bb1a-fde8aa7a51a0",
   "metadata": {},
   "outputs": [
    {
     "name": "stdout",
     "output_type": "stream",
     "text": [
      "EmpCity: Chennai and EmpAvgSalary: 22500.0...\n",
      "EmpCity: Durgapur and EmpAvgSalary: 45000.0...\n",
      "EmpCity: Hyderabad and EmpAvgSalary: 34500.0...\n",
      "EmpCity: Kolkata and EmpAvgSalary: 32000.0...\n",
      "EmpCity: Lucknow and EmpAvgSalary: 20000.0...\n",
      "EmpCity: Mumbai and EmpAvgSalary: 30500.0...\n"
     ]
    }
   ],
   "source": [
    "# Display city wise average salaries of all employees from the employee table\n",
    "SqlStr = \"SELECT city, avg(salary) from employee GROUP BY city ORDER BY city ASC;\"\n",
    "# read from database table and point the cursor into the variable cur_table\n",
    "cur_table = connection.execute(SqlStr)\n",
    "for row in cur_table:\n",
    "    print (f\"EmpCity: {row[0]} and EmpAvgSalary: {row[1]}...\")"
   ]
  },
  {
   "cell_type": "code",
   "execution_count": 7,
   "id": "478a0398-f2f5-4dcf-a2ab-c41e79c1fabf",
   "metadata": {},
   "outputs": [
    {
     "name": "stdout",
     "output_type": "stream",
     "text": [
      "EmpCity: Mumbai and EmpAvgSalary: 30500.0...\n",
      "EmpCity: Lucknow and EmpAvgSalary: 20000.0...\n",
      "EmpCity: Kolkata and EmpAvgSalary: 32000.0...\n",
      "EmpCity: Hyderabad and EmpAvgSalary: 34500.0...\n",
      "EmpCity: Durgapur and EmpAvgSalary: 45000.0...\n",
      "EmpCity: Chennai and EmpAvgSalary: 22500.0...\n"
     ]
    }
   ],
   "source": [
    "# Display city wise average salaries of all employees from the employee table\n",
    "SqlStr = \"SELECT city, avg(salary) from employee GROUP BY city ORDER BY city DESC;\"\n",
    "# read from database table and point the cursor into the variable cur_table\n",
    "cur_table = connection.execute(SqlStr)\n",
    "for row in cur_table:\n",
    "    print (f\"EmpCity: {row[0]} and EmpAvgSalary: {row[1]}...\")"
   ]
  },
  {
   "cell_type": "code",
   "execution_count": 8,
   "id": "f32b9c92-3722-4476-9f7a-6762badb6285",
   "metadata": {},
   "outputs": [
    {
     "name": "stdout",
     "output_type": "stream",
     "text": [
      "So the number of records got deleted is 2...\n",
      "Emp-ID: 1003, Emp-Name: Subham, Emp-City: Mumbai and Emp-Salary: 36000.0...\n",
      "Emp-ID: 1004, Emp-Name: Dinesh, Emp-City: Chennai and Emp-Salary: 28000.0...\n",
      "Emp-ID: 1005, Emp-Name: Kakali, Emp-City: Mumbai and Emp-Salary: 25000.0...\n",
      "Emp-ID: 1006, Emp-Name: Bimal, Emp-City: Hyderabad and Emp-Salary: 30000.0...\n",
      "Emp-ID: 1007, Emp-Name: Tarun, Emp-City: Chennai and Emp-Salary: 17000.0...\n",
      "Emp-ID: 1008, Emp-Name: Rittik, Emp-City: Durgapur and Emp-Salary: 45000.0...\n",
      "Emp-ID: 1009, Emp-Name: Barun, Emp-City: Hyderabad and Emp-Salary: 39000.0...\n",
      "Emp-ID: 1010, Emp-Name: Utpal, Emp-City: Lucknow and Emp-Salary: 20000.0...\n"
     ]
    }
   ],
   "source": [
    "# deleting records from the employee table\n",
    "# delete those records where employee city = \"Kolkata\"\n",
    "SqlStr = \"DELETE FROM employee WHERE city = 'Kolkata';\"\n",
    "table = connection.execute(SqlStr)\n",
    "connection.commit()   # to make the change permanent\n",
    "print (f\"So the number of records got deleted is {table.rowcount}...\")\n",
    "\n",
    "# after deletion displaying the updated content of the employee database table\n",
    "# read from the database table and point the cursor into the variable cur_table\n",
    "# SQL query to display all records of the employee database table\n",
    "SqlStr = \"SELECT * FROM employee;\"\n",
    "cur_table = connection.execute(SqlStr)\n",
    "for row in cur_table:\n",
    "    print(f\"Emp-ID: {row[0]}, Emp-Name: {row[1]}, Emp-City: {row[2]} and Emp-Salary: {row[3]}...\")"
   ]
  },
  {
   "cell_type": "code",
   "execution_count": 13,
   "id": "c029b786-ef83-4d66-9151-89d4e6e07dff",
   "metadata": {},
   "outputs": [
    {
     "name": "stdout",
     "output_type": "stream",
     "text": [
      "So the total number of records got updated is 2...\n"
     ]
    }
   ],
   "source": [
    "# update operation on the records of the employee database table\n",
    "# update salary to 30000 where city is 'Chennai'\n",
    "SqlStr = \"UPDATE employee SET salary = 30000 WHERE city = 'Chennai';\"\n",
    "table = connection.execute(SqlStr)\n",
    "connection.commit()    # to make the change permanent"
   ]
  },
  {
   "cell_type": "code",
   "execution_count": 14,
   "id": "1c9f9281-b187-4064-8c5a-a053bd21613c",
   "metadata": {},
   "outputs": [
    {
     "name": "stdout",
     "output_type": "stream",
     "text": [
      "So the total number of records got updated is 2...\n",
      "Emp-ID: 1003, Emp-Name: Subham, Emp-City: Mumbai, Emp-Salary: 36000.0...\n",
      "Emp-ID: 1004, Emp-Name: Dinesh, Emp-City: Chennai, Emp-Salary: 30000.0...\n",
      "Emp-ID: 1005, Emp-Name: Kakali, Emp-City: Mumbai, Emp-Salary: 25000.0...\n",
      "Emp-ID: 1006, Emp-Name: Bimal, Emp-City: Hyderabad, Emp-Salary: 30000.0...\n",
      "Emp-ID: 1007, Emp-Name: Tarun, Emp-City: Chennai, Emp-Salary: 30000.0...\n",
      "Emp-ID: 1008, Emp-Name: Rittik, Emp-City: Durgapur, Emp-Salary: 45000.0...\n",
      "Emp-ID: 1009, Emp-Name: Barun, Emp-City: Hyderabad, Emp-Salary: 39000.0...\n",
      "Emp-ID: 1010, Emp-Name: Utpal, Emp-City: Lucknow, Emp-Salary: 20000.0...\n"
     ]
    }
   ],
   "source": [
    "# now displaying the updated content of the database table\n",
    "# read from the database table and point the cursor into the variable cur_table\n",
    "SqlStr = \"SELECT * FROM employee;\"\n",
    "cur_table = connection.execute(SqlStr)\n",
    "print (f\"So the total number of records got updated is {table.rowcount}...\")\n",
    "# displaying the current content of the employee database table\n",
    "for row in cur_table:\n",
    "    print (f\"Emp-ID: {row[0]}, Emp-Name: {row[1]}, Emp-City: {row[2]}, Emp-Salary: {row[3]}...\")"
   ]
  },
  {
   "cell_type": "markdown",
   "id": "dea0b781",
   "metadata": {},
   "source": [
    "#### Inserting Records from User Keyboard Inputs"
   ]
  },
  {
   "cell_type": "code",
   "execution_count": 15,
   "id": "e2687e3b-ef02-43df-90d4-84456260455f",
   "metadata": {},
   "outputs": [
    {
     "name": "stdout",
     "output_type": "stream",
     "text": [
      "Enter the number of new records: 2\n",
      "Entering input data for records no: 0\n",
      "Enter the employee ID:1011\n",
      "Enter the employee name:Sujoy\n",
      "Enter the employee city:Vododara\n",
      "Enter the employee salary:70000\n",
      "Entering input data for records no: 1\n",
      "Enter the employee ID:1012\n",
      "Enter the employee name:\n",
      "  @media print {\n",
      "    .ms-editor-squiggles-container {\n",
      "      display:none !important;\n",
      "    }\n",
      "  }\n",
      "  .ms-editor-squiggles-container {\n",
      "    all: initial;\n",
      "  }Sudeshna\n",
      "Enter the employee city:Durgapur\n",
      "Enter the employee salary:78000\n",
      "All the user input records got inserted successfully...\n"
     ]
    }
   ],
   "source": [
    "# at first we shall ask user how many records to get inserted\n",
    "# according to the new record count we shall take inputs from the\n",
    "# keyboard and insert records into the database table accordingly\n",
    "n = int(input(\"Enter the number of new records: \"))\n",
    "cursor = connection.cursor()\n",
    "for i in range(n):\n",
    "    print (\"Entering input data for records no:\", i)\n",
    "    emp_id = int(input(\"Enter the employee ID:\"))\n",
    "    emp_name = input(\"Enter the employee name:\")\n",
    "    emp_city = input(\"Enter the employee city:\")\n",
    "    emp_salary = int(input(\"Enter the employee salary:\"))\n",
    "    cursor.execute(\"INSERT INTO employee VALUES(?, ?, ?, ?)\",\n",
    "                                 (emp_id, emp_name, emp_city, emp_salary))\n",
    "connection.commit()\n",
    "print (\"All the user input records got inserted successfully...\")"
   ]
  },
  {
   "cell_type": "code",
   "execution_count": 16,
   "id": "25187e27-eb2f-45e1-a66f-5f2e1425b889",
   "metadata": {},
   "outputs": [
    {
     "name": "stdout",
     "output_type": "stream",
     "text": [
      "Emp-ID: 1003, Emp-Name: Subham, Emp-City: Mumbai, Emp-Salary: 36000.0...\n",
      "Emp-ID: 1004, Emp-Name: Dinesh, Emp-City: Chennai, Emp-Salary: 30000.0...\n",
      "Emp-ID: 1005, Emp-Name: Kakali, Emp-City: Mumbai, Emp-Salary: 25000.0...\n",
      "Emp-ID: 1006, Emp-Name: Bimal, Emp-City: Hyderabad, Emp-Salary: 30000.0...\n",
      "Emp-ID: 1007, Emp-Name: Tarun, Emp-City: Chennai, Emp-Salary: 30000.0...\n",
      "Emp-ID: 1008, Emp-Name: Rittik, Emp-City: Durgapur, Emp-Salary: 45000.0...\n",
      "Emp-ID: 1009, Emp-Name: Barun, Emp-City: Hyderabad, Emp-Salary: 39000.0...\n",
      "Emp-ID: 1010, Emp-Name: Utpal, Emp-City: Lucknow, Emp-Salary: 20000.0...\n",
      "Emp-ID: 1011, Emp-Name: Sujoy, Emp-City: Vododara, Emp-Salary: 70000.0...\n",
      "Emp-ID: 1012, Emp-Name: Sudeshna, Emp-City: Durgapur, Emp-Salary: 78000.0...\n"
     ]
    }
   ],
   "source": [
    "# Displaying the current content of the employee database table\n",
    "SqlStr = \"SELECT emp_id, emp_name, city, salary FROM employee;\"\n",
    "cursor.execute(SqlStr)\n",
    "for row in cursor:\n",
    "    print (f\"Emp-ID: {row[0]}, Emp-Name: {row[1]}, Emp-City: {row[2]}, Emp-Salary: {row[3]}...\")"
   ]
  },
  {
   "cell_type": "code",
   "execution_count": null,
   "id": "1d852658-cd32-4916-9c10-f300bb072f08",
   "metadata": {},
   "outputs": [],
   "source": []
  },
  {
   "cell_type": "code",
   "execution_count": null,
   "id": "969782fb-8a77-4cbb-947b-bf68729d51d2",
   "metadata": {},
   "outputs": [],
   "source": []
  },
  {
   "cell_type": "code",
   "execution_count": null,
   "id": "8905d01c-777f-4f0e-a686-d2309dc5763a",
   "metadata": {},
   "outputs": [],
   "source": []
  },
  {
   "cell_type": "code",
   "execution_count": null,
   "id": "d040687b-ed41-40cb-885c-782b08c4e61f",
   "metadata": {},
   "outputs": [],
   "source": []
  },
  {
   "cell_type": "code",
   "execution_count": null,
   "id": "d48aa2a0-e641-4d11-add0-c0db5a9a5a0b",
   "metadata": {},
   "outputs": [],
   "source": []
  }
 ],
 "metadata": {
  "kernelspec": {
   "display_name": "Python 3 (ipykernel)",
   "language": "python",
   "name": "python3"
  },
  "language_info": {
   "codemirror_mode": {
    "name": "ipython",
    "version": 3
   },
   "file_extension": ".py",
   "mimetype": "text/x-python",
   "name": "python",
   "nbconvert_exporter": "python",
   "pygments_lexer": "ipython3",
   "version": "3.10.9"
  }
 },
 "nbformat": 4,
 "nbformat_minor": 5
}
