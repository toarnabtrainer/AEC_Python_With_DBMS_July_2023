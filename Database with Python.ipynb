{
 "cells": [
  {
   "cell_type": "markdown",
   "id": "9ced21cf-3936-4756-a668-e7424496dd46",
   "metadata": {},
   "source": [
    "### **Database with Python**"
   ]
  },
  {
   "cell_type": "code",
   "execution_count": 3,
   "id": "abb9ab49-e25f-498d-9e6b-f040812f09d6",
   "metadata": {},
   "outputs": [],
   "source": [
    "# SQLite database is inbuilt in Python.\n",
    "# And it is the light weight version of the MySQL."
   ]
  },
  {
   "cell_type": "code",
   "execution_count": 4,
   "id": "8505f5a9-2d40-435e-96cf-99543e96d9df",
   "metadata": {},
   "outputs": [],
   "source": [
    "# importing the required modules\n",
    "import sqlite3"
   ]
  },
  {
   "cell_type": "code",
   "execution_count": 5,
   "id": "373dab02-8566-44b2-b7eb-2d81c8a62348",
   "metadata": {},
   "outputs": [
    {
     "name": "stdout",
     "output_type": "stream",
     "text": [
      "Connected with the database successfully...\n"
     ]
    }
   ],
   "source": [
    "# creating a database\n",
    "# use the database if it already exists or create a new one\n",
    "try:\n",
    "    connection = sqlite3.connect(\"myemp.db\")\n",
    "    print (\"Connected with the database successfully...\")\n",
    "except:\n",
    "    print (\"There are some connectivity error...\")\n",
    "    print (\"Database could not get connected...\")"
   ]
  },
  {
   "cell_type": "code",
   "execution_count": null,
   "id": "d8a3fa09-4c7a-4b13-b5d7-74cb8c9276df",
   "metadata": {},
   "outputs": [],
   "source": [
    "SQLite manager online link:\n",
    "https://extendsclass.com/sqlite-browser.html\n",
    "\n",
    "Data files are mainly of following types:\n",
    "* csv (Comma Separated Values)\n",
    "* tsv (Tab Separated Values)\n",
    "* XML (Extensible Markup Language)\n",
    "* JSON (Java Script Object Notation)"
   ]
  },
  {
   "cell_type": "code",
   "execution_count": 6,
   "id": "23efae72-b7f6-4ec4-942e-cd4e38477695",
   "metadata": {},
   "outputs": [
    {
     "name": "stdout",
     "output_type": "stream",
     "text": [
      "Database table has been created successfully\n"
     ]
    }
   ],
   "source": [
    "# create employee table as employee(emp_id, emp_name, emp_city, emp_salary)\n",
    "sqlStr = '''\n",
    "            CREATE TABLE employee (\n",
    "                emp_id INTEGER PRIMARY KEY,\n",
    "                emp_name TEXT,\n",
    "                city TEXT,\n",
    "                salary REAL\n",
    "            );\n",
    "         '''\n",
    "try:   # create the table if it does not pre-exist\n",
    "    connection.execute(sqlStr)\n",
    "    print (\"Database table has been created successfully\")\n",
    "except:\n",
    "    print (\"Error !!! Table could not be created...\")"
   ]
  },
  {
   "cell_type": "code",
   "execution_count": 15,
   "id": "e7dda2ca-6855-4a28-8743-27b307d25b42",
   "metadata": {},
   "outputs": [
    {
     "name": "stdout",
     "output_type": "stream",
     "text": [
      "[['1001', 'Dhiman', 'Kolkata', '39000'], ['1002', 'Anupam', 'Kolkata', '25000'], ['1003', 'Subham', 'Mumbai', '36000'], ['1004', 'Dinesh', 'Chennai', '28000'], ['1005', 'Kakali', 'Mumbai', '25000'], ['1006', 'Bimal', 'Hyderabad', '30000'], ['1007', 'Tarun', 'Chennai', '17000'], ['1008', 'Rittik', 'Durgapur', '45000'], ['1009', 'Barun', 'Hyderabad', '39000'], ['1010', 'Utpal', 'Lucknow', '20000']]\n"
     ]
    }
   ],
   "source": [
    "# inserting records from the csv file and writing it to the database employee table\n",
    "import csv   # importing module to read the csv file content\n",
    "# read the csv file content and string them into the table\n",
    "# with open(\"C:\\\\Users\\Arnab\\AEC Python with DBMS July 2023\\emp_data.csv\") as data_file:\n",
    "# with open(\"C:\\\\Users\\\\Arnab\\\\AEC Python with DBMS July 2023\\\\emp_data.csv\") as data_file:\n",
    "# with open(\"C:/Users/Arnab/AEC Python with DBMS July 2023/emp_data.csv\") as data_file:\n",
    "# with open(\"C:\\\\Users\\\\Arnab\\\\AEC Python with DBMS July 2023\\\\emp_data.csv\") as data_file:\n",
    "# with open(\"C:\\\\Users\\Arnab\\AEC Python with DBMS July 2023//emp_data.csv\") as data_file:    \n",
    "with open(\"emp_data.csv\") as data_file:\n",
    "    csv_reader = csv.reader(data_file)\n",
    "    print (list(csv_reader))"
   ]
  },
  {
   "cell_type": "code",
   "execution_count": 25,
   "id": "45b1f73b-ad27-48a9-9626-27f989e49464",
   "metadata": {},
   "outputs": [
    {
     "name": "stdout",
     "output_type": "stream",
     "text": [
      "[['1001', 'Dhiman', 'Kolkata', '39000'], ['1002', 'Anupam', 'Kolkata', '25000'], ['1003', 'Subham', 'Mumbai', '36000'], ['1004', 'Dinesh', 'Chennai', '28000'], ['1005', 'Kakali', 'Mumbai', '25000'], ['1006', 'Bimal', 'Hyderabad', '30000'], ['1007', 'Tarun', 'Chennai', '17000'], ['1008', 'Rittik', 'Durgapur', '45000'], ['1009', 'Barun', 'Hyderabad', '39000'], ['1010', 'Utpal', 'Lucknow', '20000']]\n",
      "0\n",
      "[]\n"
     ]
    }
   ],
   "source": [
    "# inserting records from the csv file and writing it to the database employee table\n",
    "import csv   # importing module to read the csv file content\n",
    "with open(\"emp_data.csv\") as data_file:\n",
    "    csv_reader = csv.reader(data_file)\n",
    "    print (list(csv_reader))\n",
    "    print (len(list(csv_reader)))\n",
    "    print (list(csv_reader))"
   ]
  },
  {
   "cell_type": "code",
   "execution_count": 26,
   "id": "8199cbff-45fa-4bb7-95be-d7487c84a4e0",
   "metadata": {},
   "outputs": [
    {
     "name": "stdout",
     "output_type": "stream",
     "text": [
      "EmpID: 1001, EmpName: Dhiman, EmpLoc: Kolkata, EmpSal: 39000...\n",
      "EmpID: 1002, EmpName: Anupam, EmpLoc: Kolkata, EmpSal: 25000...\n",
      "EmpID: 1003, EmpName: Subham, EmpLoc: Mumbai, EmpSal: 36000...\n",
      "EmpID: 1004, EmpName: Dinesh, EmpLoc: Chennai, EmpSal: 28000...\n",
      "EmpID: 1005, EmpName: Kakali, EmpLoc: Mumbai, EmpSal: 25000...\n",
      "EmpID: 1006, EmpName: Bimal, EmpLoc: Hyderabad, EmpSal: 30000...\n",
      "EmpID: 1007, EmpName: Tarun, EmpLoc: Chennai, EmpSal: 17000...\n",
      "EmpID: 1008, EmpName: Rittik, EmpLoc: Durgapur, EmpSal: 45000...\n",
      "EmpID: 1009, EmpName: Barun, EmpLoc: Hyderabad, EmpSal: 39000...\n",
      "EmpID: 1010, EmpName: Utpal, EmpLoc: Lucknow, EmpSal: 20000...\n"
     ]
    }
   ],
   "source": [
    "# inserting records from the csv file and writing it to the database employee table\n",
    "import csv   # importing module to read the csv file content\n",
    "with open(\"emp_data.csv\") as data_file:\n",
    "    csv_reader = csv.reader(data_file)\n",
    "    for rec in csv_reader:\n",
    "        print (f\"EmpID: {rec[0]}, EmpName: {rec[1]}, EmpLoc: {rec[2]}, EmpSal: {rec[3]}...\")"
   ]
  },
  {
   "cell_type": "code",
   "execution_count": 28,
   "id": "600615c4-b1ad-40ea-b1ac-efb716e5cac2",
   "metadata": {},
   "outputs": [
    {
     "name": "stdout",
     "output_type": "stream",
     "text": [
      "['1001', 'Dhiman', 'Kolkata', '39000']\n",
      "['1002', 'Anupam', 'Kolkata', '25000']\n",
      "['1003', 'Subham', 'Mumbai', '36000']\n",
      "['1004', 'Dinesh', 'Chennai', '28000']\n",
      "['1005', 'Kakali', 'Mumbai', '25000']\n",
      "['1006', 'Bimal', 'Hyderabad', '30000']\n",
      "['1007', 'Tarun', 'Chennai', '17000']\n",
      "['1008', 'Rittik', 'Durgapur', '45000']\n",
      "['1009', 'Barun', 'Hyderabad', '39000']\n",
      "['1010', 'Utpal', 'Lucknow', '20000']\n",
      "All date are inserted successfully...\n"
     ]
    }
   ],
   "source": [
    "# inserting records from the csv file and writing it to the database employee table\n",
    "import csv   # importing module to read the csv file content\n",
    "\n",
    "SqlStr = \"INSERT INTO employee VALUES('{emp_id}', '{emp_name}', '{emp_loc}', '{emp_salary}');\"\n",
    "\n",
    "with open(\"emp_data.csv\") as data_file:\n",
    "    csv_reader = csv.reader(data_file)\n",
    "    for row in csv_reader:\n",
    "        print (row)\n",
    "        connection.execute(SqlStr.format(emp_id = row[0], emp_name = row[1], emp_loc = row[2], emp_salary = row[3]))\n",
    "connection.commit()    # to make the change permanent\n",
    "print (\"All date are inserted successfully...\")"
   ]
  },
  {
   "cell_type": "code",
   "execution_count": 31,
   "id": "95768c7d-9bef-4421-a7f5-d43ebb9ba259",
   "metadata": {},
   "outputs": [
    {
     "name": "stdout",
     "output_type": "stream",
     "text": [
      "EmpID: 1001, EmpName: Dhiman, EmpLoc: Kolkata, EmpSal: 39000.0...\n",
      "EmpID: 1002, EmpName: Anupam, EmpLoc: Kolkata, EmpSal: 25000.0...\n",
      "EmpID: 1003, EmpName: Subham, EmpLoc: Mumbai, EmpSal: 36000.0...\n",
      "EmpID: 1004, EmpName: Dinesh, EmpLoc: Chennai, EmpSal: 28000.0...\n",
      "EmpID: 1005, EmpName: Kakali, EmpLoc: Mumbai, EmpSal: 25000.0...\n",
      "EmpID: 1006, EmpName: Bimal, EmpLoc: Hyderabad, EmpSal: 30000.0...\n",
      "EmpID: 1007, EmpName: Tarun, EmpLoc: Chennai, EmpSal: 17000.0...\n",
      "EmpID: 1008, EmpName: Rittik, EmpLoc: Durgapur, EmpSal: 45000.0...\n",
      "EmpID: 1009, EmpName: Barun, EmpLoc: Hyderabad, EmpSal: 39000.0...\n",
      "EmpID: 1010, EmpName: Utpal, EmpLoc: Lucknow, EmpSal: 20000.0...\n"
     ]
    }
   ],
   "source": [
    "# retrieving records from the database table\n",
    "# SQL for fetching all records from the table\n",
    "SqlStr = \"SELECT * FROM employee;\"    # * means retrieving all attributes from the table\n",
    "# read from table and point the cursor into the variable cur_table\n",
    "cur_table = connection.execute(SqlStr)\n",
    "for row in cur_table:\n",
    "    print (f\"EmpID: {row[0]}, EmpName: {row[1]}, EmpLoc: {row[2]}, EmpSal: {row[3]}...\")"
   ]
  },
  {
   "cell_type": "code",
   "execution_count": 32,
   "id": "34e9f612-9efe-4362-b6ee-e507e64b2b84",
   "metadata": {},
   "outputs": [
    {
     "name": "stdout",
     "output_type": "stream",
     "text": [
      "EmpID: 1001, EmpName: Dhiman and EmpLoc: Kolkata...\n",
      "EmpID: 1002, EmpName: Anupam and EmpLoc: Kolkata...\n",
      "EmpID: 1003, EmpName: Subham and EmpLoc: Mumbai...\n",
      "EmpID: 1004, EmpName: Dinesh and EmpLoc: Chennai...\n",
      "EmpID: 1005, EmpName: Kakali and EmpLoc: Mumbai...\n",
      "EmpID: 1006, EmpName: Bimal and EmpLoc: Hyderabad...\n",
      "EmpID: 1007, EmpName: Tarun and EmpLoc: Chennai...\n",
      "EmpID: 1008, EmpName: Rittik and EmpLoc: Durgapur...\n",
      "EmpID: 1009, EmpName: Barun and EmpLoc: Hyderabad...\n",
      "EmpID: 1010, EmpName: Utpal and EmpLoc: Lucknow...\n"
     ]
    }
   ],
   "source": [
    "# retrieving records from the database table\n",
    "# SQL for fetching all records from the table\n",
    "SqlStr = \"SELECT emp_id, emp_name, city FROM employee;\"\n",
    "# read from table and point the cursor into the variable cur_table\n",
    "cur_table = connection.execute(SqlStr)\n",
    "for row in cur_table:\n",
    "    print (f\"EmpID: {row[0]}, EmpName: {row[1]} and EmpLoc: {row[2]}...\")"
   ]
  },
  {
   "cell_type": "code",
   "execution_count": null,
   "id": "7380a9de-d5b2-4eef-8aa1-64744f25542d",
   "metadata": {},
   "outputs": [],
   "source": []
  },
  {
   "cell_type": "code",
   "execution_count": null,
   "id": "c405d97f-b88a-4583-933e-b5f21a99a23a",
   "metadata": {},
   "outputs": [],
   "source": []
  },
  {
   "cell_type": "code",
   "execution_count": null,
   "id": "6d01a72e-e99a-41e6-84c1-b928cfcb5d92",
   "metadata": {},
   "outputs": [],
   "source": []
  },
  {
   "cell_type": "code",
   "execution_count": null,
   "id": "7e03280b-870e-4d67-9ef1-b8d7be95b753",
   "metadata": {},
   "outputs": [],
   "source": []
  },
  {
   "cell_type": "code",
   "execution_count": null,
   "id": "03f9d0a8-232d-4760-9c02-bd076e9614ee",
   "metadata": {},
   "outputs": [],
   "source": []
  },
  {
   "cell_type": "code",
   "execution_count": null,
   "id": "bc1028ae-b0de-4f8a-9427-177fd7f53402",
   "metadata": {},
   "outputs": [],
   "source": []
  },
  {
   "cell_type": "code",
   "execution_count": null,
   "id": "1d9400c5-fac0-41df-8640-50a21a73b6f6",
   "metadata": {},
   "outputs": [],
   "source": []
  },
  {
   "cell_type": "code",
   "execution_count": null,
   "id": "23d30373-d9a6-4a7d-ad18-557fc6cff9eb",
   "metadata": {},
   "outputs": [],
   "source": []
  },
  {
   "cell_type": "code",
   "execution_count": null,
   "id": "270544e5-f0c2-49fb-bb1a-fde8aa7a51a0",
   "metadata": {},
   "outputs": [],
   "source": []
  },
  {
   "cell_type": "code",
   "execution_count": null,
   "id": "478a0398-f2f5-4dcf-a2ab-c41e79c1fabf",
   "metadata": {},
   "outputs": [],
   "source": []
  },
  {
   "cell_type": "code",
   "execution_count": null,
   "id": "f32b9c92-3722-4476-9f7a-6762badb6285",
   "metadata": {},
   "outputs": [],
   "source": []
  },
  {
   "cell_type": "code",
   "execution_count": null,
   "id": "c029b786-ef83-4d66-9151-89d4e6e07dff",
   "metadata": {},
   "outputs": [],
   "source": []
  },
  {
   "cell_type": "code",
   "execution_count": null,
   "id": "1c9f9281-b187-4064-8c5a-a053bd21613c",
   "metadata": {},
   "outputs": [],
   "source": []
  },
  {
   "cell_type": "code",
   "execution_count": null,
   "id": "fb3d89a6-ddc5-4dc5-bc83-a06de31292e3",
   "metadata": {},
   "outputs": [],
   "source": []
  },
  {
   "cell_type": "code",
   "execution_count": null,
   "id": "e2687e3b-ef02-43df-90d4-84456260455f",
   "metadata": {},
   "outputs": [],
   "source": []
  },
  {
   "cell_type": "code",
   "execution_count": null,
   "id": "25187e27-eb2f-45e1-a66f-5f2e1425b889",
   "metadata": {},
   "outputs": [],
   "source": []
  },
  {
   "cell_type": "code",
   "execution_count": null,
   "id": "1d852658-cd32-4916-9c10-f300bb072f08",
   "metadata": {},
   "outputs": [],
   "source": []
  },
  {
   "cell_type": "code",
   "execution_count": null,
   "id": "969782fb-8a77-4cbb-947b-bf68729d51d2",
   "metadata": {},
   "outputs": [],
   "source": []
  },
  {
   "cell_type": "code",
   "execution_count": null,
   "id": "8905d01c-777f-4f0e-a686-d2309dc5763a",
   "metadata": {},
   "outputs": [],
   "source": []
  },
  {
   "cell_type": "code",
   "execution_count": null,
   "id": "d040687b-ed41-40cb-885c-782b08c4e61f",
   "metadata": {},
   "outputs": [],
   "source": []
  },
  {
   "cell_type": "code",
   "execution_count": null,
   "id": "d48aa2a0-e641-4d11-add0-c0db5a9a5a0b",
   "metadata": {},
   "outputs": [],
   "source": []
  }
 ],
 "metadata": {
  "kernelspec": {
   "display_name": "Python 3 (ipykernel)",
   "language": "python",
   "name": "python3"
  },
  "language_info": {
   "codemirror_mode": {
    "name": "ipython",
    "version": 3
   },
   "file_extension": ".py",
   "mimetype": "text/x-python",
   "name": "python",
   "nbconvert_exporter": "python",
   "pygments_lexer": "ipython3",
   "version": "3.10.9"
  }
 },
 "nbformat": 4,
 "nbformat_minor": 5
}
