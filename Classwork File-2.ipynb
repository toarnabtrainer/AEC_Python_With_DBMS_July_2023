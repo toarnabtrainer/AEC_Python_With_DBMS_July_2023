{
 "cells": [
  {
   "cell_type": "markdown",
   "id": "71ed821c-bb92-4740-9603-c6a28ce1da2b",
   "metadata": {},
   "source": [
    "### Module Import"
   ]
  },
  {
   "cell_type": "code",
   "execution_count": 1,
   "id": "2f0f2fb0-e054-43cd-8139-00292b174ce1",
   "metadata": {},
   "outputs": [],
   "source": [
    "# importing the required module\n",
    "import math"
   ]
  },
  {
   "cell_type": "code",
   "execution_count": 28,
   "id": "8550e50b-9859-40d4-a8f9-933fd2aab6b7",
   "metadata": {},
   "outputs": [
    {
     "name": "stdout",
     "output_type": "stream",
     "text": [
      "0.0 1.0 0.0 0.0\n",
      "0.0 0.0\n",
      "3.141592653589793 2.718281828459045 6.283185307179586\n",
      "6.931471805599453 6.931471805599453 10.0\n",
      "10.0 3.0 2.9999999999999996\n",
      "1000.0 1000 1000.0\n",
      "120 720 8\n",
      "5120.0 31.622776601683793 31.622776601683793\n",
      "10 10 11 11\n"
     ]
    }
   ],
   "source": [
    "print (math.sin(0), math.cos(0), math.tan(0), math.sinh(0))\n",
    "print (math.asin(0), math.asinh(0))\n",
    "print (math.pi, math.e, math.tau)\n",
    "print (math.log(1024), math.log(1024, math.e), math.log(1024, 2))\n",
    "print (math.log2(1024), math.log10(1000), math.log(1000, 10))\n",
    "print (math.pow(10, 3), 10 ** 3, 10.0 ** 3)\n",
    "print (math.factorial(5), math.factorial(6), math.gcd(1024, 40))\n",
    "print ((1024 * 40)/math.gcd(1024, 40), math.sqrt(1000), 1000 ** 0.5)\n",
    "print (math.floor(10.9), math.floor(10.1), math.ceil(10.9), math.ceil(10.1))"
   ]
  },
  {
   "cell_type": "code",
   "execution_count": null,
   "id": "7d6f5a83-0c5f-4cee-94a8-82b0400ce3f5",
   "metadata": {},
   "outputs": [],
   "source": [
    "help(math)"
   ]
  },
  {
   "cell_type": "code",
   "execution_count": null,
   "id": "37aa6efe-df30-465a-b861-09ba34b36aa8",
   "metadata": {},
   "outputs": [],
   "source": [
    "Check the mathTry with another 5 math functions which we did not discuss."
   ]
  },
  {
   "cell_type": "code",
   "execution_count": null,
   "id": "8c54800c-8233-4f64-982b-727af9587f51",
   "metadata": {},
   "outputs": [],
   "source": []
  },
  {
   "cell_type": "code",
   "execution_count": null,
   "id": "ca26def3-f390-40e7-aaba-30bdcaac853d",
   "metadata": {},
   "outputs": [],
   "source": []
  },
  {
   "cell_type": "code",
   "execution_count": null,
   "id": "7ec441db-5fd4-45ad-96ff-47be181020e2",
   "metadata": {},
   "outputs": [],
   "source": []
  },
  {
   "cell_type": "code",
   "execution_count": null,
   "id": "fe0d03e3-b2d5-4e83-8aed-8dc7f5dee664",
   "metadata": {},
   "outputs": [],
   "source": []
  },
  {
   "cell_type": "code",
   "execution_count": null,
   "id": "2822f1d2-7aa1-423c-b6e5-0313a68d54f9",
   "metadata": {},
   "outputs": [],
   "source": []
  },
  {
   "cell_type": "code",
   "execution_count": null,
   "id": "ec888a20-1a06-4865-91d1-bf14ca121bc4",
   "metadata": {},
   "outputs": [],
   "source": []
  },
  {
   "cell_type": "code",
   "execution_count": null,
   "id": "853136ab-e58c-4fa6-855e-d9cdae59e8a4",
   "metadata": {},
   "outputs": [],
   "source": []
  },
  {
   "cell_type": "code",
   "execution_count": null,
   "id": "e31ca769-72d0-4e11-b515-f69cfa7c36e7",
   "metadata": {},
   "outputs": [],
   "source": []
  },
  {
   "cell_type": "code",
   "execution_count": null,
   "id": "1cb8088e-6a97-445c-8934-6223fce2877f",
   "metadata": {},
   "outputs": [],
   "source": []
  },
  {
   "cell_type": "code",
   "execution_count": null,
   "id": "d58c3a5d-0cac-4b8d-b87d-657d445328de",
   "metadata": {},
   "outputs": [],
   "source": []
  },
  {
   "cell_type": "code",
   "execution_count": null,
   "id": "302272ab-cc3c-458e-8de1-7b96ffe6ac4f",
   "metadata": {},
   "outputs": [],
   "source": []
  },
  {
   "cell_type": "code",
   "execution_count": null,
   "id": "81e47104-18b3-409e-ae79-49e47cd2e398",
   "metadata": {},
   "outputs": [],
   "source": []
  },
  {
   "cell_type": "code",
   "execution_count": null,
   "id": "d544e58c-0220-4795-a359-9ee0135914b5",
   "metadata": {},
   "outputs": [],
   "source": []
  },
  {
   "cell_type": "code",
   "execution_count": null,
   "id": "9c1fe5f3-fd7d-41e9-b450-ff45e6cd56d6",
   "metadata": {},
   "outputs": [],
   "source": []
  },
  {
   "cell_type": "code",
   "execution_count": null,
   "id": "3f70681e-364c-434f-9669-1156cdaf1bfc",
   "metadata": {},
   "outputs": [],
   "source": []
  },
  {
   "cell_type": "code",
   "execution_count": null,
   "id": "341debec-3b77-431f-ae8b-493c661d16f4",
   "metadata": {},
   "outputs": [],
   "source": []
  },
  {
   "cell_type": "code",
   "execution_count": null,
   "id": "17c31503-da1c-44c4-bf38-d7807e262302",
   "metadata": {},
   "outputs": [],
   "source": []
  },
  {
   "cell_type": "code",
   "execution_count": null,
   "id": "15a04e5c-b93c-4602-a38c-2d8ea53d8477",
   "metadata": {},
   "outputs": [],
   "source": []
  },
  {
   "cell_type": "code",
   "execution_count": null,
   "id": "c93264e0-637b-4455-acd8-057f49e8859e",
   "metadata": {},
   "outputs": [],
   "source": []
  },
  {
   "cell_type": "code",
   "execution_count": null,
   "id": "d49e2c65-f0b6-445c-8f82-2c6a920aa637",
   "metadata": {},
   "outputs": [],
   "source": []
  },
  {
   "cell_type": "code",
   "execution_count": null,
   "id": "f909be31-0580-4c32-aef6-099ec8597153",
   "metadata": {},
   "outputs": [],
   "source": []
  },
  {
   "cell_type": "code",
   "execution_count": null,
   "id": "953f7576-8de2-4f71-b8e9-5efc71548d34",
   "metadata": {},
   "outputs": [],
   "source": []
  },
  {
   "cell_type": "code",
   "execution_count": null,
   "id": "77911da6-fc16-425a-ac94-845455a6a62e",
   "metadata": {},
   "outputs": [],
   "source": []
  },
  {
   "cell_type": "code",
   "execution_count": null,
   "id": "5ab09710-ad18-42a7-b629-97eea85f4fd7",
   "metadata": {},
   "outputs": [],
   "source": []
  }
 ],
 "metadata": {
  "kernelspec": {
   "display_name": "Python 3 (ipykernel)",
   "language": "python",
   "name": "python3"
  },
  "language_info": {
   "codemirror_mode": {
    "name": "ipython",
    "version": 3
   },
   "file_extension": ".py",
   "mimetype": "text/x-python",
   "name": "python",
   "nbconvert_exporter": "python",
   "pygments_lexer": "ipython3",
   "version": "3.10.9"
  }
 },
 "nbformat": 4,
 "nbformat_minor": 5
}
