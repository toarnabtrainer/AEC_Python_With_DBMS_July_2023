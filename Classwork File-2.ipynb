{
 "cells": [
  {
   "cell_type": "markdown",
   "id": "71ed821c-bb92-4740-9603-c6a28ce1da2b",
   "metadata": {},
   "source": [
    "### Module Import"
   ]
  },
  {
   "cell_type": "code",
   "execution_count": 1,
   "id": "2f0f2fb0-e054-43cd-8139-00292b174ce1",
   "metadata": {},
   "outputs": [],
   "source": [
    "# importing the required module\n",
    "import math"
   ]
  },
  {
   "cell_type": "code",
   "execution_count": 28,
   "id": "8550e50b-9859-40d4-a8f9-933fd2aab6b7",
   "metadata": {},
   "outputs": [
    {
     "name": "stdout",
     "output_type": "stream",
     "text": [
      "0.0 1.0 0.0 0.0\n",
      "0.0 0.0\n",
      "3.141592653589793 2.718281828459045 6.283185307179586\n",
      "6.931471805599453 6.931471805599453 10.0\n",
      "10.0 3.0 2.9999999999999996\n",
      "1000.0 1000 1000.0\n",
      "120 720 8\n",
      "5120.0 31.622776601683793 31.622776601683793\n",
      "10 10 11 11\n"
     ]
    }
   ],
   "source": [
    "print (math.sin(0), math.cos(0), math.tan(0), math.sinh(0))\n",
    "print (math.asin(0), math.asinh(0))\n",
    "print (math.pi, math.e, math.tau)\n",
    "print (math.log(1024), math.log(1024, math.e), math.log(1024, 2))\n",
    "print (math.log2(1024), math.log10(1000), math.log(1000, 10))\n",
    "print (math.pow(10, 3), 10 ** 3, 10.0 ** 3)\n",
    "print (math.factorial(5), math.factorial(6), math.gcd(1024, 40))\n",
    "print ((1024 * 40)/math.gcd(1024, 40), math.sqrt(1000), 1000 ** 0.5)\n",
    "print (math.floor(10.9), math.floor(10.1), math.ceil(10.9), math.ceil(10.1))"
   ]
  },
  {
   "cell_type": "code",
   "execution_count": null,
   "id": "7d6f5a83-0c5f-4cee-94a8-82b0400ce3f5",
   "metadata": {},
   "outputs": [],
   "source": [
    "help(math)"
   ]
  },
  {
   "cell_type": "code",
   "execution_count": null,
   "id": "37aa6efe-df30-465a-b861-09ba34b36aa8",
   "metadata": {},
   "outputs": [],
   "source": [
    "Class Assignment:\n",
    "Check the math module help and try with another 5 math functions which we did not discuss."
   ]
  },
  {
   "cell_type": "code",
   "execution_count": 31,
   "id": "8c54800c-8233-4f64-982b-727af9587f51",
   "metadata": {},
   "outputs": [
    {
     "name": "stdout",
     "output_type": "stream",
     "text": [
      "180.0\n",
      "3.141592653589793 3.141592653589793\n",
      "60 10\n",
      "120\n",
      "3.0\n"
     ]
    }
   ],
   "source": [
    "import math\n",
    "\n",
    "print (math.degrees(math.pi))\n",
    "print (math.radians(180), math.pi)\n",
    "print (math.lcm(10, 20, 30), math.gcd(10, 20, 30))\n",
    "print (math.comb(10, 3))\n",
    "print (math.remainder(10, 7))"
   ]
  },
  {
   "cell_type": "markdown",
   "id": "662bf2db-7f74-4b21-8238-763a2f6a159d",
   "metadata": {},
   "source": [
    "### String Processing"
   ]
  },
  {
   "cell_type": "code",
   "execution_count": null,
   "id": "fe0d03e3-b2d5-4e83-8aed-8dc7f5dee664",
   "metadata": {},
   "outputs": [],
   "source": [
    "# index from left to right ->   0   1   2   3   4   5   6   7   8   9\n",
    "#                     mystr =   u   n   i   v   e   r   s   i   t   y\n",
    "# index from right to left -> -10  -9  -8  -7  -6  -5  -4  -3  -2  -1"
   ]
  },
  {
   "cell_type": "code",
   "execution_count": 52,
   "id": "7ec441db-5fd4-45ad-96ff-47be181020e2",
   "metadata": {},
   "outputs": [
    {
     "name": "stdout",
     "output_type": "stream",
     "text": [
      "university 10 <class 'str'> 1704036649008\n",
      "v v t t\n",
      "ersi ersi ersi ersi\n",
      "univer univer sity sity\n",
      "uiest nvriy isre isre\n",
      "ytisrevinu\n"
     ]
    }
   ],
   "source": [
    "# indexing and slicing\n",
    "mystr = \"university\"\n",
    "print (mystr, len(mystr), type(mystr), id(mystr))\n",
    "print (mystr[3], mystr[-7], mystr[8], mystr[-2])   # indexing\n",
    "print (mystr[4:8], mystr[-6:-2], mystr[4:-2], mystr[-6:8])   # slicing\n",
    "print (mystr[0:6], mystr[:6], mystr[6:], mystr[-4:])\n",
    "print (mystr[::2], mystr[1::2], mystr[7:3:-1], mystr[-3:-7:-1])\n",
    "print (mystr[::-1])"
   ]
  },
  {
   "cell_type": "code",
   "execution_count": 60,
   "id": "2822f1d2-7aa1-423c-b6e5-0313a68d54f9",
   "metadata": {},
   "outputs": [
    {
     "name": "stdout",
     "output_type": "stream",
     "text": [
      "enGIneeRinG coLLegE 19 <class 'str'> 1704036496480\n",
      "ENGINEERING COLLEGE\n",
      "engineering college\n",
      "Engineering college\n",
      "Engineering College\n",
      "ENgiNEErINg COllEGe\n",
      "          enGIneeRinG coLLegE           \n",
      "          Engineering college           \n"
     ]
    }
   ],
   "source": [
    "mystr = \"enGIneeRinG coLLegE\"\n",
    "print (mystr, len(mystr), type(mystr), id(mystr))\n",
    "print (mystr.upper())\n",
    "print (mystr.lower())\n",
    "print (mystr.capitalize())\n",
    "print (mystr.title())\n",
    "print (mystr.swapcase())\n",
    "print (mystr.center(40))\n",
    "print (mystr.capitalize().center(40))"
   ]
  },
  {
   "cell_type": "code",
   "execution_count": 67,
   "id": "ec888a20-1a06-4865-91d1-bf14ca121bc4",
   "metadata": {},
   "outputs": [
    {
     "name": "stdout",
     "output_type": "stream",
     "text": [
      "4 14 15\n",
      "4 11 -1\n"
     ]
    }
   ],
   "source": [
    "mystr = \"charity begins at home\"\n",
    "print (mystr.find(\"ity\"), mystr.find(\" at\"), mystr.find(\"at\"))\n",
    "print (mystr.find(\"i\"), mystr.find(\"i\", 5), mystr.find(\"i\", 12))"
   ]
  },
  {
   "cell_type": "code",
   "execution_count": 71,
   "id": "853136ab-e58c-4fa6-855e-d9cdae59e8a4",
   "metadata": {},
   "outputs": [
    {
     "name": "stdout",
     "output_type": "stream",
     "text": [
      "4 14 15\n",
      "4 11\n"
     ]
    },
    {
     "ename": "ValueError",
     "evalue": "substring not found",
     "output_type": "error",
     "traceback": [
      "\u001b[1;31m---------------------------------------------------------------------------\u001b[0m",
      "\u001b[1;31mValueError\u001b[0m                                Traceback (most recent call last)",
      "Cell \u001b[1;32mIn[71], line 4\u001b[0m\n\u001b[0;32m      2\u001b[0m \u001b[38;5;28mprint\u001b[39m (mystr\u001b[38;5;241m.\u001b[39mindex(\u001b[38;5;124m\"\u001b[39m\u001b[38;5;124mity\u001b[39m\u001b[38;5;124m\"\u001b[39m), mystr\u001b[38;5;241m.\u001b[39mindex(\u001b[38;5;124m\"\u001b[39m\u001b[38;5;124m at\u001b[39m\u001b[38;5;124m\"\u001b[39m), mystr\u001b[38;5;241m.\u001b[39mindex(\u001b[38;5;124m\"\u001b[39m\u001b[38;5;124mat\u001b[39m\u001b[38;5;124m\"\u001b[39m))\n\u001b[0;32m      3\u001b[0m \u001b[38;5;28mprint\u001b[39m (mystr\u001b[38;5;241m.\u001b[39mindex(\u001b[38;5;124m\"\u001b[39m\u001b[38;5;124mi\u001b[39m\u001b[38;5;124m\"\u001b[39m), mystr\u001b[38;5;241m.\u001b[39mindex(\u001b[38;5;124m\"\u001b[39m\u001b[38;5;124mi\u001b[39m\u001b[38;5;124m\"\u001b[39m, \u001b[38;5;241m5\u001b[39m))\n\u001b[1;32m----> 4\u001b[0m \u001b[38;5;28mprint\u001b[39m (\u001b[43mmystr\u001b[49m\u001b[38;5;241;43m.\u001b[39;49m\u001b[43mindex\u001b[49m\u001b[43m(\u001b[49m\u001b[38;5;124;43m\"\u001b[39;49m\u001b[38;5;124;43mi\u001b[39;49m\u001b[38;5;124;43m\"\u001b[39;49m\u001b[43m,\u001b[49m\u001b[43m \u001b[49m\u001b[38;5;241;43m12\u001b[39;49m\u001b[43m)\u001b[49m)\n",
      "\u001b[1;31mValueError\u001b[0m: substring not found"
     ]
    }
   ],
   "source": [
    "mystr = \"charity begins at home\"\n",
    "print (mystr.index(\"ity\"), mystr.index(\" at\"), mystr.index(\"at\"))\n",
    "print (mystr.index(\"i\"), mystr.index(\"i\", 5))\n",
    "print (mystr.index(\"i\", 12))"
   ]
  },
  {
   "cell_type": "code",
   "execution_count": 74,
   "id": "e31ca769-72d0-4e11-b515-f69cfa7c36e7",
   "metadata": {},
   "outputs": [
    {
     "name": "stdout",
     "output_type": "stream",
     "text": [
      "4 14 15\n",
      "4 11\n",
      "ValueError: Unsuccessful searching...\n",
      "ValueError: Error message: substring not found\n"
     ]
    }
   ],
   "source": [
    "try:\n",
    "    mystr = \"charity begins at home\"\n",
    "    print (mystr.index(\"ity\"), mystr.index(\" at\"), mystr.index(\"at\"))\n",
    "    print (mystr.index(\"i\"), mystr.index(\"i\", 5))\n",
    "    print (mystr.index(\"i\", 12))\n",
    "except ValueError as ve:\n",
    "    print (\"ValueError: Unsuccessful searching...\")\n",
    "    print (\"ValueError: Error message:\", ve)"
   ]
  },
  {
   "cell_type": "code",
   "execution_count": 78,
   "id": "1cb8088e-6a97-445c-8934-6223fce2877f",
   "metadata": {},
   "outputs": [
    {
     "name": "stdout",
     "output_type": "stream",
     "text": [
      "    enginerring      college     32 <class 'str'> 1704063524016\n",
      "enginerring      college 24\n",
      "enginerring      college     28\n",
      "    enginerring      college 28\n"
     ]
    }
   ],
   "source": [
    "mystr = \"    enginerring      college    \"\n",
    "print (mystr, len(mystr), type(mystr), id(mystr))\n",
    "print (mystr.strip(), len(mystr.strip()))\n",
    "print (mystr.lstrip(), len(mystr.lstrip()))\n",
    "print (mystr.rstrip(), len(mystr.rstrip()))"
   ]
  },
  {
   "cell_type": "code",
   "execution_count": 79,
   "id": "d58c3a5d-0cac-4b8d-b87d-657d445328de",
   "metadata": {},
   "outputs": [
    {
     "name": "stdout",
     "output_type": "stream",
     "text": [
      "@#@@enginerring@#@##@college@@@## 33 <class 'str'> 1704063528624\n",
      "enginerring@#@##@college 24\n",
      "enginerring@#@##@college@@@## 29\n",
      "@#@@enginerring@#@##@college 28\n"
     ]
    }
   ],
   "source": [
    "mystr = \"@#@@enginerring@#@##@college@@@##\"\n",
    "print (mystr, len(mystr), type(mystr), id(mystr))\n",
    "print (mystr.strip(\"#@\"), len(mystr.strip(\"#@\")))\n",
    "print (mystr.lstrip(\"#@\"), len(mystr.lstrip(\"#@\")))\n",
    "print (mystr.rstrip(\"#@\"), len(mystr.rstrip(\"#@\")))"
   ]
  },
  {
   "cell_type": "code",
   "execution_count": 87,
   "id": "302272ab-cc3c-458e-8de1-7b96ffe6ac4f",
   "metadata": {},
   "outputs": [
    {
     "name": "stdout",
     "output_type": "stream",
     "text": [
      "True False\n",
      "False True\n",
      "True False\n"
     ]
    }
   ],
   "source": [
    "mystr = \"charity begins at home\"\n",
    "print (mystr.startswith(\"cha\"), mystr.startswith(\"abc\"))\n",
    "print (mystr.startswith(\"begi\"), mystr.startswith(\"begi\", 8))\n",
    "print (mystr.startswith(\"begi\", 8, 20), mystr.startswith(\"begi\", 8, 10))"
   ]
  },
  {
   "cell_type": "code",
   "execution_count": 91,
   "id": "81e47104-18b3-409e-ae79-49e47cd2e398",
   "metadata": {},
   "outputs": [
    {
     "name": "stdout",
     "output_type": "stream",
     "text": [
      "True False\n",
      "True False\n"
     ]
    }
   ],
   "source": [
    "mystr = \"charity begins at home\"\n",
    "print (mystr.endswith(\"home\"), mystr.endswith(\"abc\"))\n",
    "print (mystr.endswith(\"ins\", 0, 14), mystr.endswith(\"ins\", 5, 16))"
   ]
  },
  {
   "cell_type": "code",
   "execution_count": 93,
   "id": "d544e58c-0220-4795-a359-9ee0135914b5",
   "metadata": {},
   "outputs": [
    {
     "name": "stdout",
     "output_type": "stream",
     "text": [
      "c\n",
      "o\n",
      "l\n",
      "l\n",
      "e\n",
      "g\n",
      "e\n"
     ]
    }
   ],
   "source": [
    "mystr = \"college\"\n",
    "for ch in mystr:\n",
    "    print (ch)"
   ]
  },
  {
   "cell_type": "code",
   "execution_count": 95,
   "id": "9c1fe5f3-fd7d-41e9-b450-ff45e6cd56d6",
   "metadata": {},
   "outputs": [
    {
     "name": "stdout",
     "output_type": "stream",
     "text": [
      "c\n",
      "o\n",
      "l\n",
      "l\n",
      "e\n",
      "g\n",
      "e\n"
     ]
    }
   ],
   "source": [
    "mystr = \"college\"\n",
    "for i in range(len(mystr)):\n",
    "    print (mystr[i])"
   ]
  },
  {
   "cell_type": "code",
   "execution_count": 100,
   "id": "3f70681e-364c-434f-9669-1156cdaf1bfc",
   "metadata": {},
   "outputs": [
    {
     "name": "stdout",
     "output_type": "stream",
     "text": [
      "mississippi 11 <class 'str'>\n",
      "['m', 'i', 's', 's', 'i', 's', 's', 'i', 'p', 'p', 'i'] 11 <class 'list'>\n",
      "('m', 'i', 's', 's', 'i', 's', 's', 'i', 'p', 'p', 'i') 11 <class 'tuple'>\n",
      "{'s', 'm', 'p', 'i'} 4 <class 'set'>\n",
      "frozenset({'s', 'm', 'p', 'i'}) 4 <class 'frozenset'>\n"
     ]
    }
   ],
   "source": [
    "mystr = \"mississippi\"\n",
    "print (mystr, len(mystr), type(mystr))\n",
    "result = list(mystr)\n",
    "print (result, len(result), type(result))\n",
    "result = tuple(mystr)\n",
    "print (result, len(result), type(result))\n",
    "result = set(mystr)\n",
    "print (result, len(result), type(result))\n",
    "result = frozenset(mystr)\n",
    "print (result, len(result), type(result))"
   ]
  },
  {
   "cell_type": "code",
   "execution_count": 104,
   "id": "341debec-3b77-431f-ae8b-493c661d16f4",
   "metadata": {},
   "outputs": [
    {
     "name": "stdout",
     "output_type": "stream",
     "text": [
      "charity begins at home 22\n",
      "['charity', 'begins', 'at', 'home'] 4\n",
      "['charity', 'begins', 'at', 'home'] 4\n",
      "['char', 'ty beg', 'ns at home'] 3\n"
     ]
    }
   ],
   "source": [
    "mystr = \"charity begins at home\"\n",
    "print (mystr, len(mystr))\n",
    "result = mystr.split()\n",
    "print (result, len(result))\n",
    "result = mystr.split(\" \")\n",
    "print (result, len(result))\n",
    "result = mystr.split(\"i\")\n",
    "print (result, len(result))"
   ]
  },
  {
   "cell_type": "code",
   "execution_count": null,
   "id": "17c31503-da1c-44c4-bf38-d7807e262302",
   "metadata": {},
   "outputs": [],
   "source": [
    "help(str.split)"
   ]
  },
  {
   "cell_type": "code",
   "execution_count": 109,
   "id": "15a04e5c-b93c-4602-a38c-2d8ea53d8477",
   "metadata": {},
   "outputs": [
    {
     "name": "stdout",
     "output_type": "stream",
     "text": [
      "charity begins at home\n",
      "charity - begins - at - home\n",
      "charity begins at home\n"
     ]
    }
   ],
   "source": [
    "source = ['charity', 'begins', 'at', 'home']\n",
    "mystr = \" \".join(source)\n",
    "print (mystr)\n",
    "\n",
    "mystr = \" - \".join(source)\n",
    "print (mystr)\n",
    "\n",
    "source = ['char', 'ty beg', 'ns at home']\n",
    "mystr = \"i\".join(source)\n",
    "print (mystr)"
   ]
  },
  {
   "cell_type": "code",
   "execution_count": 117,
   "id": "c93264e0-637b-4455-acd8-057f49e8859e",
   "metadata": {},
   "outputs": [
    {
     "name": "stdout",
     "output_type": "stream",
     "text": [
      "university True True False False False\n",
      "university123 False True False False False\n",
      "university-123 False False False False False\n",
      "123 False True True True True\n",
      "123.45 False False False False False\n",
      "四 True True False True False\n"
     ]
    }
   ],
   "source": [
    "mystr = \"university\"\n",
    "print (mystr, mystr.isalpha(), mystr.isalnum(), mystr.isdigit(), mystr.isnumeric(), mystr.isdecimal())\n",
    "mystr = \"university123\"\n",
    "print (mystr, mystr.isalpha(), mystr.isalnum(), mystr.isdigit(), mystr.isnumeric(), mystr.isdecimal())\n",
    "mystr = \"university-123\"\n",
    "print (mystr, mystr.isalpha(), mystr.isalnum(), mystr.isdigit(), mystr.isnumeric(), mystr.isdecimal())\n",
    "mystr = \"123\"\n",
    "print (mystr, mystr.isalpha(), mystr.isalnum(), mystr.isdigit(), mystr.isnumeric(), mystr.isdecimal())\n",
    "mystr = \"123.45\"\n",
    "print (mystr, mystr.isalpha(), mystr.isalnum(), mystr.isdigit(), mystr.isnumeric(), mystr.isdecimal())\n",
    "mystr = \"四\"\n",
    "print (mystr, mystr.isalpha(), mystr.isalnum(), mystr.isdigit(), mystr.isnumeric(), mystr.isdecimal())\n",
    "\n",
    "# isdecimal() is subset of isdigit() is subset of isnumeric()"
   ]
  },
  {
   "cell_type": "code",
   "execution_count": 120,
   "id": "d49e2c65-f0b6-445c-8f82-2c6a920aa637",
   "metadata": {},
   "outputs": [
    {
     "name": "stdout",
     "output_type": "stream",
     "text": [
      "university 10\n",
      "2 1 0\n"
     ]
    }
   ],
   "source": [
    "mystr = \"university\"\n",
    "print (mystr, len(mystr))\n",
    "print (mystr.count(\"i\"), mystr.count(\"v\"), mystr.count(\"I\"))"
   ]
  },
  {
   "cell_type": "code",
   "execution_count": 124,
   "id": "f909be31-0580-4c32-aef6-099ec8597153",
   "metadata": {},
   "outputs": [
    {
     "name": "stdout",
     "output_type": "stream",
     "text": [
      "university 10\n",
      "unxversxty\n",
      "university\n",
      "unxversxty\n"
     ]
    }
   ],
   "source": [
    "mystr = \"university\"\n",
    "print (mystr, len(mystr))\n",
    "print (mystr.replace(\"i\", \"x\"))\n",
    "print (mystr)\n",
    "mystr = mystr.replace(\"i\", \"x\")\n",
    "print (mystr)"
   ]
  },
  {
   "cell_type": "code",
   "execution_count": null,
   "id": "953f7576-8de2-4f71-b8e9-5efc71548d34",
   "metadata": {},
   "outputs": [],
   "source": [
    "Class Assignment - 1\n",
    "--------------------\n",
    "Take a string from the user as input and find the number of vowels and cosonants in that given string.\n",
    "String may contain upper and lower case characters and special characters."
   ]
  },
  {
   "cell_type": "code",
   "execution_count": 130,
   "id": "dad2c8af-e546-4658-9057-c48300b68cb9",
   "metadata": {},
   "outputs": [
    {
     "name": "stdin",
     "output_type": "stream",
     "text": [
      "Please enter your string:  Ram is a good boy.\n"
     ]
    },
    {
     "name": "stdout",
     "output_type": "stream",
     "text": [
      "So vowel count = 6 and consonant count = 7...\n",
      "End of the program...\n"
     ]
    }
   ],
   "source": [
    "mystr = input(\"Please enter your string: \")\n",
    "vcount = ccount = 0\n",
    "for ch in mystr.lower():\n",
    "    # print (ch)\n",
    "    if (ch.isalpha()):\n",
    "        if (ch in \"aeiou\"): vcount += 1\n",
    "        else: ccount += 1\n",
    "print (f\"So vowel count = {vcount} and consonant count = {ccount}...\")\n",
    "print (\"End of the program...\")"
   ]
  },
  {
   "cell_type": "code",
   "execution_count": null,
   "id": "5af25f75-b760-4c1f-b260-0d41aa79e2b5",
   "metadata": {},
   "outputs": [],
   "source": [
    "mystr = \"Hello I'm Soumyadip...\"\n",
    "result = list(mystr)\n",
    "print (result, len(result), type(result))\n",
    "for i in range(0, len(result)):\n",
    "    if(result[i].isalpha() == True and (result[i] == 'a' or result[i] == 'e' or result[i] == 'i' or result[i] == 'o' or result[i] == 'u' or result[i] == 'A' or result[i] == 'E' or result[i] == 'I' or result[i] == 'O' or result[i] == 'U')):\n",
    "        print(\"Vowel: \")\n",
    "        print(result[i])\n",
    "    elif(result[i].isalpha() == True):\n",
    "        print(\"Consonant: \")\n",
    "        print(result[i])"
   ]
  },
  {
   "cell_type": "code",
   "execution_count": null,
   "id": "77911da6-fc16-425a-ac94-845455a6a62e",
   "metadata": {},
   "outputs": [],
   "source": [
    "help(str)"
   ]
  },
  {
   "cell_type": "code",
   "execution_count": 181,
   "id": "1f5eb730-5482-4aa4-b883-2c05aab93fe7",
   "metadata": {},
   "outputs": [
    {
     "name": "stdout",
     "output_type": "stream",
     "text": [
      "[] 0 <class 'list'>\n",
      "() 0 <class 'tuple'>\n",
      "{} 0 <class 'dict'>\n",
      "set() 0 <class 'set'>\n"
     ]
    }
   ],
   "source": [
    "var1 = []\n",
    "print (var1, len(var1), type(var1))\n",
    "var1 = ()\n",
    "print (var1, len(var1), type(var1))\n",
    "var1 = {}\n",
    "print (var1, len(var1), type(var1))\n",
    "var1 = set()\n",
    "print (var1, len(var1), type(var1))"
   ]
  },
  {
   "cell_type": "code",
   "execution_count": 185,
   "id": "577853e0-9b0d-4d24-9246-2d46b5aae717",
   "metadata": {},
   "outputs": [
    {
     "name": "stdout",
     "output_type": "stream",
     "text": [
      "(11, 22) 2 <class 'tuple'>\n",
      "11 <class 'int'>\n",
      "(11,) <class 'tuple'>\n"
     ]
    }
   ],
   "source": [
    "var1 = (11, 22)\n",
    "print (var1, len(var1), type(var1))\n",
    "var1 = (11)\n",
    "print (var1, type(var1))\n",
    "var1 = (11,)    # singleton representation of a tuple\n",
    "print (var1, type(var1))"
   ]
  },
  {
   "cell_type": "markdown",
   "id": "50d712c8-4d70-4005-81da-c9c97c5aaa79",
   "metadata": {},
   "source": [
    "### List Processing"
   ]
  },
  {
   "cell_type": "code",
   "execution_count": 131,
   "id": "3807498e-e867-404e-b6d3-bb84b41c8eda",
   "metadata": {},
   "outputs": [
    {
     "name": "stdout",
     "output_type": "stream",
     "text": [
      "[100, 200, 300, 400, 150] 5 <class 'list'> 1704074107904\n",
      "100 400\n",
      "1150 230.0\n"
     ]
    }
   ],
   "source": [
    "list1 = [100, 200, 300, 400, 150]\n",
    "print (list1, len(list1), type(list1), id(list1))\n",
    "print (min(list1), max(list1))\n",
    "print (sum(list1), sum(list1) / len(list1))"
   ]
  },
  {
   "cell_type": "code",
   "execution_count": 134,
   "id": "38f9fa6a-150a-464d-a7e9-372c877ac4ae",
   "metadata": {},
   "outputs": [
    {
     "name": "stdout",
     "output_type": "stream",
     "text": [
      "[100, True, 200, 300.5, False, 400.23, 150] 7 <class 'list'> 1704074082624\n",
      "False 400.23\n",
      "1151.73 164.53285714285715\n"
     ]
    }
   ],
   "source": [
    "list1 = [100, True, 200, 300.5, False, 400.23, 150]\n",
    "print (list1, len(list1), type(list1), id(list1))\n",
    "print (min(list1), max(list1))\n",
    "print (sum(list1), sum(list1) / len(list1))"
   ]
  },
  {
   "cell_type": "code",
   "execution_count": 140,
   "id": "c5e6da60-ac90-44e3-a3e0-096aa1e59208",
   "metadata": {},
   "outputs": [
    {
     "name": "stdout",
     "output_type": "stream",
     "text": [
      "['Monday', 'Tuesday', 'friday', 'Saturday', 'Thursday'] 5 <class 'list'> 1704074592128\n",
      "Monday friday\n"
     ]
    }
   ],
   "source": [
    "list1 = [\"Monday\", \"Tuesday\", \"friday\", \"Saturday\", \"Thursday\"]\n",
    "print (list1, len(list1), type(list1), id(list1))\n",
    "print (min(list1), max(list1))\n",
    "# print (sum(list1), sum(list1) / len(list1))"
   ]
  },
  {
   "cell_type": "code",
   "execution_count": 143,
   "id": "19930047-cf95-4aff-9b74-7c7829ad22d5",
   "metadata": {},
   "outputs": [
    {
     "name": "stdout",
     "output_type": "stream",
     "text": [
      "['Monday', False, 'Tuesday', 100, 'friday', 22.5, 'Saturday', True, 'Thursday'] 9 <class 'list'> 1704077239360\n"
     ]
    }
   ],
   "source": [
    "list1 = [\"Monday\", False, \"Tuesday\", 100, \"friday\", 22.5, \"Saturday\", True, \"Thursday\"]\n",
    "print (list1, len(list1), type(list1), id(list1))\n",
    "# print (min(list1), max(list1))\n",
    "# print (sum(list1), sum(list1) / len(list1))"
   ]
  },
  {
   "cell_type": "code",
   "execution_count": 156,
   "id": "bf6e5d4d-6bdb-4793-bbcb-4c17c7a7ceca",
   "metadata": {},
   "outputs": [
    {
     "name": "stdout",
     "output_type": "stream",
     "text": [
      "['Monday', 'Tuesday', 'Friday', 'Saturday', 'Thursday'] 5 <class 'list'> 1704077150656\n",
      "Friday Friday Thursday Thursday\n",
      "['Tuesday', 'Friday', 'Saturday'] ['Tuesday', 'Friday', 'Saturday'] ['Tuesday', 'Friday', 'Saturday'] ['Tuesday', 'Friday', 'Saturday']\n",
      "tur\n",
      "['Monday', 'Friday', 'Thursday'] ['Tuesday', 'Saturday'] ['Thursday', 'Saturday', 'Friday', 'Tuesday', 'Monday']\n"
     ]
    }
   ],
   "source": [
    "# Left to right ->    0         1          2         3           4 \n",
    "list1 =             [\"Monday\", \"Tuesday\", \"Friday\", \"Saturday\", \"Thursday\"]\n",
    "# right to left ->   -5        -4         -3        -2          -1 \n",
    "print (list1, len(list1), type(list1), id(list1))\n",
    "print (list1[2], list1[-3], list1[4], list1[-1])\n",
    "print (list1[1:4], list1[-4:-1], list1[1:-1], list1[-4:4])\n",
    "print (list1[3][2:5])\n",
    "print (list1[::2], list1[1::2], list1[::-1])"
   ]
  },
  {
   "cell_type": "code",
   "execution_count": 160,
   "id": "ba61b8f5-797a-4f70-9985-97a5b7158d49",
   "metadata": {},
   "outputs": [
    {
     "name": "stdout",
     "output_type": "stream",
     "text": [
      "['Monday', 'Tuesday', 'Friday', 'Saturday'] 4 <class 'list'> 1704074747840\n",
      "['Thursday', 'Wednesday', 'Sunday'] 3 <class 'list'> 1704074578368\n",
      "['Monday', 'Tuesday', 'Friday', 'Saturday', 'Thursday', 'Wednesday', 'Sunday'] 7 <class 'list'> 1704077154368\n"
     ]
    }
   ],
   "source": [
    "list1 = [\"Monday\", \"Tuesday\", \"Friday\", \"Saturday\"]\n",
    "print (list1, len(list1), type(list1), id(list1))\n",
    "list2 = [\"Thursday\", \"Wednesday\", \"Sunday\"]\n",
    "print (list2, len(list2), type(list2), id(list2))\n",
    "list3 = list1 + list2\n",
    "print (list3, len(list3), type(list3), id(list3))"
   ]
  },
  {
   "cell_type": "code",
   "execution_count": 167,
   "id": "2bb60b7c-6da6-4736-a379-c65f94ee7dba",
   "metadata": {},
   "outputs": [
    {
     "name": "stdout",
     "output_type": "stream",
     "text": [
      "['Monday', 'Tuesday', 'Friday', 'Saturday'] 4 <class 'list'> 1704074747840\n",
      "['Thursday', 'Wednesday', 'Sunday'] 3 <class 'list'> 1704074144704\n",
      "[['Monday', 'Tuesday', 'Friday', 'Saturday'], ['Thursday', 'Wednesday', 'Sunday']] 2 <class 'list'> 1704077157376\n",
      "Wednesday\n",
      "urs\n"
     ]
    }
   ],
   "source": [
    "list1 = [\"Monday\", \"Tuesday\", \"Friday\", \"Saturday\"]\n",
    "print (list1, len(list1), type(list1), id(list1))\n",
    "list2 = [\"Thursday\", \"Wednesday\", \"Sunday\"]\n",
    "print (list2, len(list2), type(list2), id(list2))\n",
    "list3 = [list1, list2]    # list of lists\n",
    "print (list3, len(list3), type(list3), id(list3))\n",
    "print (list3[1][1])\n",
    "print (list3[1][0][2:5])"
   ]
  },
  {
   "cell_type": "code",
   "execution_count": 169,
   "id": "2d44ce75-6336-435f-82f9-c31b3639ce91",
   "metadata": {},
   "outputs": [
    {
     "name": "stdout",
     "output_type": "stream",
     "text": [
      "['Monday', 'Tuesday', 'Friday', 'Saturday'] 4 <class 'list'> 1704077012544\n",
      "['Monday', 'Tuesday', 'Friday', 'Saturday', 'Wednesday', 'Sunday'] 6 <class 'list'> 1704077012544\n"
     ]
    }
   ],
   "source": [
    "# Insert operation of a list\n",
    "list1 = [\"Monday\", \"Tuesday\", \"Friday\", \"Saturday\"]\n",
    "print (list1, len(list1), type(list1), id(list1))\n",
    "list1.append(\"Wednesday\")\n",
    "list1.append(\"Sunday\")\n",
    "print (list1, len(list1), type(list1), id(list1))"
   ]
  },
  {
   "cell_type": "code",
   "execution_count": 190,
   "id": "c3ff2cd6-c17d-46e8-8e56-1aef45320e28",
   "metadata": {},
   "outputs": [
    {
     "name": "stdout",
     "output_type": "stream",
     "text": [
      "['Monday', 'Tuesday', 'Friday', 'Saturday'] 4 <class 'list'> 1704077712320\n",
      "['Monday', 'Tuesday', 'Friday', 'Wednesday', 'Saturday'] 5 <class 'list'> 1704077712320\n",
      "['Monday', 'Tuesday', 'Sunday', 'Friday', 'Wednesday', 'Saturday'] 6 <class 'list'> 1704077712320\n"
     ]
    }
   ],
   "source": [
    "list1 = [\"Monday\", \"Tuesday\", \"Friday\", \"Saturday\"]\n",
    "print (list1, len(list1), type(list1), id(list1))\n",
    "list1.insert(3, \"Wednesday\")\n",
    "print (list1, len(list1), type(list1), id(list1))\n",
    "list1.insert(2, \"Sunday\")\n",
    "print (list1, len(list1), type(list1), id(list1))"
   ]
  },
  {
   "cell_type": "code",
   "execution_count": 173,
   "id": "e301b159-7408-4137-ad11-3d5dd642849a",
   "metadata": {},
   "outputs": [
    {
     "name": "stdout",
     "output_type": "stream",
     "text": [
      "['Monday', 'Tuesday', 'Sunday', 'Friday', 'Wednesday', 'Saturday'] 6 <class 'list'> 1704075959680\n",
      "['Monday', 'Tuesday', 'Sunday', 'Friday', 'Saturday'] 5 <class 'list'> 1704075959680\n",
      "['Monday', 'Tuesday', 'Friday', 'Saturday'] 4 <class 'list'> 1704075959680\n"
     ]
    }
   ],
   "source": [
    "# delete operation on a list\n",
    "list1 = ['Monday', 'Tuesday', 'Sunday', 'Friday', 'Wednesday', 'Saturday']\n",
    "print (list1, len(list1), type(list1), id(list1))\n",
    "list1.remove(\"Wednesday\")\n",
    "print (list1, len(list1), type(list1), id(list1))\n",
    "list1.remove(\"Sunday\")\n",
    "print (list1, len(list1), type(list1), id(list1))"
   ]
  },
  {
   "cell_type": "code",
   "execution_count": 175,
   "id": "8457b4aa-dbbc-472f-ada0-0204f9c78e0f",
   "metadata": {},
   "outputs": [
    {
     "name": "stdout",
     "output_type": "stream",
     "text": [
      "['Monday', 'Tuesday', 'Sunday', 'Friday', 'Wednesday', 'Saturday'] 6 <class 'list'> 1704077033536\n",
      "Saturday\n",
      "['Monday', 'Tuesday', 'Sunday', 'Friday', 'Wednesday'] 5 <class 'list'> 1704077033536\n",
      "Wednesday\n",
      "['Monday', 'Tuesday', 'Sunday', 'Friday'] 4 <class 'list'> 1704077033536\n",
      "Friday\n",
      "['Monday', 'Tuesday', 'Sunday'] 3 <class 'list'> 1704077033536\n"
     ]
    }
   ],
   "source": [
    "list1 = ['Monday', 'Tuesday', 'Sunday', 'Friday', 'Wednesday', 'Saturday']\n",
    "print (list1, len(list1), type(list1), id(list1))\n",
    "print (list1.pop())\n",
    "print (list1, len(list1), type(list1), id(list1))\n",
    "print (list1.pop())\n",
    "print (list1, len(list1), type(list1), id(list1))\n",
    "print (list1.pop())\n",
    "print (list1, len(list1), type(list1), id(list1))"
   ]
  },
  {
   "cell_type": "code",
   "execution_count": 176,
   "id": "a8d2ab55-5d03-4ee7-bfc8-6aceb3c144cd",
   "metadata": {},
   "outputs": [
    {
     "name": "stdout",
     "output_type": "stream",
     "text": [
      "['Monday', 'Tuesday', 'Sunday', 'Friday', 'Wednesday', 'Saturday'] 6 <class 'list'> 1704074080128\n",
      "Friday\n",
      "['Monday', 'Tuesday', 'Sunday', 'Wednesday', 'Saturday'] 5 <class 'list'> 1704074080128\n",
      "Tuesday\n",
      "['Monday', 'Sunday', 'Wednesday', 'Saturday'] 4 <class 'list'> 1704074080128\n",
      "Wednesday\n",
      "['Monday', 'Sunday', 'Saturday'] 3 <class 'list'> 1704074080128\n"
     ]
    }
   ],
   "source": [
    "list1 = ['Monday', 'Tuesday', 'Sunday', 'Friday', 'Wednesday', 'Saturday']\n",
    "print (list1, len(list1), type(list1), id(list1))\n",
    "print (list1.pop(3))\n",
    "print (list1, len(list1), type(list1), id(list1))\n",
    "print (list1.pop(1))\n",
    "print (list1, len(list1), type(list1), id(list1))\n",
    "print (list1.pop(2))\n",
    "print (list1, len(list1), type(list1), id(list1))"
   ]
  },
  {
   "cell_type": "code",
   "execution_count": 187,
   "id": "bf69c200-e0c5-4606-b98d-958b449c886a",
   "metadata": {},
   "outputs": [
    {
     "name": "stdout",
     "output_type": "stream",
     "text": [
      "['Monday', 'Tuesday', 'Sunday', 'Friday', 'Wednesday', 'Saturday'] 6 <class 'list'> 1704077674496\n",
      "[] 0 <class 'list'> 1704077674496\n"
     ]
    }
   ],
   "source": [
    "list1 = ['Monday', 'Tuesday', 'Sunday', 'Friday', 'Wednesday', 'Saturday']\n",
    "print (list1, len(list1), type(list1), id(list1))\n",
    "list1.clear()\n",
    "print (list1, len(list1), type(list1), id(list1))"
   ]
  },
  {
   "cell_type": "code",
   "execution_count": 196,
   "id": "e03a3993-1fe6-4b7b-a03e-d96acce35bf9",
   "metadata": {},
   "outputs": [
    {
     "name": "stdout",
     "output_type": "stream",
     "text": [
      "['Monday', 'Tuesday', 'Sunday', 'Friday', 'Wednesday', 'Saturday'] 6 <class 'list'> 1704078321792\n",
      "['Monday', 'Tuesday', 'Friday', 'Wednesday', 'Saturday'] 5 <class 'list'> 1704078321792\n"
     ]
    },
    {
     "ename": "NameError",
     "evalue": "name 'list1' is not defined",
     "output_type": "error",
     "traceback": [
      "\u001b[1;31m---------------------------------------------------------------------------\u001b[0m",
      "\u001b[1;31mNameError\u001b[0m                                 Traceback (most recent call last)",
      "Cell \u001b[1;32mIn[196], line 6\u001b[0m\n\u001b[0;32m      4\u001b[0m \u001b[38;5;28mprint\u001b[39m (list1, \u001b[38;5;28mlen\u001b[39m(list1), \u001b[38;5;28mtype\u001b[39m(list1), \u001b[38;5;28mid\u001b[39m(list1))\n\u001b[0;32m      5\u001b[0m \u001b[38;5;28;01mdel\u001b[39;00m list1\n\u001b[1;32m----> 6\u001b[0m \u001b[38;5;28mprint\u001b[39m (\u001b[43mlist1\u001b[49m, \u001b[38;5;28mlen\u001b[39m(list1), \u001b[38;5;28mtype\u001b[39m(list1), \u001b[38;5;28mid\u001b[39m(list1))\n",
      "\u001b[1;31mNameError\u001b[0m: name 'list1' is not defined"
     ]
    }
   ],
   "source": [
    "list1 = ['Monday', 'Tuesday', 'Sunday', 'Friday', 'Wednesday', 'Saturday']\n",
    "print (list1, len(list1), type(list1), id(list1))\n",
    "del list1[2]\n",
    "print (list1, len(list1), type(list1), id(list1))\n",
    "del list1\n",
    "print (list1, len(list1), type(list1), id(list1))"
   ]
  },
  {
   "cell_type": "code",
   "execution_count": 189,
   "id": "b6448f31-5cac-4a89-b0ce-0f610b18f1f2",
   "metadata": {},
   "outputs": [
    {
     "name": "stdout",
     "output_type": "stream",
     "text": [
      "['Monday', 'Tuesday', 'Sunday', 'Friday', 'Wednesday', 'Saturday'] 6 <class 'list'> 1704073792064\n",
      "['Monday', 'Tuesday', 'Thursday', 'Friday', 'Wednesday', 'Saturday'] 6 <class 'list'> 1704073792064\n"
     ]
    }
   ],
   "source": [
    "# update operation on a list\n",
    "list1 = ['Monday', 'Tuesday', 'Sunday', 'Friday', 'Wednesday', 'Saturday']\n",
    "print (list1, len(list1), type(list1), id(list1))\n",
    "list1[2] = \"Thursday\"\n",
    "print (list1, len(list1), type(list1), id(list1))"
   ]
  },
  {
   "cell_type": "code",
   "execution_count": 197,
   "id": "60602cac-4404-4bc1-af46-3bc6a884c08c",
   "metadata": {},
   "outputs": [
    {
     "name": "stdout",
     "output_type": "stream",
     "text": [
      "['Monday', 'Tuesday', 'Sunday', 'Friday', 'Wednesday', 'Saturday'] 6 <class 'list'> 1704078286272\n",
      "['Saturday', 'Wednesday', 'Friday', 'Sunday', 'Tuesday', 'Monday'] 6 <class 'list'> 1704078286272\n"
     ]
    }
   ],
   "source": [
    "# reverse of a list\n",
    "list1 = ['Monday', 'Tuesday', 'Sunday', 'Friday', 'Wednesday', 'Saturday']\n",
    "print (list1, len(list1), type(list1), id(list1))\n",
    "list1.reverse()\n",
    "print (list1, len(list1), type(list1), id(list1))"
   ]
  },
  {
   "cell_type": "code",
   "execution_count": 200,
   "id": "a6d318b0-bad4-4594-8acd-1d68b94bbcce",
   "metadata": {},
   "outputs": [
    {
     "name": "stdout",
     "output_type": "stream",
     "text": [
      "['Monday', 'Tuesday', 'Sunday', 'Friday', 'Wednesday', 'Saturday'] 6 <class 'list'> 1704074681280\n",
      "['Friday', 'Monday', 'Saturday', 'Sunday', 'Tuesday', 'Wednesday'] 6 <class 'list'> 1704074681280\n",
      "['Wednesday', 'Tuesday', 'Sunday', 'Saturday', 'Monday', 'Friday'] 6 <class 'list'> 1704074681280\n"
     ]
    }
   ],
   "source": [
    "# sorting of a list\n",
    "list1 = ['Monday', 'Tuesday', 'Sunday', 'Friday', 'Wednesday', 'Saturday']\n",
    "print (list1, len(list1), type(list1), id(list1))\n",
    "list1.sort()\n",
    "print (list1, len(list1), type(list1), id(list1))\n",
    "list1.sort(reverse=True)\n",
    "print (list1, len(list1), type(list1), id(list1))"
   ]
  },
  {
   "cell_type": "code",
   "execution_count": 202,
   "id": "6df5ee8f-e1d7-4d9e-ad4d-0e630e7c054c",
   "metadata": {},
   "outputs": [
    {
     "name": "stdout",
     "output_type": "stream",
     "text": [
      "['Monday', 'Tuesday', 'Sunday', 'Friday', 'Wednesday', 'Saturday'] 6 <class 'list'> 1704073761728\n",
      "['Friday', 'Monday', 'Saturday', 'Sunday', 'Tuesday', 'Wednesday'] 6 <class 'list'> 1704073805952\n",
      "['Wednesday', 'Tuesday', 'Sunday', 'Saturday', 'Monday', 'Friday'] 6 <class 'list'> 1704073757440\n"
     ]
    }
   ],
   "source": [
    "list1 = ['Monday', 'Tuesday', 'Sunday', 'Friday', 'Wednesday', 'Saturday']\n",
    "print (list1, len(list1), type(list1), id(list1))\n",
    "list1 = sorted(list1)\n",
    "print (list1, len(list1), type(list1), id(list1))\n",
    "list1 = sorted(list1, reverse=True)\n",
    "print (list1, len(list1), type(list1), id(list1))"
   ]
  },
  {
   "cell_type": "code",
   "execution_count": 205,
   "id": "d6c36f11-3c31-44fd-b9df-58a06f5b24d9",
   "metadata": {},
   "outputs": [
    {
     "name": "stdout",
     "output_type": "stream",
     "text": [
      "[True, False, True, False] True False\n",
      "[False, False, False, False] False False\n",
      "[True, True, True, True] True True\n"
     ]
    }
   ],
   "source": [
    "list1 = [True, False, True, False]\n",
    "print (list1, any(list1), all(list1))\n",
    "list1 = [False, False, False, False]\n",
    "print (list1, any(list1), all(list1))\n",
    "list1 = [True, True, True, True]\n",
    "print (list1, any(list1), all(list1))"
   ]
  },
  {
   "cell_type": "code",
   "execution_count": 211,
   "id": "77ac97a6-61bc-4c3e-a004-0c5ebc2c6875",
   "metadata": {},
   "outputs": [
    {
     "name": "stdout",
     "output_type": "stream",
     "text": [
      "['Monday', 'Tuesday', 'Sunday', 'Friday', 'Wednesday', 'Saturday', 'Sunday', 'Friday'] 8 <class 'list'> 1704077504448\n",
      "2\n",
      "3\n",
      "7\n"
     ]
    }
   ],
   "source": [
    "List1 = ['Monday', 'Tuesday', 'Sunday', 'Friday', 'Wednesday', 'Saturday', 'Sunday', 'Friday']\n",
    "print (List1, len(List1), type(List1), id(List1))\n",
    "print (List1.count('Sunday'))\n",
    "print (List1.index(\"Friday\"))\n",
    "print (List1.index(\"Friday\", 4))"
   ]
  },
  {
   "cell_type": "code",
   "execution_count": 212,
   "id": "b6b6a997-ba46-4eba-87a6-54538db34b2c",
   "metadata": {},
   "outputs": [
    {
     "name": "stdout",
     "output_type": "stream",
     "text": [
      "From outside of the function before calling the function list2 = [11, 22, 33, 44, 55, 66, 77]\n",
      "From function before processing list1 = [11, 22, 33, 44, 55, 66, 77]\n",
      "From function after processing list1 = [111, 122, 133, 144, 155, 166, 177]\n",
      "From outside of the function after calling the function list2 = [111, 122, 133, 144, 155, 166, 177]\n"
     ]
    }
   ],
   "source": [
    "def list_function(list1):\n",
    "    print (\"From function before processing list1 =\", list1)\n",
    "    for i in range(len(list1)):\n",
    "        list1[i] += 100\n",
    "    print (\"From function after processing list1 =\", list1)\n",
    "\n",
    "list2 = [11, 22, 33, 44, 55, 66, 77]\n",
    "print (\"From outside of the function before calling the function list2 =\", list2)\n",
    "list_function(list2)\n",
    "print (\"From outside of the function after calling the function list2 =\", list2)"
   ]
  },
  {
   "cell_type": "code",
   "execution_count": 216,
   "id": "c60199d8-3fd8-4f57-a36f-6810e3914556",
   "metadata": {},
   "outputs": [
    {
     "name": "stdout",
     "output_type": "stream",
     "text": [
      "[11, 22, 33, 44, 55, 66, 77] 1704073816128\n",
      "[11, 22, 33, 44, 55, 66, 77] 1704073816128\n",
      "[1000, 22, 33, 44, 55, 66, 5000] 1704073816128\n",
      "[1000, 22, 33, 44, 55, 66, 5000] 1704073816128\n"
     ]
    }
   ],
   "source": [
    "list1 = [11, 22, 33, 44, 55, 66, 77]\n",
    "print (list1, id(list1))\n",
    "list2 = list1\n",
    "print (list2, id(list2))\n",
    "list1[0] = 1000\n",
    "list2[-1] = 5000\n",
    "print (list1, id(list1))\n",
    "print (list2, id(list2))"
   ]
  },
  {
   "cell_type": "code",
   "execution_count": 217,
   "id": "09d2eea1-3274-477a-883e-48c16788978a",
   "metadata": {},
   "outputs": [
    {
     "name": "stdout",
     "output_type": "stream",
     "text": [
      "[11, 22, 33, 44, 55, 66, 77] 1704066036160\n",
      "[11, 22, 33, 44, 55, 66, 77] 1704073816128\n",
      "[1000, 22, 33, 44, 55, 66, 77] 1704066036160\n",
      "[11, 22, 33, 44, 55, 66, 5000] 1704073816128\n"
     ]
    }
   ],
   "source": [
    "list1 = [11, 22, 33, 44, 55, 66, 77]\n",
    "print (list1, id(list1))\n",
    "list2[:] = list1\n",
    "print (list2, id(list2))\n",
    "list1[0] = 1000\n",
    "list2[-1] = 5000\n",
    "print (list1, id(list1))\n",
    "print (list2, id(list2))"
   ]
  },
  {
   "cell_type": "code",
   "execution_count": 218,
   "id": "94f9c8b5-eafa-4864-ae09-a669af13c6a2",
   "metadata": {},
   "outputs": [
    {
     "name": "stdout",
     "output_type": "stream",
     "text": [
      "[11, 22, 33, 44, 55, 66, 77] 1704074746816\n",
      "[11, 22, 33, 44, 55, 66, 77] 1704073818944\n",
      "[1000, 22, 33, 44, 55, 66, 77] 1704074746816\n",
      "[11, 22, 33, 44, 55, 66, 5000] 1704073818944\n"
     ]
    }
   ],
   "source": [
    "list1 = [11, 22, 33, 44, 55, 66, 77]\n",
    "print (list1, id(list1))\n",
    "list2 = list1.copy()\n",
    "print (list2, id(list2))\n",
    "list1[0] = 1000\n",
    "list2[-1] = 5000\n",
    "print (list1, id(list1))\n",
    "print (list2, id(list2))"
   ]
  },
  {
   "cell_type": "code",
   "execution_count": 219,
   "id": "ebb03583-e8fd-4ec6-85f7-17a288e78479",
   "metadata": {},
   "outputs": [
    {
     "name": "stdout",
     "output_type": "stream",
     "text": [
      "[11, 22, 33, 44, 55, 66, 77] 1704074676096\n",
      "[11, 22, 33, 44] 1704073820864\n",
      "[1000, 22, 33, 44, 55, 66, 77] 1704074676096\n",
      "[11, 22, 33, 5000] 1704073820864\n"
     ]
    }
   ],
   "source": [
    "list1 = [11, 22, 33, 44, 55, 66, 77]\n",
    "print (list1, id(list1))\n",
    "list2 = list1[:4]\n",
    "print (list2, id(list2))\n",
    "list1[0] = 1000\n",
    "list2[-1] = 5000\n",
    "print (list1, id(list1))\n",
    "print (list2, id(list2))"
   ]
  },
  {
   "cell_type": "code",
   "execution_count": null,
   "id": "ebd91fd4-ddac-4933-bd4c-f1d4b494f00a",
   "metadata": {},
   "outputs": [],
   "source": [
    "Class Assignment:\n",
    "-----------------\n",
    "Take n number of integers from the user and put them in a list variable and sort them in the ascending order.\n",
    "Now take one by one number from the sorted list and put them in two separate lists depending upon the fact\n",
    "whether the number is EVEN or ODD. So in this way create another two EVEN and ODD lists. Display all three lists."
   ]
  },
  {
   "cell_type": "code",
   "execution_count": 224,
   "id": "69174810-f5ce-4a39-8d39-efc6d20f4535",
   "metadata": {},
   "outputs": [
    {
     "name": "stdin",
     "output_type": "stream",
     "text": [
      "Enter the number of elements:  8\n",
      "Enter a value:  22\n",
      "Enter a value:  66\n",
      "Enter a value:  44\n",
      "Enter a value:  77\n",
      "Enter a value:  55\n",
      "Enter a value:  88\n",
      "Enter a value:  11\n",
      "Enter a value:  33\n"
     ]
    },
    {
     "name": "stdout",
     "output_type": "stream",
     "text": [
      "User Input List = [11, 22, 33, 44, 55, 66, 77, 88]\n",
      "EVEN Numbers List = [22, 44, 66, 88]\n",
      "ODD Numbers List = [11, 33, 55, 77]\n"
     ]
    }
   ],
   "source": [
    "n = int(input(\"Enter the number of elements: \"))\n",
    "list1 = []\n",
    "for i in range(n):\n",
    "    item = int(input(\"Enter a value: \"))\n",
    "    list1.append(item)\n",
    "\n",
    "list1.sort()\n",
    "print(\"User Input List =\", list1)\n",
    "\n",
    "list2 = []\n",
    "list3 = []\n",
    "for i in range(len(list1)):\n",
    "    if (list1[i] % 2 == 0): list2.append(list1[i])\n",
    "    else: list3.append(list1[i])\n",
    "\n",
    "print(\"EVEN Numbers List =\", list2)\n",
    "print(\"ODD Numbers List =\", list3)"
   ]
  },
  {
   "cell_type": "markdown",
   "id": "5e2d2b93-b345-4c23-b1c3-cca7b5bb2eb9",
   "metadata": {},
   "source": [
    "### Tuple Processing"
   ]
  },
  {
   "cell_type": "code",
   "execution_count": 133,
   "id": "e67e518d-9d03-48b8-9f7d-991b6af28dac",
   "metadata": {},
   "outputs": [
    {
     "name": "stdout",
     "output_type": "stream",
     "text": [
      "(100, 200, 300, 400, 150) 5 <class 'tuple'> 1704064957744\n",
      "100 400\n",
      "1150 230.0\n"
     ]
    }
   ],
   "source": [
    "tuple1 = (100, 200, 300, 400, 150)\n",
    "print (tuple1, len(tuple1), type(tuple1), id(tuple1))\n",
    "print (min(tuple1), max(tuple1))\n",
    "print (sum(tuple1), sum(tuple1) / len(tuple1))"
   ]
  },
  {
   "cell_type": "code",
   "execution_count": 135,
   "id": "2ad8c07c-c451-45aa-b4d1-24fd4b5f5431",
   "metadata": {},
   "outputs": [
    {
     "name": "stdout",
     "output_type": "stream",
     "text": [
      "(100, True, 200, 300.5, False, 400.23, 150) 7 <class 'tuple'> 1704065144800\n",
      "False 400.23\n",
      "1151.73 164.53285714285715\n"
     ]
    }
   ],
   "source": [
    "tuple1 = (100, True, 200, 300.5, False, 400.23, 150)\n",
    "print (tuple1, len(tuple1), type(tuple1), id(tuple1))\n",
    "print (min(tuple1), max(tuple1))\n",
    "print (sum(tuple1), sum(tuple1) / len(tuple1))"
   ]
  },
  {
   "cell_type": "code",
   "execution_count": 141,
   "id": "ffa6d573-5d1e-4938-aa55-3c7a399e166f",
   "metadata": {},
   "outputs": [
    {
     "name": "stdout",
     "output_type": "stream",
     "text": [
      "('Monday', 'Tuesday', 'friday', 'Saturday', 'Thursday') 5 <class 'tuple'> 1704079723072\n",
      "Monday friday\n"
     ]
    },
    {
     "ename": "TypeError",
     "evalue": "unsupported operand type(s) for +: 'int' and 'str'",
     "output_type": "error",
     "traceback": [
      "\u001b[1;31m---------------------------------------------------------------------------\u001b[0m",
      "\u001b[1;31mTypeError\u001b[0m                                 Traceback (most recent call last)",
      "Cell \u001b[1;32mIn[141], line 4\u001b[0m\n\u001b[0;32m      2\u001b[0m \u001b[38;5;28mprint\u001b[39m (tuple1, \u001b[38;5;28mlen\u001b[39m(tuple1), \u001b[38;5;28mtype\u001b[39m(tuple1), \u001b[38;5;28mid\u001b[39m(tuple1))\n\u001b[0;32m      3\u001b[0m \u001b[38;5;28mprint\u001b[39m (\u001b[38;5;28mmin\u001b[39m(tuple1), \u001b[38;5;28mmax\u001b[39m(tuple1))\n\u001b[1;32m----> 4\u001b[0m \u001b[38;5;28mprint\u001b[39m (\u001b[38;5;28;43msum\u001b[39;49m\u001b[43m(\u001b[49m\u001b[43mtuple1\u001b[49m\u001b[43m)\u001b[49m, \u001b[38;5;28msum\u001b[39m(tuple1) \u001b[38;5;241m/\u001b[39m \u001b[38;5;28mlen\u001b[39m(tuple1))\n",
      "\u001b[1;31mTypeError\u001b[0m: unsupported operand type(s) for +: 'int' and 'str'"
     ]
    }
   ],
   "source": [
    "tuple1 = (\"Monday\", \"Tuesday\", \"friday\", \"Saturday\", \"Thursday\")\n",
    "print (tuple1, len(tuple1), type(tuple1), id(tuple1))\n",
    "print (min(tuple1), max(tuple1))\n",
    "# print (sum(tuple1), sum(tuple1) / len(tuple1))"
   ]
  },
  {
   "cell_type": "code",
   "execution_count": 145,
   "id": "3c9dbed3-670c-433d-829b-45800abaa5d3",
   "metadata": {},
   "outputs": [
    {
     "name": "stdout",
     "output_type": "stream",
     "text": [
      "('Monday', False, 'Tuesday', 100, 'friday', 22.5, 'Saturday', True, 'Thursday') 9 <class 'tuple'> 1704079958336\n"
     ]
    }
   ],
   "source": [
    "tuple1 = (\"Monday\", False, \"Tuesday\", 100, \"friday\", 22.5, \"Saturday\", True, \"Thursday\")\n",
    "print (tuple1, len(tuple1), type(tuple1), id(tuple1))\n",
    "# print (min(tuple1), max(tuple1))\n",
    "# print (sum(tuple1), sum(tuple1) / len(tuple1))"
   ]
  },
  {
   "cell_type": "code",
   "execution_count": 153,
   "id": "0db985f1-4c2b-4317-bd4e-041199c527f7",
   "metadata": {},
   "outputs": [
    {
     "name": "stdout",
     "output_type": "stream",
     "text": [
      "('Monday', 'Tuesday', 'friday', 'Saturday', 'Thursday') 5 <class 'tuple'> 1704079793568\n"
     ]
    }
   ],
   "source": [
    "tuple1 = (\"Monday\", \"Tuesday\", \"friday\", \"Saturday\", \"Thursday\")\n",
    "print (tuple1, len(tuple1), type(tuple1), id(tuple1))"
   ]
  },
  {
   "cell_type": "code",
   "execution_count": 157,
   "id": "44dccd97-1cef-40d0-bfcf-0cd7a10dba38",
   "metadata": {},
   "outputs": [
    {
     "name": "stdout",
     "output_type": "stream",
     "text": [
      "('Monday', 'Tuesday', 'Friday', 'Saturday', 'Thursday') 5 <class 'tuple'> 1704079794848\n",
      "Friday Friday Thursday Thursday\n",
      "('Tuesday', 'Friday', 'Saturday') ('Tuesday', 'Friday', 'Saturday') ('Tuesday', 'Friday', 'Saturday') ('Tuesday', 'Friday', 'Saturday')\n",
      "tur\n",
      "('Monday', 'Friday', 'Thursday') ('Tuesday', 'Saturday') ('Thursday', 'Saturday', 'Friday', 'Tuesday', 'Monday')\n"
     ]
    }
   ],
   "source": [
    "# Left to right ->    0         1          2         3           4 \n",
    "tuple1 =             (\"Monday\", \"Tuesday\", \"Friday\", \"Saturday\", \"Thursday\")\n",
    "# right to left ->   -5        -4         -3        -2          -1 \n",
    "print (tuple1, len(tuple1), type(tuple1), id(tuple1))\n",
    "print (tuple1[2], tuple1[-3], tuple1[4], tuple1[-1])\n",
    "print (tuple1[1:4], tuple1[-4:-1], tuple1[1:-1], tuple1[-4:4])\n",
    "print (tuple1[3][2:5])\n",
    "print (tuple1[::2], tuple1[1::2], tuple1[::-1])"
   ]
  },
  {
   "cell_type": "code",
   "execution_count": 162,
   "id": "be03b2e6-1d16-403d-9013-76a15688399a",
   "metadata": {},
   "outputs": [
    {
     "name": "stdout",
     "output_type": "stream",
     "text": [
      "('Monday', 'Tuesday', 'Friday', 'Saturday') 4 <class 'tuple'> 1704079705088\n",
      "('Thursday', 'Wednesday', 'Sunday') 3 <class 'tuple'> 1704074335168\n",
      "('Monday', 'Tuesday', 'Friday', 'Saturday', 'Thursday', 'Wednesday', 'Sunday') 7 <class 'tuple'> 1704079738048\n"
     ]
    }
   ],
   "source": [
    "tuple1 = (\"Monday\", \"Tuesday\", \"Friday\", \"Saturday\")\n",
    "print (tuple1, len(tuple1), type(tuple1), id(tuple1))\n",
    "tuple2 = (\"Thursday\", \"Wednesday\", \"Sunday\")\n",
    "print (tuple2, len(tuple2), type(tuple2), id(tuple2))\n",
    "tuple3 = tuple1 + tuple2\n",
    "print (tuple3, len(tuple3), type(tuple3), id(tuple3))"
   ]
  },
  {
   "cell_type": "code",
   "execution_count": 168,
   "id": "88d15b07-bf36-4468-862e-98403de215da",
   "metadata": {},
   "outputs": [
    {
     "name": "stdout",
     "output_type": "stream",
     "text": [
      "('Monday', 'Tuesday', 'Friday', 'Saturday') 4 <class 'tuple'> 1704079713168\n",
      "('Thursday', 'Wednesday', 'Sunday') 3 <class 'tuple'> 1704074473472\n",
      "(('Monday', 'Tuesday', 'Friday', 'Saturday'), ('Thursday', 'Wednesday', 'Sunday')) 2 <class 'tuple'> 1704074344768\n",
      "Wednesday\n",
      "urs\n"
     ]
    }
   ],
   "source": [
    "tuple1 = (\"Monday\", \"Tuesday\", \"Friday\", \"Saturday\")\n",
    "print (tuple1, len(tuple1), type(tuple1), id(tuple1))\n",
    "tuple2 = (\"Thursday\", \"Wednesday\", \"Sunday\")\n",
    "print (tuple2, len(tuple2), type(tuple2), id(tuple2))\n",
    "tuple3 = (tuple1, tuple2)    # tuple of tuples\n",
    "print (tuple3, len(tuple3), type(tuple3), id(tuple3))\n",
    "print (tuple3[1][1])\n",
    "print (tuple3[1][0][2:5])"
   ]
  },
  {
   "cell_type": "code",
   "execution_count": 195,
   "id": "d657c4e5-eb8c-476e-8876-5b574c38e3f9",
   "metadata": {},
   "outputs": [
    {
     "name": "stdout",
     "output_type": "stream",
     "text": [
      "('Monday', 'Tuesday', 'Sunday', 'Friday', 'Wednesday', 'Saturday') 6 <class 'tuple'> 1704080075040\n",
      "['Monday', 'Tuesday', 'Sunday', 'Friday', 'Wednesday', 'Saturday'] 6 <class 'list'> 1704079200768\n",
      "['Monday', 'Tuesday', 'Thursday', 'Friday', 'Wednesday', 'Saturday'] 6 <class 'list'> 1704079200768\n",
      "('Monday', 'Tuesday', 'Thursday', 'Friday', 'Wednesday', 'Saturday') 6 <class 'tuple'> 1704080080032\n"
     ]
    }
   ],
   "source": [
    "# update a tuple through a list\n",
    "tuple1 = ('Monday', 'Tuesday', 'Sunday', 'Friday', 'Wednesday', 'Saturday')\n",
    "print (tuple1, len(tuple1), type(tuple1), id(tuple1))\n",
    "# tuple1[2] = \"Thursday\"\n",
    "list1 = list(tuple1)\n",
    "print (list1, len(list1), type(list1), id(list1))\n",
    "list1[2] = \"Thursday\"\n",
    "print (list1, len(list1), type(list1), id(list1))\n",
    "tuple1 = tuple(list1)\n",
    "print (tuple1, len(tuple1), type(tuple1), id(tuple1))"
   ]
  },
  {
   "cell_type": "code",
   "execution_count": 207,
   "id": "a1c512d8-ffca-4527-9186-d100d8e360d0",
   "metadata": {},
   "outputs": [
    {
     "name": "stdout",
     "output_type": "stream",
     "text": [
      "(True, False, True, False) True False\n",
      "(False, False, False, False) False False\n",
      "(True, True, True, True) True True\n"
     ]
    }
   ],
   "source": [
    "tuple1 = (True, False, True, False)\n",
    "print (tuple1, any(tuple1), all(tuple1))\n",
    "tuple1 = (False, False, False, False)\n",
    "print (tuple1, any(tuple1), all(tuple1))\n",
    "tuple1 = (True, True, True, True)\n",
    "print (tuple1, any(tuple1), all(tuple1))"
   ]
  },
  {
   "cell_type": "code",
   "execution_count": 210,
   "id": "d81e1cca-fd99-4c4b-b22e-b53e90326440",
   "metadata": {},
   "outputs": [
    {
     "name": "stdout",
     "output_type": "stream",
     "text": [
      "('Monday', 'Tuesday', 'Sunday', 'Friday', 'Wednesday', 'Saturday', 'Sunday', 'Friday') 8 <class 'tuple'> 1704078448320\n",
      "2\n",
      "3\n",
      "7\n"
     ]
    }
   ],
   "source": [
    "tuple1 = ('Monday', 'Tuesday', 'Sunday', 'Friday', 'Wednesday', 'Saturday', 'Sunday', 'Friday')\n",
    "print (tuple1, len(tuple1), type(tuple1), id(tuple1))\n",
    "print (tuple1.count('Sunday'))\n",
    "print (tuple1.index(\"Friday\"))\n",
    "print (tuple1.index(\"Friday\", 4))"
   ]
  },
  {
   "cell_type": "markdown",
   "id": "71361434-46be-4ce9-ab1c-ee69a205ddfd",
   "metadata": {},
   "source": [
    "### Dictionary Processing"
   ]
  },
  {
   "cell_type": "code",
   "execution_count": 233,
   "id": "fdb0b02c-fb9a-4f44-8656-8223025b8b4d",
   "metadata": {},
   "outputs": [
    {
     "name": "stdout",
     "output_type": "stream",
     "text": [
      "{'apple': 'red', 'pineapple': 'yellow', 'mango': 'green', 'orange': 'orange'} 4 <class 'dict'> 1704080691136\n",
      "dict_keys(['apple', 'pineapple', 'mango', 'orange'])\n",
      "dict_values(['red', 'yellow', 'green', 'orange'])\n",
      "dict_items([('apple', 'red'), ('pineapple', 'yellow'), ('mango', 'green'), ('orange', 'orange')])\n"
     ]
    }
   ],
   "source": [
    "dict1 = {\"apple\":\"red\", \"pineapple\":\"yellow\", \"mango\":\"green\", \"orange\":\"orange\"}\n",
    "print (dict1, len(dict1), type(dict1), id(dict1))\n",
    "print (dict1.keys())    # returns list of keys\n",
    "print (dict1.values())  # returns list of values\n",
    "print (dict1.items())   # returns list of tuples"
   ]
  },
  {
   "cell_type": "code",
   "execution_count": 234,
   "id": "7e9bc243-4133-466c-8fa1-e44da7c1e9bf",
   "metadata": {},
   "outputs": [
    {
     "name": "stdout",
     "output_type": "stream",
     "text": [
      "Key = apple and value = red...\n",
      "Key = pineapple and value = yellow...\n",
      "Key = mango and value = green...\n",
      "Key = orange and value = orange...\n"
     ]
    }
   ],
   "source": [
    "for key, val in dict1.items():\n",
    "    print (f\"Key = {key} and value = {val}...\")"
   ]
  },
  {
   "cell_type": "code",
   "execution_count": 235,
   "id": "04f26823-7d24-440b-ada4-fd1ff666c57a",
   "metadata": {},
   "outputs": [
    {
     "name": "stdout",
     "output_type": "stream",
     "text": [
      "{'apple': 'red', 'pineapple': 'yellow', 'mango': 'red'} 3 <class 'dict'> 1704080321472\n"
     ]
    }
   ],
   "source": [
    "dict1 = {\"apple\":\"red\", \"pineapple\":\"yellow\", \"mango\":\"green\", \"mango\":\"red\"}\n",
    "print (dict1, len(dict1), type(dict1), id(dict1))"
   ]
  },
  {
   "cell_type": "code",
   "execution_count": 240,
   "id": "672cad81-2d7b-40fc-a91d-b7f72969590f",
   "metadata": {},
   "outputs": [
    {
     "name": "stdout",
     "output_type": "stream",
     "text": [
      "{'apple': 'red', 'pineapple': 'yellow', 'mango': 'green', 'orange': 'orange'} 4 <class 'dict'> 1704080633344\n",
      "yellow\n",
      "yellow\n",
      "None\n",
      "Not found\n"
     ]
    }
   ],
   "source": [
    "dict1 = {\"apple\":\"red\", \"pineapple\":\"yellow\", \"mango\":\"green\", \"orange\":\"orange\"}\n",
    "print (dict1, len(dict1), type(dict1), id(dict1))\n",
    "print (dict1.get(\"pineapple\"))\n",
    "print (dict1.get(\"pineapple\", \"Not found\"))\n",
    "print (dict1.get(\"guava\"))\n",
    "print (dict1.get(\"guava\", \"Not found\"))"
   ]
  },
  {
   "cell_type": "code",
   "execution_count": 241,
   "id": "04937471-93e3-4976-9b2c-06c230ab3adc",
   "metadata": {},
   "outputs": [
    {
     "name": "stdout",
     "output_type": "stream",
     "text": [
      "{'apple': 'red', 'pineapple': 'yellow', 'mango': 'green', 'orange': 'orange'} 4 <class 'dict'> 1704077673216\n",
      "yellow\n",
      "green\n"
     ]
    },
    {
     "ename": "KeyError",
     "evalue": "'guava'",
     "output_type": "error",
     "traceback": [
      "\u001b[1;31m---------------------------------------------------------------------------\u001b[0m",
      "\u001b[1;31mKeyError\u001b[0m                                  Traceback (most recent call last)",
      "Cell \u001b[1;32mIn[241], line 5\u001b[0m\n\u001b[0;32m      3\u001b[0m \u001b[38;5;28mprint\u001b[39m (dict1[\u001b[38;5;124m\"\u001b[39m\u001b[38;5;124mpineapple\u001b[39m\u001b[38;5;124m\"\u001b[39m])\n\u001b[0;32m      4\u001b[0m \u001b[38;5;28mprint\u001b[39m (dict1[\u001b[38;5;124m\"\u001b[39m\u001b[38;5;124mmango\u001b[39m\u001b[38;5;124m\"\u001b[39m])\n\u001b[1;32m----> 5\u001b[0m \u001b[38;5;28mprint\u001b[39m (\u001b[43mdict1\u001b[49m\u001b[43m[\u001b[49m\u001b[38;5;124;43m\"\u001b[39;49m\u001b[38;5;124;43mguava\u001b[39;49m\u001b[38;5;124;43m\"\u001b[39;49m\u001b[43m]\u001b[49m)\n",
      "\u001b[1;31mKeyError\u001b[0m: 'guava'"
     ]
    }
   ],
   "source": [
    "dict1 = {\"apple\":\"red\", \"pineapple\":\"yellow\", \"mango\":\"green\", \"orange\":\"orange\"}\n",
    "print (dict1, len(dict1), type(dict1), id(dict1))\n",
    "print (dict1[\"pineapple\"])\n",
    "print (dict1[\"mango\"])\n",
    "print (dict1[\"guava\"])"
   ]
  },
  {
   "cell_type": "code",
   "execution_count": 243,
   "id": "0d83afc0-229b-4ed3-88f3-24049dee38d1",
   "metadata": {},
   "outputs": [
    {
     "name": "stdout",
     "output_type": "stream",
     "text": [
      "{'apple': 'red', 'pineapple': 'yellow', 'mango': 'green'} 3 <class 'dict'> 1704077449152\n",
      "{'apple': 'red', 'pineapple': 'yellow', 'mango': 'green', 'orange': 'orange'} 4 <class 'dict'> 1704077449152\n",
      "{'apple': 'red', 'pineapple': 'yellow', 'mango': 'green', 'orange': 'orange', 'coconut': 'brown'} 5 <class 'dict'> 1704077449152\n",
      "{'apple': 'red', 'pineapple': 'yellow', 'mango': 'red', 'orange': 'orange', 'coconut': 'brown'} 5 <class 'dict'> 1704077449152\n"
     ]
    }
   ],
   "source": [
    "# insert and update operations\n",
    "dict1 = {\"apple\":\"red\", \"pineapple\":\"yellow\", \"mango\":\"green\"}\n",
    "print (dict1, len(dict1), type(dict1), id(dict1))\n",
    "dict1[\"orange\"] = \"orange\"   # insert\n",
    "print (dict1, len(dict1), type(dict1), id(dict1))\n",
    "dict1[\"coconut\"] = \"brown\"   # insert\n",
    "print (dict1, len(dict1), type(dict1), id(dict1))\n",
    "dict1[\"mango\"] = \"red\"    # update\n",
    "print (dict1, len(dict1), type(dict1), id(dict1))"
   ]
  },
  {
   "cell_type": "code",
   "execution_count": 244,
   "id": "ee353463-0b3b-443c-a681-b916d433e74d",
   "metadata": {},
   "outputs": [
    {
     "name": "stdout",
     "output_type": "stream",
     "text": [
      "{'apple': 'red', 'pineapple': 'yellow', 'mango': 'green'} 3 <class 'dict'> 1704080619136\n",
      "{'apple': 'red', 'pineapple': 'yellow', 'mango': 'green'} 3 <class 'dict'> 1704080619136\n",
      "{'apple': 'red', 'pineapple': 'yellow', 'mango': 'green'} 3 <class 'dict'> 1704080619136\n",
      "{'apple': 'red', 'pineapple': 'yellow', 'mango': 'green', 'coconut': 'brown'} 4 <class 'dict'> 1704080619136\n"
     ]
    }
   ],
   "source": [
    "dict1 = {\"apple\":\"red\", \"pineapple\":\"yellow\", \"mango\":\"green\"}\n",
    "print (dict1, len(dict1), type(dict1), id(dict1))\n",
    "dict1.setdefault(\"apple\", \"deep red\")\n",
    "print (dict1, len(dict1), type(dict1), id(dict1))\n",
    "dict1.setdefault(\"mango\", \"red\")\n",
    "print (dict1, len(dict1), type(dict1), id(dict1))\n",
    "dict1.setdefault(\"coconut\", \"brown\")\n",
    "print (dict1, len(dict1), type(dict1), id(dict1))"
   ]
  },
  {
   "cell_type": "code",
   "execution_count": 247,
   "id": "3eead3c0-e617-41ef-8e19-8ddd7e7d075f",
   "metadata": {},
   "outputs": [
    {
     "name": "stdout",
     "output_type": "stream",
     "text": [
      "{'apple': 'red', 'pineapple': 'yellow', 'mango': 'green', 'coconut': 'brown'} 4 <class 'dict'> 1704080629504\n",
      "yellow\n",
      "{'apple': 'red', 'mango': 'green', 'coconut': 'brown'} 3 <class 'dict'> 1704080629504\n",
      "red\n",
      "{'mango': 'green', 'coconut': 'brown'} 2 <class 'dict'> 1704080629504\n",
      "brown\n",
      "{'mango': 'green'} 1 <class 'dict'> 1704080629504\n"
     ]
    },
    {
     "ename": "KeyError",
     "evalue": "'coconut'",
     "output_type": "error",
     "traceback": [
      "\u001b[1;31m---------------------------------------------------------------------------\u001b[0m",
      "\u001b[1;31mKeyError\u001b[0m                                  Traceback (most recent call last)",
      "Cell \u001b[1;32mIn[247], line 10\u001b[0m\n\u001b[0;32m      8\u001b[0m \u001b[38;5;28mprint\u001b[39m (dict1\u001b[38;5;241m.\u001b[39mpop(\u001b[38;5;124m'\u001b[39m\u001b[38;5;124mcoconut\u001b[39m\u001b[38;5;124m'\u001b[39m))\n\u001b[0;32m      9\u001b[0m \u001b[38;5;28mprint\u001b[39m (dict1, \u001b[38;5;28mlen\u001b[39m(dict1), \u001b[38;5;28mtype\u001b[39m(dict1), \u001b[38;5;28mid\u001b[39m(dict1))\n\u001b[1;32m---> 10\u001b[0m \u001b[38;5;28mprint\u001b[39m (\u001b[43mdict1\u001b[49m\u001b[38;5;241;43m.\u001b[39;49m\u001b[43mpop\u001b[49m\u001b[43m(\u001b[49m\u001b[38;5;124;43m'\u001b[39;49m\u001b[38;5;124;43mcoconut\u001b[39;49m\u001b[38;5;124;43m'\u001b[39;49m\u001b[43m)\u001b[49m)\n\u001b[0;32m     11\u001b[0m \u001b[38;5;28mprint\u001b[39m (dict1, \u001b[38;5;28mlen\u001b[39m(dict1), \u001b[38;5;28mtype\u001b[39m(dict1), \u001b[38;5;28mid\u001b[39m(dict1))\n",
      "\u001b[1;31mKeyError\u001b[0m: 'coconut'"
     ]
    }
   ],
   "source": [
    "# delete operation\n",
    "dict1 = {'apple': 'red', 'pineapple': 'yellow', 'mango': 'green', 'coconut': 'brown'}\n",
    "print (dict1, len(dict1), type(dict1), id(dict1))\n",
    "print (dict1.pop('pineapple'))\n",
    "print (dict1, len(dict1), type(dict1), id(dict1))\n",
    "print (dict1.pop('apple'))\n",
    "print (dict1, len(dict1), type(dict1), id(dict1))\n",
    "print (dict1.pop('coconut'))\n",
    "print (dict1, len(dict1), type(dict1), id(dict1))\n",
    "print (dict1.pop('coconut'))\n",
    "print (dict1, len(dict1), type(dict1), id(dict1))"
   ]
  },
  {
   "cell_type": "code",
   "execution_count": 249,
   "id": "a6a10770-54fc-497d-87af-e42a0e3de3e0",
   "metadata": {},
   "outputs": [
    {
     "name": "stdout",
     "output_type": "stream",
     "text": [
      "{'apple': 'red', 'pineapple': 'yellow', 'mango': 'green', 'coconut': 'brown'} 4 <class 'dict'> 1704072858112\n",
      "('coconut', 'brown')\n",
      "{'apple': 'red', 'pineapple': 'yellow', 'mango': 'green'} 3 <class 'dict'> 1704072858112\n",
      "('mango', 'green')\n",
      "{'apple': 'red', 'pineapple': 'yellow'} 2 <class 'dict'> 1704072858112\n",
      "('pineapple', 'yellow')\n",
      "{'apple': 'red'} 1 <class 'dict'> 1704072858112\n",
      "('apple', 'red')\n",
      "{} 0 <class 'dict'> 1704072858112\n"
     ]
    },
    {
     "ename": "KeyError",
     "evalue": "'popitem(): dictionary is empty'",
     "output_type": "error",
     "traceback": [
      "\u001b[1;31m---------------------------------------------------------------------------\u001b[0m",
      "\u001b[1;31mKeyError\u001b[0m                                  Traceback (most recent call last)",
      "Cell \u001b[1;32mIn[249], line 11\u001b[0m\n\u001b[0;32m      9\u001b[0m \u001b[38;5;28mprint\u001b[39m (dict1\u001b[38;5;241m.\u001b[39mpopitem())\n\u001b[0;32m     10\u001b[0m \u001b[38;5;28mprint\u001b[39m (dict1, \u001b[38;5;28mlen\u001b[39m(dict1), \u001b[38;5;28mtype\u001b[39m(dict1), \u001b[38;5;28mid\u001b[39m(dict1))\n\u001b[1;32m---> 11\u001b[0m \u001b[38;5;28mprint\u001b[39m (\u001b[43mdict1\u001b[49m\u001b[38;5;241;43m.\u001b[39;49m\u001b[43mpopitem\u001b[49m\u001b[43m(\u001b[49m\u001b[43m)\u001b[49m)\n\u001b[0;32m     12\u001b[0m \u001b[38;5;28mprint\u001b[39m (dict1, \u001b[38;5;28mlen\u001b[39m(dict1), \u001b[38;5;28mtype\u001b[39m(dict1), \u001b[38;5;28mid\u001b[39m(dict1))\n",
      "\u001b[1;31mKeyError\u001b[0m: 'popitem(): dictionary is empty'"
     ]
    }
   ],
   "source": [
    "dict1 = {'apple': 'red', 'pineapple': 'yellow', 'mango': 'green', 'coconut': 'brown'}\n",
    "print (dict1, len(dict1), type(dict1), id(dict1))\n",
    "print (dict1.popitem())\n",
    "print (dict1, len(dict1), type(dict1), id(dict1))\n",
    "print (dict1.popitem())\n",
    "print (dict1, len(dict1), type(dict1), id(dict1))\n",
    "print (dict1.popitem())\n",
    "print (dict1, len(dict1), type(dict1), id(dict1))\n",
    "print (dict1.popitem())\n",
    "print (dict1, len(dict1), type(dict1), id(dict1))\n",
    "print (dict1.popitem())\n",
    "print (dict1, len(dict1), type(dict1), id(dict1))"
   ]
  },
  {
   "cell_type": "code",
   "execution_count": 250,
   "id": "442c86cc-5020-436a-a879-6fb2e1a9d5cf",
   "metadata": {},
   "outputs": [
    {
     "name": "stdout",
     "output_type": "stream",
     "text": [
      "{'apple': 'red', 'pineapple': 'yellow', 'mango': 'green', 'coconut': 'brown'} 4 <class 'dict'> 1704077414720\n",
      "{} 0 <class 'dict'> 1704077414720\n"
     ]
    }
   ],
   "source": [
    "dict1 = {'apple': 'red', 'pineapple': 'yellow', 'mango': 'green', 'coconut': 'brown'}\n",
    "print (dict1, len(dict1), type(dict1), id(dict1))\n",
    "dict1.clear()\n",
    "print (dict1, len(dict1), type(dict1), id(dict1))"
   ]
  },
  {
   "cell_type": "code",
   "execution_count": 251,
   "id": "f0472c9b-41b1-4d90-891c-8bed0e73adb0",
   "metadata": {},
   "outputs": [
    {
     "name": "stdout",
     "output_type": "stream",
     "text": [
      "{'apple': 'red', 'pineapple': 'yellow', 'mango': 'green', 'coconut': 'brown'} 4 <class 'dict'> 1704073718720\n"
     ]
    },
    {
     "ename": "NameError",
     "evalue": "name 'dict1' is not defined",
     "output_type": "error",
     "traceback": [
      "\u001b[1;31m---------------------------------------------------------------------------\u001b[0m",
      "\u001b[1;31mNameError\u001b[0m                                 Traceback (most recent call last)",
      "Cell \u001b[1;32mIn[251], line 4\u001b[0m\n\u001b[0;32m      2\u001b[0m \u001b[38;5;28mprint\u001b[39m (dict1, \u001b[38;5;28mlen\u001b[39m(dict1), \u001b[38;5;28mtype\u001b[39m(dict1), \u001b[38;5;28mid\u001b[39m(dict1))\n\u001b[0;32m      3\u001b[0m \u001b[38;5;28;01mdel\u001b[39;00m dict1\n\u001b[1;32m----> 4\u001b[0m \u001b[38;5;28mprint\u001b[39m (\u001b[43mdict1\u001b[49m, \u001b[38;5;28mlen\u001b[39m(dict1), \u001b[38;5;28mtype\u001b[39m(dict1), \u001b[38;5;28mid\u001b[39m(dict1))\n",
      "\u001b[1;31mNameError\u001b[0m: name 'dict1' is not defined"
     ]
    }
   ],
   "source": [
    "dict1 = {'apple': 'red', 'pineapple': 'yellow', 'mango': 'green', 'coconut': 'brown'}\n",
    "print (dict1, len(dict1), type(dict1), id(dict1))\n",
    "del dict1\n",
    "print (dict1, len(dict1), type(dict1), id(dict1))"
   ]
  },
  {
   "cell_type": "code",
   "execution_count": 255,
   "id": "b245ed63-dc28-489f-aff0-7c313766801c",
   "metadata": {},
   "outputs": [
    {
     "name": "stdout",
     "output_type": "stream",
     "text": [
      "{'apple': 'red', 'pineapple': 'yellow'} 2 <class 'dict'> 1704073896192\n",
      "{'mango': 'green', 'coconut': 'brown'} 2 <class 'dict'> 1704071901056\n",
      "{'apple': 'red', 'pineapple': 'yellow', 'mango': 'green', 'coconut': 'brown'} 4 <class 'dict'> 1704073896192\n",
      "{'mango': 'green', 'coconut': 'brown'} 2 <class 'dict'> 1704071901056\n"
     ]
    }
   ],
   "source": [
    "# concatenating dictionaries\n",
    "fruits1 = {'apple': 'red', 'pineapple': 'yellow'}\n",
    "print (fruits1, len(fruits1), type(fruits1), id(fruits1))\n",
    "fruits2 = {'mango': 'green', 'coconut': 'brown'}\n",
    "print (fruits2, len(fruits2), type(fruits2), id(fruits2))\n",
    "fruits1.update(fruits2)\n",
    "print (fruits1, len(fruits1), type(fruits1), id(fruits1))\n",
    "print (fruits2, len(fruits2), type(fruits2), id(fruits2))"
   ]
  },
  {
   "cell_type": "code",
   "execution_count": 256,
   "id": "0f1b6a58-e40b-4c8c-873f-e08eb1e43aec",
   "metadata": {},
   "outputs": [
    {
     "name": "stdout",
     "output_type": "stream",
     "text": [
      "{'mango': 900, 'lime': 900, 'lemon': 900, 'banana': 900, 'cherry': 900}\n"
     ]
    }
   ],
   "source": [
    "mykeys = [\"mango\", \"lime\", \"lemon\", \"banana\", \"cherry\"]\n",
    "price = 900\n",
    "dict1 = dict.fromkeys(mykeys, price)\n",
    "print (dict1)"
   ]
  },
  {
   "cell_type": "code",
   "execution_count": 262,
   "id": "15133877-36de-4216-a6de-d3b61a204c58",
   "metadata": {},
   "outputs": [
    {
     "name": "stdout",
     "output_type": "stream",
     "text": [
      "<zip object at 0x0000018CC2726FC0>\n",
      "[('mango', 100), ('lime', 300), ('lemon', 250), ('banana', 75), ('cherry', 600)]\n",
      "(('mango', 100), ('lime', 300), ('lemon', 250), ('banana', 75), ('cherry', 600))\n",
      "{'mango': 100, 'lime': 300, 'lemon': 250, 'banana': 75, 'cherry': 600}\n",
      "{'mango': 100, 'lime': 300, 'lemon': 250, 'banana': 75, 'cherry': 600}\n",
      "{'mango': 100, 'lime': 300, 'lemon': 250, 'banana': 75, 'cherry': 600}\n"
     ]
    }
   ],
   "source": [
    "fruits = [\"mango\", \"lime\", \"lemon\", \"banana\", \"cherry\"]\n",
    "prices = [100, 300, 250, 75, 600, 700, 900]\n",
    "print (zip(fruits, prices))\n",
    "print (list(zip(fruits, prices)))\n",
    "print (tuple(zip(fruits, prices)))\n",
    "print (dict(list(zip(fruits, prices))))\n",
    "print (dict(tuple(zip(fruits, prices))))\n",
    "print (dict(zip(fruits, prices)))"
   ]
  },
  {
   "cell_type": "code",
   "execution_count": 266,
   "id": "f7eed098-86de-4309-9e14-92845ebe608a",
   "metadata": {},
   "outputs": [
    {
     "name": "stdout",
     "output_type": "stream",
     "text": [
      "{'mango': 100, 'lime': 300, 'lemon': 250, 'banana': 75, 'cherry': 600} 1704064979072\n",
      "{'mango': 100, 'lime': 300, 'lemon': 250, 'banana': 75, 'cherry': 600} 1704065092608\n",
      "{'mango': 999, 'lime': 300, 'lemon': 250, 'banana': 75, 'cherry': 600} 1704064979072\n",
      "{'mango': 100, 'lime': 300, 'lemon': 250, 'banana': 777, 'cherry': 600} 1704065092608\n"
     ]
    }
   ],
   "source": [
    "dict1 = {'mango': 100, 'lime': 300, 'lemon': 250, 'banana': 75, 'cherry': 600}\n",
    "print (dict1, id(dict1))\n",
    "dict2 = dict1.copy()\n",
    "print (dict2, id(dict2))\n",
    "dict1[\"mango\"] = 999\n",
    "dict2[\"banana\"] = 777\n",
    "print (dict1, id(dict1))\n",
    "print (dict2, id(dict2))"
   ]
  },
  {
   "cell_type": "code",
   "execution_count": 267,
   "id": "c8ae3ab8-f95f-4851-bc67-08cf11f72af3",
   "metadata": {},
   "outputs": [
    {
     "name": "stdout",
     "output_type": "stream",
     "text": [
      "April\n",
      "June\n",
      "October\n",
      "Invalid month no. provided.\n"
     ]
    }
   ],
   "source": [
    "def switch_case_demo(month_no):\n",
    "    switcher = {1:\"January\",\n",
    "                2:\"February\",\n",
    "                3:\"March\",\n",
    "                4:\"April\",\n",
    "                5:\"May\",\n",
    "                6:\"June\",\n",
    "                7:\"July\",\n",
    "                8:\"August\",\n",
    "                9:\"September\",\n",
    "               10:\"October\",\n",
    "               11:\"November\",\n",
    "               12:\"December\"}\n",
    "    return switcher.get(month_no, \"Invalid month no. provided.\")\n",
    "\n",
    "print (switch_case_demo(4))\n",
    "print (switch_case_demo(6))\n",
    "print (switch_case_demo(10))\n",
    "print (switch_case_demo(40))"
   ]
  },
  {
   "cell_type": "code",
   "execution_count": 268,
   "id": "cf821b50-8d9c-41e6-84c4-4b86d9023efa",
   "metadata": {},
   "outputs": [
    {
     "name": "stdout",
     "output_type": "stream",
     "text": [
      "April\n",
      "June\n",
      "October\n",
      "Invalid month no. provided.\n"
     ]
    }
   ],
   "source": [
    "def switch_case_demo(month_no):\n",
    "    switcher = {1:\"January\", 2:\"February\", 3:\"March\", 4:\"April\", 5:\"May\", 6:\"June\",\n",
    "                7:\"July\", 8:\"August\", 9:\"September\", 10:\"October\", 11:\"November\", 12:\"December\"}\n",
    "    return switcher.get(month_no, \"Invalid month no. provided.\")\n",
    "\n",
    "print (switch_case_demo(4))\n",
    "print (switch_case_demo(6))\n",
    "print (switch_case_demo(10))\n",
    "print (switch_case_demo(40))"
   ]
  },
  {
   "cell_type": "markdown",
   "id": "e156d77b-a5e1-4267-af87-711bc60ed26a",
   "metadata": {},
   "source": [
    "### Set Processing"
   ]
  },
  {
   "cell_type": "code",
   "execution_count": 273,
   "id": "f2c7efcd-ca31-4593-a69e-6cb0ab83026b",
   "metadata": {},
   "outputs": [
    {
     "name": "stdout",
     "output_type": "stream",
     "text": [
      "{False, True, 'Chennai', 'Amitava', 38.5, 70000} 6 <class 'set'> 1704079046720\n"
     ]
    }
   ],
   "source": [
    "# forming a set from a list\n",
    "list1 = ['Amitava', True, 38.5, 70000, 'Chennai', 'Amitava', True, 38.5, False]\n",
    "set1 = set(list1)\n",
    "print (set1, len(set1), type(set1), id(set1))"
   ]
  },
  {
   "cell_type": "code",
   "execution_count": 274,
   "id": "b7dde573-b5b9-4a91-8790-ff25852c685e",
   "metadata": {},
   "outputs": [
    {
     "name": "stdout",
     "output_type": "stream",
     "text": [
      "{False, True, 'Chennai', 'Amitava', 38.5, 70000} 6 <class 'set'> 1704079042912\n"
     ]
    }
   ],
   "source": [
    "# forming a set from a tuple\n",
    "tuple1 = ('Amitava', True, 38.5, 70000, 'Chennai', 'Amitava', True, 38.5, False)\n",
    "set1 = set(tuple1)\n",
    "print (set1, len(set1), type(set1), id(set1))"
   ]
  },
  {
   "cell_type": "code",
   "execution_count": 275,
   "id": "dff7714b-9cf1-40b4-842f-824cbad1ff76",
   "metadata": {},
   "outputs": [
    {
     "name": "stdout",
     "output_type": "stream",
     "text": [
      "{False, True, 'Chennai', 70000, 'Amitava', 38.5} 6 <class 'set'> 1704079034176\n"
     ]
    }
   ],
   "source": [
    "# forming a set directly\n",
    "set1 = {'Amitava', True, 38.5, 70000, 'Chennai', 'Amitava', True, 38.5, False}\n",
    "print (set1, len(set1), type(set1), id(set1))"
   ]
  },
  {
   "cell_type": "markdown",
   "id": "df6d1aef",
   "metadata": {},
   "source": [
    "#### Set Operations"
   ]
  },
  {
   "attachments": {
    "SetOperations.png": {
     "image/png": "[encoded data removed]"
    }
   },
   "cell_type": "markdown",
   "id": "8c61f8c1",
   "metadata": {},
   "source": [
    "![SetOperations.png](attachment:SetOperations.png)"
   ]
  },
  {
   "cell_type": "code",
   "execution_count": 5,
   "id": "a317b172",
   "metadata": {},
   "outputs": [
    {
     "name": "stdout",
     "output_type": "stream",
     "text": [
      "{'cobra', 'python', 'viper'} 3 <class 'set'> 1445783003072\n",
      "{'java', 'python', 'c++'} 3 <class 'set'> 1445809022880\n",
      "{'java', 'cobra', 'python', 'c++', 'viper'} 5 <class 'set'> 1445809017952\n",
      "{'java', 'cobra', 'python', 'c++', 'viper'} 5 <class 'set'> 1445809028256\n",
      "{'cobra', 'python', 'viper'} 3 <class 'set'> 1445783003072\n",
      "{'java', 'python', 'c++'} 3 <class 'set'> 1445809022880\n"
     ]
    }
   ],
   "source": [
    "# union operation\n",
    "snakes = {\"cobra\", \"viper\", \"python\"}\n",
    "languages = {\"python\", \"c++\", \"java\"}\n",
    "print (snakes, len(snakes), type(snakes), id(snakes))\n",
    "print (languages, len(languages), type(languages), id(languages))\n",
    "result = snakes.union(languages)\n",
    "print (result, len(result), type(result), id(result))\n",
    "result = snakes | languages\n",
    "print (result, len(result), type(result), id(result))\n",
    "print (snakes, len(snakes), type(snakes), id(snakes))\n",
    "print (languages, len(languages), type(languages), id(languages))"
   ]
  },
  {
   "cell_type": "code",
   "execution_count": 14,
   "id": "c5946edc",
   "metadata": {},
   "outputs": [
    {
     "name": "stdout",
     "output_type": "stream",
     "text": [
      "{'cobra', 'python', 'viper'} 3 <class 'set'> 1445783917440\n",
      "{'java', 'python', 'c++'} 3 <class 'set'> 1445783794656\n",
      "{'python'} 1 <class 'set'> 1445783791744\n",
      "{'python'} 1 <class 'set'> 1445783794880\n",
      "{'cobra', 'python', 'viper'} 3 <class 'set'> 1445783917440\n",
      "{'java', 'python', 'c++'} 3 <class 'set'> 1445783794656\n"
     ]
    }
   ],
   "source": [
    "# intersection operation\n",
    "snakes = {\"cobra\", \"viper\", \"python\"}\n",
    "languages = {\"python\", \"c++\", \"java\"}\n",
    "print (snakes, len(snakes), type(snakes), id(snakes))\n",
    "print (languages, len(languages), type(languages), id(languages))\n",
    "result = snakes.intersection(languages)\n",
    "print (result, len(result), type(result), id(result))\n",
    "result = snakes & languages\n",
    "print (result, len(result), type(result), id(result))\n",
    "print (snakes, len(snakes), type(snakes), id(snakes))\n",
    "print (languages, len(languages), type(languages), id(languages))"
   ]
  },
  {
   "cell_type": "code",
   "execution_count": 13,
   "id": "44adc289-6d26-4a30-973e-8c45e54d3c25",
   "metadata": {},
   "outputs": [
    {
     "name": "stdout",
     "output_type": "stream",
     "text": [
      "{'cobra', 'python', 'viper'} 3 <class 'set'> 1445783791744\n",
      "{'java', 'python', 'c++'} 3 <class 'set'> 1445783794880\n",
      "{'python'} 1 <class 'set'> 1445783791744\n",
      "{'java', 'python', 'c++'} 3 <class 'set'> 1445783794880\n"
     ]
    }
   ],
   "source": [
    "# intersection update operation\n",
    "snakes = {\"cobra\", \"viper\", \"python\"}\n",
    "languages = {\"python\", \"c++\", \"java\"}\n",
    "print (snakes, len(snakes), type(snakes), id(snakes))\n",
    "print (languages, len(languages), type(languages), id(languages))\n",
    "snakes.intersection_update(languages)\n",
    "print (snakes, len(snakes), type(snakes), id(snakes))\n",
    "print (languages, len(languages), type(languages), id(languages))"
   ]
  },
  {
   "cell_type": "code",
   "execution_count": 15,
   "id": "301e66ee-039e-458b-9d1b-81c969632902",
   "metadata": {},
   "outputs": [
    {
     "name": "stdout",
     "output_type": "stream",
     "text": [
      "{'cobra', 'python', 'viper'} 3 <class 'set'> 1445783791744\n",
      "{'java', 'python', 'c++'} 3 <class 'set'> 1445806655072\n",
      "{'cobra', 'viper'} 2 <class 'set'> 1445808726848\n",
      "{'cobra', 'viper'} 2 <class 'set'> 1445808729312\n",
      "{'cobra', 'python', 'viper'} 3 <class 'set'> 1445783791744\n",
      "{'java', 'python', 'c++'} 3 <class 'set'> 1445806655072\n"
     ]
    }
   ],
   "source": [
    "# difference operation\n",
    "snakes = {\"cobra\", \"viper\", \"python\"}\n",
    "languages = {\"python\", \"c++\", \"java\"}\n",
    "print (snakes, len(snakes), type(snakes), id(snakes))\n",
    "print (languages, len(languages), type(languages), id(languages))\n",
    "result = snakes.difference(languages)\n",
    "print (result, len(result), type(result), id(result))\n",
    "result = snakes - languages\n",
    "print (result, len(result), type(result), id(result))\n",
    "print (snakes, len(snakes), type(snakes), id(snakes))\n",
    "print (languages, len(languages), type(languages), id(languages))"
   ]
  },
  {
   "cell_type": "code",
   "execution_count": 18,
   "id": "de7b7370-273c-4f23-83a3-30a1884a4118",
   "metadata": {},
   "outputs": [
    {
     "name": "stdout",
     "output_type": "stream",
     "text": [
      "{'cobra', 'python', 'viper'} 3 <class 'set'> 1445804014304\n",
      "{'java', 'python', 'c++'} 3 <class 'set'> 1445801080000\n",
      "{'cobra', 'viper'} 2 <class 'set'> 1445804014304\n",
      "{'java', 'python', 'c++'} 3 <class 'set'> 1445801080000\n"
     ]
    }
   ],
   "source": [
    "# difference update operation\n",
    "snakes = {\"cobra\", \"viper\", \"python\"}\n",
    "languages = {\"python\", \"c++\", \"java\"}\n",
    "print (snakes, len(snakes), type(snakes), id(snakes))\n",
    "print (languages, len(languages), type(languages), id(languages))\n",
    "snakes.difference_update(languages)\n",
    "print (snakes, len(snakes), type(snakes), id(snakes))\n",
    "print (languages, len(languages), type(languages), id(languages))"
   ]
  },
  {
   "cell_type": "code",
   "execution_count": 19,
   "id": "d274ed00-d564-44e3-bcda-02e332977ff4",
   "metadata": {},
   "outputs": [
    {
     "name": "stdout",
     "output_type": "stream",
     "text": [
      "{'cobra', 'python', 'viper'} 3 <class 'set'> 1445806661792\n",
      "{'java', 'python', 'c++'} 3 <class 'set'> 1445804266592\n",
      "{'java', 'cobra', 'c++', 'viper'} 4 <class 'set'> 1445801230400\n",
      "{'java', 'cobra', 'c++', 'viper'} 4 <class 'set'> 1445801233536\n",
      "{'cobra', 'python', 'viper'} 3 <class 'set'> 1445806661792\n",
      "{'java', 'python', 'c++'} 3 <class 'set'> 1445804266592\n"
     ]
    }
   ],
   "source": [
    "# symmetric difference operation\n",
    "snakes = {\"cobra\", \"viper\", \"python\"}\n",
    "languages = {\"python\", \"c++\", \"java\"}\n",
    "print (snakes, len(snakes), type(snakes), id(snakes))\n",
    "print (languages, len(languages), type(languages), id(languages))\n",
    "result = snakes.symmetric_difference(languages)\n",
    "print (result, len(result), type(result), id(result))\n",
    "result = snakes ^ languages\n",
    "print (result, len(result), type(result), id(result))\n",
    "print (snakes, len(snakes), type(snakes), id(snakes))\n",
    "print (languages, len(languages), type(languages), id(languages))"
   ]
  },
  {
   "cell_type": "code",
   "execution_count": 22,
   "id": "f57760e8-c1b3-4f16-bb2a-97fb9627b042",
   "metadata": {},
   "outputs": [
    {
     "name": "stdout",
     "output_type": "stream",
     "text": [
      "{'cobra', 'python', 'viper'} 3 <class 'set'> 1445801245184\n",
      "{'java', 'python', 'c++'} 3 <class 'set'> 1445802719072\n",
      "{'java', 'cobra', 'c++', 'viper'} 4 <class 'set'> 1445801245184\n",
      "{'java', 'python', 'c++'} 3 <class 'set'> 1445802719072\n"
     ]
    }
   ],
   "source": [
    "# symmetric difference update operation\n",
    "snakes = {\"cobra\", \"viper\", \"python\"}\n",
    "languages = {\"python\", \"c++\", \"java\"}\n",
    "print (snakes, len(snakes), type(snakes), id(snakes))\n",
    "print (languages, len(languages), type(languages), id(languages))\n",
    "snakes.symmetric_difference_update(languages)\n",
    "print (snakes, len(snakes), type(snakes), id(snakes))\n",
    "print (languages, len(languages), type(languages), id(languages))"
   ]
  },
  {
   "cell_type": "code",
   "execution_count": 24,
   "id": "d8378365-45ef-4538-9313-cc4aa4c044b2",
   "metadata": {},
   "outputs": [
    {
     "name": "stdout",
     "output_type": "stream",
     "text": [
      "mississippi 11 <class 'str'>\n",
      "{'s', 'm', 'p', 'i'} 4 <class 'set'>\n",
      "['m', 'i', 's', 's', 'i', 's', 's', 'i', 'p', 'p', 'i'] 11 <class 'list'>\n",
      "('m', 'i', 's', 's', 'i', 's', 's', 'i', 'p', 'p', 'i') 11 <class 'tuple'>\n"
     ]
    }
   ],
   "source": [
    "mystr = \"mississippi\"\n",
    "print (mystr, len(mystr), type(mystr))\n",
    "result = set(mystr)\n",
    "print (result, len(result), type(result))\n",
    "result = list(mystr)\n",
    "print (result, len(result), type(result))\n",
    "result = tuple(mystr)\n",
    "print (result, len(result), type(result))"
   ]
  },
  {
   "cell_type": "code",
   "execution_count": 30,
   "id": "61e2e256-398c-4072-8469-27927d925342",
   "metadata": {},
   "outputs": [
    {
     "name": "stdout",
     "output_type": "stream",
     "text": [
      "{200, 100, 300} 3\n",
      "{800, 400, 500, 600, 700} 5\n",
      "{800, 700, 500} 3\n",
      "False False True\n",
      "True False\n",
      "False True False\n"
     ]
    }
   ],
   "source": [
    "set1 = {100, 200, 300}\n",
    "set2 = {400, 500, 600, 700, 800}\n",
    "set3 = {500, 700, 800}\n",
    "print (set1, len(set1))\n",
    "print (set2, len(set2))\n",
    "print (set3, len(set3))\n",
    "print (set1.issubset(set2), set2.issubset(set3), set3.issubset(set2))\n",
    "print (set1.isdisjoint(set2), set2.isdisjoint(set3))\n",
    "print (set1.issuperset(set2), set2.issuperset(set3), set3.issuperset(set2))"
   ]
  },
  {
   "cell_type": "code",
   "execution_count": 35,
   "id": "2469d377-5e2b-4717-a6e3-87d7072c5267",
   "metadata": {},
   "outputs": [
    {
     "name": "stdout",
     "output_type": "stream",
     "text": [
      "{200, 100, 300} 3\n",
      "{200, 100, 400, 300} 4\n",
      "{100, 200, 300, 400, 700} 5\n",
      "{100, 200, 300, 400, 700} 5\n",
      "{100, 200, 300, 400, 600, 700} 6\n"
     ]
    }
   ],
   "source": [
    "# insert operqation\n",
    "set1 = {100, 200, 300}\n",
    "print (set1, len(set1))\n",
    "set1.add(400)\n",
    "print (set1, len(set1))\n",
    "set1.add(700)\n",
    "print (set1, len(set1))\n",
    "set1.add(200)\n",
    "print (set1, len(set1))\n",
    "set1.add(600)\n",
    "print (set1, len(set1))"
   ]
  },
  {
   "cell_type": "code",
   "execution_count": 37,
   "id": "d7da5de9-4e9f-490d-b293-41f96a68999d",
   "metadata": {},
   "outputs": [
    {
     "name": "stdout",
     "output_type": "stream",
     "text": [
      "{400, 700, 100, 200, 600, 300} 6\n",
      "{400, 700, 100, 200, 600} 5\n",
      "{400, 100, 200, 600} 4\n"
     ]
    },
    {
     "ename": "KeyError",
     "evalue": "700",
     "output_type": "error",
     "traceback": [
      "\u001b[1;31m---------------------------------------------------------------------------\u001b[0m",
      "\u001b[1;31mKeyError\u001b[0m                                  Traceback (most recent call last)",
      "Cell \u001b[1;32mIn[37], line 8\u001b[0m\n\u001b[0;32m      6\u001b[0m set1\u001b[38;5;241m.\u001b[39mremove(\u001b[38;5;241m700\u001b[39m)\n\u001b[0;32m      7\u001b[0m \u001b[38;5;28mprint\u001b[39m (set1, \u001b[38;5;28mlen\u001b[39m(set1))\n\u001b[1;32m----> 8\u001b[0m \u001b[43mset1\u001b[49m\u001b[38;5;241;43m.\u001b[39;49m\u001b[43mremove\u001b[49m\u001b[43m(\u001b[49m\u001b[38;5;241;43m700\u001b[39;49m\u001b[43m)\u001b[49m\n\u001b[0;32m      9\u001b[0m \u001b[38;5;28mprint\u001b[39m (set1, \u001b[38;5;28mlen\u001b[39m(set1))\n",
      "\u001b[1;31mKeyError\u001b[0m: 700"
     ]
    }
   ],
   "source": [
    "# delete operation\n",
    "set1 = {100, 200, 300, 400, 600, 700}\n",
    "print (set1, len(set1))\n",
    "set1.remove(300)\n",
    "print (set1, len(set1))\n",
    "set1.remove(700)\n",
    "print (set1, len(set1))\n",
    "set1.remove(700)\n",
    "print (set1, len(set1))"
   ]
  },
  {
   "cell_type": "code",
   "execution_count": 38,
   "id": "e643b35c-e37a-478d-91f3-a12ade6a08c9",
   "metadata": {},
   "outputs": [
    {
     "name": "stdout",
     "output_type": "stream",
     "text": [
      "{400, 700, 100, 200, 600, 300} 6\n",
      "{400, 700, 100, 200, 600} 5\n",
      "{400, 100, 200, 600} 4\n",
      "KeyError: Item for deletion not found...\n",
      "KeyError: Error message: 700\n",
      "KeyError: Error type: <class 'KeyError'>\n"
     ]
    }
   ],
   "source": [
    "# delete operation\n",
    "try:\n",
    "    set1 = {100, 200, 300, 400, 600, 700}\n",
    "    print (set1, len(set1))\n",
    "    set1.remove(300)\n",
    "    print (set1, len(set1))\n",
    "    set1.remove(700)\n",
    "    print (set1, len(set1))\n",
    "    set1.remove(700)\n",
    "    print (set1, len(set1))\n",
    "except KeyError as ke:\n",
    "    print (\"KeyError: Item for deletion not found...\")\n",
    "    print (\"KeyError: Error message:\", ke)\n",
    "    print (\"KeyError: Error type:\", type(ke))"
   ]
  },
  {
   "cell_type": "code",
   "execution_count": 39,
   "id": "4521e122-c3b6-44f0-8dde-5200d383b66d",
   "metadata": {},
   "outputs": [
    {
     "name": "stdout",
     "output_type": "stream",
     "text": [
      "{400, 700, 100, 200, 600, 300} 6\n",
      "{400, 700, 100, 200, 600} 5\n",
      "{400, 100, 200, 600} 4\n",
      "{400, 100, 200, 600} 4\n"
     ]
    }
   ],
   "source": [
    "set1 = {100, 200, 300, 400, 600, 700}\n",
    "print (set1, len(set1))\n",
    "set1.discard(300)\n",
    "print (set1, len(set1))\n",
    "set1.discard(700)\n",
    "print (set1, len(set1))\n",
    "set1.discard(700)\n",
    "print (set1, len(set1))"
   ]
  },
  {
   "cell_type": "code",
   "execution_count": 40,
   "id": "1ad12abb-5cdf-47da-9e56-71a9ba14bf50",
   "metadata": {},
   "outputs": [
    {
     "name": "stdout",
     "output_type": "stream",
     "text": [
      "{400, 700, 100, 200, 600, 300} 6\n",
      "400\n",
      "{700, 100, 200, 600, 300} 5\n",
      "700\n",
      "{100, 200, 600, 300} 4\n",
      "100\n",
      "{200, 600, 300} 3\n",
      "200\n",
      "{600, 300} 2\n"
     ]
    }
   ],
   "source": [
    "set1 = {100, 200, 300, 400, 600, 700}\n",
    "print (set1, len(set1))\n",
    "print (set1.pop())\n",
    "print (set1, len(set1))\n",
    "print (set1.pop())\n",
    "print (set1, len(set1))\n",
    "print (set1.pop())\n",
    "print (set1, len(set1))\n",
    "print (set1.pop())\n",
    "print (set1, len(set1))"
   ]
  },
  {
   "cell_type": "code",
   "execution_count": 41,
   "id": "87be8699-93f9-4583-bf5a-1aaf628ded80",
   "metadata": {},
   "outputs": [
    {
     "name": "stdout",
     "output_type": "stream",
     "text": [
      "{400, 700, 100, 200, 600, 300} 6\n",
      "set() 0\n"
     ]
    }
   ],
   "source": [
    "set1 = {100, 200, 300, 400, 600, 700}\n",
    "print (set1, len(set1))\n",
    "set1.clear()\n",
    "print (set1, len(set1))"
   ]
  },
  {
   "cell_type": "code",
   "execution_count": 42,
   "id": "b5bc8e39-2df1-442e-8e8c-2e32cfb859f5",
   "metadata": {},
   "outputs": [
    {
     "name": "stdout",
     "output_type": "stream",
     "text": [
      "{400, 700, 100, 200, 600, 300} 6\n"
     ]
    },
    {
     "ename": "NameError",
     "evalue": "name 'set1' is not defined",
     "output_type": "error",
     "traceback": [
      "\u001b[1;31m---------------------------------------------------------------------------\u001b[0m",
      "\u001b[1;31mNameError\u001b[0m                                 Traceback (most recent call last)",
      "Cell \u001b[1;32mIn[42], line 4\u001b[0m\n\u001b[0;32m      2\u001b[0m \u001b[38;5;28mprint\u001b[39m (set1, \u001b[38;5;28mlen\u001b[39m(set1))\n\u001b[0;32m      3\u001b[0m \u001b[38;5;28;01mdel\u001b[39;00m set1\n\u001b[1;32m----> 4\u001b[0m \u001b[38;5;28mprint\u001b[39m (\u001b[43mset1\u001b[49m, \u001b[38;5;28mlen\u001b[39m(set1))\n",
      "\u001b[1;31mNameError\u001b[0m: name 'set1' is not defined"
     ]
    }
   ],
   "source": [
    "set1 = {100, 200, 300, 400, 600, 700}\n",
    "print (set1, len(set1))\n",
    "del set1\n",
    "print (set1, len(set1))"
   ]
  },
  {
   "cell_type": "code",
   "execution_count": 43,
   "id": "8699dffb-3911-47cb-ade5-fe22afb10f88",
   "metadata": {},
   "outputs": [
    {
     "name": "stdout",
     "output_type": "stream",
     "text": [
      "{400, 700, 100, 200, 600, 300} 6\n",
      "{700, 100, 200, 600, 300} 5\n",
      "{4000, 700, 100, 200, 600, 300} 6\n"
     ]
    }
   ],
   "source": [
    "# update operation\n",
    "set1 = {100, 200, 300, 400, 600, 700}\n",
    "print (set1, len(set1))\n",
    "set1.discard(400)\n",
    "print (set1, len(set1))\n",
    "set1.add(4000)\n",
    "print (set1, len(set1))"
   ]
  },
  {
   "cell_type": "code",
   "execution_count": 45,
   "id": "3e5a50b7-9f5d-4419-8227-f1c3c1234014",
   "metadata": {},
   "outputs": [
    {
     "name": "stdout",
     "output_type": "stream",
     "text": [
      "{200, 100, 300} 3\n",
      "{800, 400, 500, 600, 700} 5\n",
      "{800, 100, 200, 300, 400, 500, 600, 700} 8\n",
      "{800, 400, 500, 600, 700} 5\n"
     ]
    }
   ],
   "source": [
    "# set concatenation\n",
    "set1 = {100, 200, 300}\n",
    "set2 = {400, 500, 600, 700, 800}\n",
    "print (set1, len(set1))\n",
    "print (set2, len(set2))\n",
    "set1.update(set2)\n",
    "print (set1, len(set1))\n",
    "print (set2, len(set2))"
   ]
  },
  {
   "cell_type": "markdown",
   "id": "6ef88652-48f1-4252-ad1d-d88f30df8156",
   "metadata": {},
   "source": [
    "### Frozen Set Processing"
   ]
  },
  {
   "cell_type": "code",
   "execution_count": 272,
   "id": "02e0a748",
   "metadata": {},
   "outputs": [
    {
     "name": "stdout",
     "output_type": "stream",
     "text": [
      "frozenset({False, True, 'Chennai', 'Amitava', 38.5, 70000}) 6 <class 'frozenset'> 1704078009376\n"
     ]
    }
   ],
   "source": [
    "# forming a frozen set from a tuple\n",
    "tuple1 = ('Amitava', True, 38.5, 70000, 'Chennai', 'Amitava', True, 38.5, False)\n",
    "set1 = frozenset(tuple1)\n",
    "print (set1, len(set1), type(set1), id(set1))"
   ]
  },
  {
   "cell_type": "code",
   "execution_count": 276,
   "id": "b200c0c4-bc12-455e-8e44-c711634fb7d1",
   "metadata": {},
   "outputs": [
    {
     "name": "stdout",
     "output_type": "stream",
     "text": [
      "frozenset({False, True, 'Chennai', 'Amitava', 38.5, 70000}) 6 <class 'frozenset'> 1704079033728\n"
     ]
    }
   ],
   "source": [
    "# forming a frozen set from a list\n",
    "set1 = frozenset(['Amitava', True, 38.5, 70000, 'Chennai', 'Amitava', True, 38.5, False])\n",
    "print (set1, len(set1), type(set1), id(set1))"
   ]
  },
  {
   "cell_type": "code",
   "execution_count": 272,
   "id": "6a99b81f",
   "metadata": {},
   "outputs": [
    {
     "name": "stdout",
     "output_type": "stream",
     "text": [
      "frozenset({False, True, 'Chennai', 'Amitava', 38.5, 70000}) 6 <class 'frozenset'> 1704078009376\n"
     ]
    }
   ],
   "source": [
    "# forming a frozen set from a tuple\n",
    "tuple1 = ('Amitava', True, 38.5, 70000, 'Chennai', 'Amitava', True, 38.5, False)\n",
    "set1 = frozenset(tuple1)\n",
    "print (set1, len(set1), type(set1), id(set1))"
   ]
  },
  {
   "cell_type": "code",
   "execution_count": 6,
   "id": "38b01cb4-d515-484a-a73a-86e142611c45",
   "metadata": {},
   "outputs": [
    {
     "name": "stdout",
     "output_type": "stream",
     "text": [
      "frozenset({'cobra', 'python', 'viper'}) 3 <class 'frozenset'> 1445801239584\n",
      "frozenset({'java', 'python', 'c++'}) 3 <class 'frozenset'> 1445801237792\n",
      "frozenset({'java', 'cobra', 'python', 'c++', 'viper'}) 5 <class 'frozenset'> 1445809021312\n",
      "frozenset({'java', 'cobra', 'python', 'c++', 'viper'}) 5 <class 'frozenset'> 1445809024896\n",
      "frozenset({'cobra', 'python', 'viper'}) 3 <class 'frozenset'> 1445801239584\n",
      "frozenset({'java', 'python', 'c++'}) 3 <class 'frozenset'> 1445801237792\n"
     ]
    }
   ],
   "source": [
    "# union operation\n",
    "snakes = frozenset([\"cobra\", \"viper\", \"python\"])\n",
    "languages = frozenset([\"python\", \"c++\", \"java\"])\n",
    "print (snakes, len(snakes), type(snakes), id(snakes))\n",
    "print (languages, len(languages), type(languages), id(languages))\n",
    "result = snakes.union(languages)\n",
    "print (result, len(result), type(result), id(result))\n",
    "result = snakes | languages\n",
    "print (result, len(result), type(result), id(result))\n",
    "print (snakes, len(snakes), type(snakes), id(snakes))\n",
    "print (languages, len(languages), type(languages), id(languages))"
   ]
  },
  {
   "cell_type": "code",
   "execution_count": 11,
   "id": "d3d7dfd7-fe78-4521-9b94-6fc68b7731f7",
   "metadata": {},
   "outputs": [
    {
     "name": "stdout",
     "output_type": "stream",
     "text": [
      "frozenset({'cobra', 'python', 'viper'}) 3 <class 'frozenset'> 1445804820512\n",
      "frozenset({'java', 'python', 'c++'}) 3 <class 'frozenset'> 1445806043008\n",
      "frozenset({'python'}) 1 <class 'frozenset'> 1445783794656\n",
      "frozenset({'python'}) 1 <class 'frozenset'> 1445783794432\n",
      "frozenset({'cobra', 'python', 'viper'}) 3 <class 'frozenset'> 1445804820512\n",
      "frozenset({'java', 'python', 'c++'}) 3 <class 'frozenset'> 1445806043008\n"
     ]
    }
   ],
   "source": [
    "# intersection operation\n",
    "snakes = frozenset([\"cobra\", \"viper\", \"python\"])\n",
    "languages = frozenset([\"python\", \"c++\", \"java\"])\n",
    "print (snakes, len(snakes), type(snakes), id(snakes))\n",
    "print (languages, len(languages), type(languages), id(languages))\n",
    "result = snakes.intersection(languages)\n",
    "print (result, len(result), type(result), id(result))\n",
    "result = snakes & languages\n",
    "print (result, len(result), type(result), id(result))\n",
    "print (snakes, len(snakes), type(snakes), id(snakes))\n",
    "print (languages, len(languages), type(languages), id(languages))"
   ]
  },
  {
   "cell_type": "code",
   "execution_count": 17,
   "id": "29720381-b08b-4dbd-9bfb-5bcedde1e443",
   "metadata": {},
   "outputs": [
    {
     "name": "stdout",
     "output_type": "stream",
     "text": [
      "frozenset({'cobra', 'python', 'viper'}) 3 <class 'frozenset'> 1445804015200\n",
      "frozenset({'java', 'python', 'c++'}) 3 <class 'frozenset'> 1445801499264\n",
      "frozenset({'cobra', 'viper'}) 2 <class 'frozenset'> 1445804014304\n",
      "frozenset({'cobra', 'viper'}) 2 <class 'frozenset'> 1445801237344\n",
      "frozenset({'cobra', 'python', 'viper'}) 3 <class 'frozenset'> 1445804015200\n",
      "frozenset({'java', 'python', 'c++'}) 3 <class 'frozenset'> 1445801499264\n"
     ]
    }
   ],
   "source": [
    "# difference operation\n",
    "snakes = frozenset([\"cobra\", \"viper\", \"python\"])\n",
    "languages = frozenset([\"python\", \"c++\", \"java\"])\n",
    "print (snakes, len(snakes), type(snakes), id(snakes))\n",
    "print (languages, len(languages), type(languages), id(languages))\n",
    "result = snakes.difference(languages)\n",
    "print (result, len(result), type(result), id(result))\n",
    "result = snakes - languages\n",
    "print (result, len(result), type(result), id(result))\n",
    "print (snakes, len(snakes), type(snakes), id(snakes))\n",
    "print (languages, len(languages), type(languages), id(languages))"
   ]
  },
  {
   "cell_type": "code",
   "execution_count": 21,
   "id": "3613956d-de34-486f-83ed-e5ee9cbfd5dd",
   "metadata": {},
   "outputs": [
    {
     "name": "stdout",
     "output_type": "stream",
     "text": [
      "frozenset({'cobra', 'python', 'viper'}) 3 <class 'frozenset'> 1445801791040\n",
      "frozenset({'java', 'python', 'c++'}) 3 <class 'frozenset'> 1445802705408\n",
      "frozenset({'java', 'cobra', 'c++', 'viper'}) 4 <class 'frozenset'> 1445801245184\n",
      "frozenset({'java', 'cobra', 'c++', 'viper'}) 4 <class 'frozenset'> 1445801159232\n",
      "frozenset({'cobra', 'python', 'viper'}) 3 <class 'frozenset'> 1445801791040\n",
      "frozenset({'java', 'python', 'c++'}) 3 <class 'frozenset'> 1445802705408\n"
     ]
    }
   ],
   "source": [
    "# symmetric difference operation\n",
    "snakes = frozenset([\"cobra\", \"viper\", \"python\"])\n",
    "languages = frozenset([\"python\", \"c++\", \"java\"])\n",
    "print (snakes, len(snakes), type(snakes), id(snakes))\n",
    "print (languages, len(languages), type(languages), id(languages))\n",
    "result = snakes.symmetric_difference(languages)\n",
    "print (result, len(result), type(result), id(result))\n",
    "result = snakes ^ languages\n",
    "print (result, len(result), type(result), id(result))\n",
    "print (snakes, len(snakes), type(snakes), id(snakes))\n",
    "print (languages, len(languages), type(languages), id(languages))"
   ]
  },
  {
   "cell_type": "code",
   "execution_count": 31,
   "id": "61e66d5e-561a-4bac-a1e3-6bfb63ebf786",
   "metadata": {},
   "outputs": [
    {
     "name": "stdout",
     "output_type": "stream",
     "text": [
      "frozenset({200, 100, 300}) 3\n",
      "frozenset({800, 400, 500, 600, 700}) 5\n",
      "frozenset({800, 700, 500}) 3\n",
      "False False True\n",
      "True False\n",
      "False True False\n"
     ]
    }
   ],
   "source": [
    "set1 = frozenset([100, 200, 300])\n",
    "set2 = frozenset([400, 500, 600, 700, 800])\n",
    "set3 = frozenset([500, 700, 800])\n",
    "print (set1, len(set1))\n",
    "print (set2, len(set2))\n",
    "print (set3, len(set3))\n",
    "print (set1.issubset(set2), set2.issubset(set3), set3.issubset(set2))\n",
    "print (set1.isdisjoint(set2), set2.isdisjoint(set3))\n",
    "print (set1.issuperset(set2), set2.issuperset(set3), set3.issuperset(set2))"
   ]
  },
  {
   "cell_type": "code",
   "execution_count": 34,
   "id": "97d55bba-56f2-482b-915f-ca307e3ad99f",
   "metadata": {},
   "outputs": [
    {
     "name": "stdout",
     "output_type": "stream",
     "text": [
      "frozenset({200, 100, 300}) 3 1445804734304\n",
      "frozenset({200, 100, 300}) 3 1445804734304\n"
     ]
    }
   ],
   "source": [
    "set4 = set1.copy()\n",
    "print (set1, len(set1), id(set1))\n",
    "print (set4, len(set4), id(set4))"
   ]
  },
  {
   "cell_type": "code",
   "execution_count": 54,
   "id": "e398b8d6-ec89-4ce8-9fd6-3dcf34af3a99",
   "metadata": {},
   "outputs": [
    {
     "name": "stdout",
     "output_type": "stream",
     "text": [
      "{'q', 'u', 'e', 'o', 't', 'w', 'p', 'i', 'r', 'y'}\n",
      "{'g', 'f', 'a', 'l', 'd', 'k', 'j', 'h', 's'}\n",
      "{'x', 'v', 'n', 'b', 'c', 'm', 'z'}\n",
      "{'e', 'o', 'H', 'l'}\n",
      "{'a', 'l', 'A', 'k', 's'}\n",
      "{'D', 'a', 'd'}\n",
      "{'a', 'e', 'c', 'P'}\n",
      "{'a', 'e', 'p', 'c'}\n",
      "False\n"
     ]
    }
   ],
   "source": [
    "# LeetCode Problem Number: 500\n",
    "# https://leetcode.com/problems/keyboard-row/\n",
    "words = [\"Hello\",\"Alaska\",\"Dad\",\"Peace\"]\n",
    "row1 = set(\"qwertyuiop\")\n",
    "row2 = set(\"asdfghjkl\")\n",
    "row3 = set(\"zxcvbnm\")\n",
    "print (row1)\n",
    "print (row2)\n",
    "print (row3)\n",
    "for word in words:\n",
    "    print (set(word))\n",
    "    \n",
    "myword = set(\"Peace\".lower())\n",
    "print (myword)\n",
    "print (myword.issubset(row1) or myword.issubset(row2) or myword.issubset(row3))"
   ]
  }
 ],
 "metadata": {
  "kernelspec": {
   "display_name": "Python 3 (ipykernel)",
   "language": "python",
   "name": "python3"
  },
  "language_info": {
   "codemirror_mode": {
    "name": "ipython",
    "version": 3
   },
   "file_extension": ".py",
   "mimetype": "text/x-python",
   "name": "python",
   "nbconvert_exporter": "python",
   "pygments_lexer": "ipython3",
   "version": "3.10.9"
  }
 },
 "nbformat": 4,
 "nbformat_minor": 5
}
