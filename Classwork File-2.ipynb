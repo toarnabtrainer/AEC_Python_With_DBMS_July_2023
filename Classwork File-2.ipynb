{
 "cells": [
  {
   "cell_type": "markdown",
   "id": "71ed821c-bb92-4740-9603-c6a28ce1da2b",
   "metadata": {},
   "source": [
    "### Module Import"
   ]
  },
  {
   "cell_type": "code",
   "execution_count": 1,
   "id": "2f0f2fb0-e054-43cd-8139-00292b174ce1",
   "metadata": {},
   "outputs": [],
   "source": [
    "# importing the required module\n",
    "import math"
   ]
  },
  {
   "cell_type": "code",
   "execution_count": 28,
   "id": "8550e50b-9859-40d4-a8f9-933fd2aab6b7",
   "metadata": {},
   "outputs": [
    {
     "name": "stdout",
     "output_type": "stream",
     "text": [
      "0.0 1.0 0.0 0.0\n",
      "0.0 0.0\n",
      "3.141592653589793 2.718281828459045 6.283185307179586\n",
      "6.931471805599453 6.931471805599453 10.0\n",
      "10.0 3.0 2.9999999999999996\n",
      "1000.0 1000 1000.0\n",
      "120 720 8\n",
      "5120.0 31.622776601683793 31.622776601683793\n",
      "10 10 11 11\n"
     ]
    }
   ],
   "source": [
    "print (math.sin(0), math.cos(0), math.tan(0), math.sinh(0))\n",
    "print (math.asin(0), math.asinh(0))\n",
    "print (math.pi, math.e, math.tau)\n",
    "print (math.log(1024), math.log(1024, math.e), math.log(1024, 2))\n",
    "print (math.log2(1024), math.log10(1000), math.log(1000, 10))\n",
    "print (math.pow(10, 3), 10 ** 3, 10.0 ** 3)\n",
    "print (math.factorial(5), math.factorial(6), math.gcd(1024, 40))\n",
    "print ((1024 * 40)/math.gcd(1024, 40), math.sqrt(1000), 1000 ** 0.5)\n",
    "print (math.floor(10.9), math.floor(10.1), math.ceil(10.9), math.ceil(10.1))"
   ]
  },
  {
   "cell_type": "code",
   "execution_count": null,
   "id": "7d6f5a83-0c5f-4cee-94a8-82b0400ce3f5",
   "metadata": {},
   "outputs": [],
   "source": [
    "help(math)"
   ]
  },
  {
   "cell_type": "code",
   "execution_count": null,
   "id": "37aa6efe-df30-465a-b861-09ba34b36aa8",
   "metadata": {},
   "outputs": [],
   "source": [
    "Class Assignment:\n",
    "Check the math module help and try with another 5 math functions which we did not discuss."
   ]
  },
  {
   "cell_type": "code",
   "execution_count": 31,
   "id": "8c54800c-8233-4f64-982b-727af9587f51",
   "metadata": {},
   "outputs": [
    {
     "name": "stdout",
     "output_type": "stream",
     "text": [
      "180.0\n",
      "3.141592653589793 3.141592653589793\n",
      "60 10\n",
      "120\n",
      "3.0\n"
     ]
    }
   ],
   "source": [
    "import math\n",
    "\n",
    "print (math.degrees(math.pi))\n",
    "print (math.radians(180), math.pi)\n",
    "print (math.lcm(10, 20, 30), math.gcd(10, 20, 30))\n",
    "print (math.comb(10, 3))\n",
    "print (math.remainder(10, 7))"
   ]
  },
  {
   "cell_type": "markdown",
   "id": "662bf2db-7f74-4b21-8238-763a2f6a159d",
   "metadata": {},
   "source": [
    "### String Processing"
   ]
  },
  {
   "cell_type": "code",
   "execution_count": null,
   "id": "fe0d03e3-b2d5-4e83-8aed-8dc7f5dee664",
   "metadata": {},
   "outputs": [],
   "source": [
    "# index from left to right ->   0   1   2   3   4   5   6   7   8   9\n",
    "#                     mystr =   u   n   i   v   e   r   s   i   t   y\n",
    "# index from right to left -> -10  -9  -8  -7  -6  -5  -4  -3  -2  -1"
   ]
  },
  {
   "cell_type": "code",
   "execution_count": 52,
   "id": "7ec441db-5fd4-45ad-96ff-47be181020e2",
   "metadata": {},
   "outputs": [
    {
     "name": "stdout",
     "output_type": "stream",
     "text": [
      "university 10 <class 'str'> 1704036649008\n",
      "v v t t\n",
      "ersi ersi ersi ersi\n",
      "univer univer sity sity\n",
      "uiest nvriy isre isre\n",
      "ytisrevinu\n"
     ]
    }
   ],
   "source": [
    "# indexing and slicing\n",
    "mystr = \"university\"\n",
    "print (mystr, len(mystr), type(mystr), id(mystr))\n",
    "print (mystr[3], mystr[-7], mystr[8], mystr[-2])   # indexing\n",
    "print (mystr[4:8], mystr[-6:-2], mystr[4:-2], mystr[-6:8])   # slicing\n",
    "print (mystr[0:6], mystr[:6], mystr[6:], mystr[-4:])\n",
    "print (mystr[::2], mystr[1::2], mystr[7:3:-1], mystr[-3:-7:-1])\n",
    "print (mystr[::-1])"
   ]
  },
  {
   "cell_type": "code",
   "execution_count": 60,
   "id": "2822f1d2-7aa1-423c-b6e5-0313a68d54f9",
   "metadata": {},
   "outputs": [
    {
     "name": "stdout",
     "output_type": "stream",
     "text": [
      "enGIneeRinG coLLegE 19 <class 'str'> 1704036496480\n",
      "ENGINEERING COLLEGE\n",
      "engineering college\n",
      "Engineering college\n",
      "Engineering College\n",
      "ENgiNEErINg COllEGe\n",
      "          enGIneeRinG coLLegE           \n",
      "          Engineering college           \n"
     ]
    }
   ],
   "source": [
    "mystr = \"enGIneeRinG coLLegE\"\n",
    "print (mystr, len(mystr), type(mystr), id(mystr))\n",
    "print (mystr.upper())\n",
    "print (mystr.lower())\n",
    "print (mystr.capitalize())\n",
    "print (mystr.title())\n",
    "print (mystr.swapcase())\n",
    "print (mystr.center(40))\n",
    "print (mystr.capitalize().center(40))"
   ]
  },
  {
   "cell_type": "code",
   "execution_count": 67,
   "id": "ec888a20-1a06-4865-91d1-bf14ca121bc4",
   "metadata": {},
   "outputs": [
    {
     "name": "stdout",
     "output_type": "stream",
     "text": [
      "4 14 15\n",
      "4 11 -1\n"
     ]
    }
   ],
   "source": [
    "mystr = \"charity begins at home\"\n",
    "print (mystr.find(\"ity\"), mystr.find(\" at\"), mystr.find(\"at\"))\n",
    "print (mystr.find(\"i\"), mystr.find(\"i\", 5), mystr.find(\"i\", 12))"
   ]
  },
  {
   "cell_type": "code",
   "execution_count": 71,
   "id": "853136ab-e58c-4fa6-855e-d9cdae59e8a4",
   "metadata": {},
   "outputs": [
    {
     "name": "stdout",
     "output_type": "stream",
     "text": [
      "4 14 15\n",
      "4 11\n"
     ]
    },
    {
     "ename": "ValueError",
     "evalue": "substring not found",
     "output_type": "error",
     "traceback": [
      "\u001b[1;31m---------------------------------------------------------------------------\u001b[0m",
      "\u001b[1;31mValueError\u001b[0m                                Traceback (most recent call last)",
      "Cell \u001b[1;32mIn[71], line 4\u001b[0m\n\u001b[0;32m      2\u001b[0m \u001b[38;5;28mprint\u001b[39m (mystr\u001b[38;5;241m.\u001b[39mindex(\u001b[38;5;124m\"\u001b[39m\u001b[38;5;124mity\u001b[39m\u001b[38;5;124m\"\u001b[39m), mystr\u001b[38;5;241m.\u001b[39mindex(\u001b[38;5;124m\"\u001b[39m\u001b[38;5;124m at\u001b[39m\u001b[38;5;124m\"\u001b[39m), mystr\u001b[38;5;241m.\u001b[39mindex(\u001b[38;5;124m\"\u001b[39m\u001b[38;5;124mat\u001b[39m\u001b[38;5;124m\"\u001b[39m))\n\u001b[0;32m      3\u001b[0m \u001b[38;5;28mprint\u001b[39m (mystr\u001b[38;5;241m.\u001b[39mindex(\u001b[38;5;124m\"\u001b[39m\u001b[38;5;124mi\u001b[39m\u001b[38;5;124m\"\u001b[39m), mystr\u001b[38;5;241m.\u001b[39mindex(\u001b[38;5;124m\"\u001b[39m\u001b[38;5;124mi\u001b[39m\u001b[38;5;124m\"\u001b[39m, \u001b[38;5;241m5\u001b[39m))\n\u001b[1;32m----> 4\u001b[0m \u001b[38;5;28mprint\u001b[39m (\u001b[43mmystr\u001b[49m\u001b[38;5;241;43m.\u001b[39;49m\u001b[43mindex\u001b[49m\u001b[43m(\u001b[49m\u001b[38;5;124;43m\"\u001b[39;49m\u001b[38;5;124;43mi\u001b[39;49m\u001b[38;5;124;43m\"\u001b[39;49m\u001b[43m,\u001b[49m\u001b[43m \u001b[49m\u001b[38;5;241;43m12\u001b[39;49m\u001b[43m)\u001b[49m)\n",
      "\u001b[1;31mValueError\u001b[0m: substring not found"
     ]
    }
   ],
   "source": [
    "mystr = \"charity begins at home\"\n",
    "print (mystr.index(\"ity\"), mystr.index(\" at\"), mystr.index(\"at\"))\n",
    "print (mystr.index(\"i\"), mystr.index(\"i\", 5))\n",
    "print (mystr.index(\"i\", 12))"
   ]
  },
  {
   "cell_type": "code",
   "execution_count": 74,
   "id": "e31ca769-72d0-4e11-b515-f69cfa7c36e7",
   "metadata": {},
   "outputs": [
    {
     "name": "stdout",
     "output_type": "stream",
     "text": [
      "4 14 15\n",
      "4 11\n",
      "ValueError: Unsuccessful searching...\n",
      "ValueError: Error message: substring not found\n"
     ]
    }
   ],
   "source": [
    "try:\n",
    "    mystr = \"charity begins at home\"\n",
    "    print (mystr.index(\"ity\"), mystr.index(\" at\"), mystr.index(\"at\"))\n",
    "    print (mystr.index(\"i\"), mystr.index(\"i\", 5))\n",
    "    print (mystr.index(\"i\", 12))\n",
    "except ValueError as ve:\n",
    "    print (\"ValueError: Unsuccessful searching...\")\n",
    "    print (\"ValueError: Error message:\", ve)"
   ]
  },
  {
   "cell_type": "code",
   "execution_count": 78,
   "id": "1cb8088e-6a97-445c-8934-6223fce2877f",
   "metadata": {},
   "outputs": [
    {
     "name": "stdout",
     "output_type": "stream",
     "text": [
      "    enginerring      college     32 <class 'str'> 1704063524016\n",
      "enginerring      college 24\n",
      "enginerring      college     28\n",
      "    enginerring      college 28\n"
     ]
    }
   ],
   "source": [
    "mystr = \"    enginerring      college    \"\n",
    "print (mystr, len(mystr), type(mystr), id(mystr))\n",
    "print (mystr.strip(), len(mystr.strip()))\n",
    "print (mystr.lstrip(), len(mystr.lstrip()))\n",
    "print (mystr.rstrip(), len(mystr.rstrip()))"
   ]
  },
  {
   "cell_type": "code",
   "execution_count": 79,
   "id": "d58c3a5d-0cac-4b8d-b87d-657d445328de",
   "metadata": {},
   "outputs": [
    {
     "name": "stdout",
     "output_type": "stream",
     "text": [
      "@#@@enginerring@#@##@college@@@## 33 <class 'str'> 1704063528624\n",
      "enginerring@#@##@college 24\n",
      "enginerring@#@##@college@@@## 29\n",
      "@#@@enginerring@#@##@college 28\n"
     ]
    }
   ],
   "source": [
    "mystr = \"@#@@enginerring@#@##@college@@@##\"\n",
    "print (mystr, len(mystr), type(mystr), id(mystr))\n",
    "print (mystr.strip(\"#@\"), len(mystr.strip(\"#@\")))\n",
    "print (mystr.lstrip(\"#@\"), len(mystr.lstrip(\"#@\")))\n",
    "print (mystr.rstrip(\"#@\"), len(mystr.rstrip(\"#@\")))"
   ]
  },
  {
   "cell_type": "code",
   "execution_count": 87,
   "id": "302272ab-cc3c-458e-8de1-7b96ffe6ac4f",
   "metadata": {},
   "outputs": [
    {
     "name": "stdout",
     "output_type": "stream",
     "text": [
      "True False\n",
      "False True\n",
      "True False\n"
     ]
    }
   ],
   "source": [
    "mystr = \"charity begins at home\"\n",
    "print (mystr.startswith(\"cha\"), mystr.startswith(\"abc\"))\n",
    "print (mystr.startswith(\"begi\"), mystr.startswith(\"begi\", 8))\n",
    "print (mystr.startswith(\"begi\", 8, 20), mystr.startswith(\"begi\", 8, 10))"
   ]
  },
  {
   "cell_type": "code",
   "execution_count": 91,
   "id": "81e47104-18b3-409e-ae79-49e47cd2e398",
   "metadata": {},
   "outputs": [
    {
     "name": "stdout",
     "output_type": "stream",
     "text": [
      "True False\n",
      "True False\n"
     ]
    }
   ],
   "source": [
    "mystr = \"charity begins at home\"\n",
    "print (mystr.endswith(\"home\"), mystr.endswith(\"abc\"))\n",
    "print (mystr.endswith(\"ins\", 0, 14), mystr.endswith(\"ins\", 5, 16))"
   ]
  },
  {
   "cell_type": "code",
   "execution_count": 93,
   "id": "d544e58c-0220-4795-a359-9ee0135914b5",
   "metadata": {},
   "outputs": [
    {
     "name": "stdout",
     "output_type": "stream",
     "text": [
      "c\n",
      "o\n",
      "l\n",
      "l\n",
      "e\n",
      "g\n",
      "e\n"
     ]
    }
   ],
   "source": [
    "mystr = \"college\"\n",
    "for ch in mystr:\n",
    "    print (ch)"
   ]
  },
  {
   "cell_type": "code",
   "execution_count": 95,
   "id": "9c1fe5f3-fd7d-41e9-b450-ff45e6cd56d6",
   "metadata": {},
   "outputs": [
    {
     "name": "stdout",
     "output_type": "stream",
     "text": [
      "c\n",
      "o\n",
      "l\n",
      "l\n",
      "e\n",
      "g\n",
      "e\n"
     ]
    }
   ],
   "source": [
    "mystr = \"college\"\n",
    "for i in range(len(mystr)):\n",
    "    print (mystr[i])"
   ]
  },
  {
   "cell_type": "code",
   "execution_count": 100,
   "id": "3f70681e-364c-434f-9669-1156cdaf1bfc",
   "metadata": {},
   "outputs": [
    {
     "name": "stdout",
     "output_type": "stream",
     "text": [
      "mississippi 11 <class 'str'>\n",
      "['m', 'i', 's', 's', 'i', 's', 's', 'i', 'p', 'p', 'i'] 11 <class 'list'>\n",
      "('m', 'i', 's', 's', 'i', 's', 's', 'i', 'p', 'p', 'i') 11 <class 'tuple'>\n",
      "{'s', 'm', 'p', 'i'} 4 <class 'set'>\n",
      "frozenset({'s', 'm', 'p', 'i'}) 4 <class 'frozenset'>\n"
     ]
    }
   ],
   "source": [
    "mystr = \"mississippi\"\n",
    "print (mystr, len(mystr), type(mystr))\n",
    "result = list(mystr)\n",
    "print (result, len(result), type(result))\n",
    "result = tuple(mystr)\n",
    "print (result, len(result), type(result))\n",
    "result = set(mystr)\n",
    "print (result, len(result), type(result))\n",
    "result = frozenset(mystr)\n",
    "print (result, len(result), type(result))"
   ]
  },
  {
   "cell_type": "code",
   "execution_count": 104,
   "id": "341debec-3b77-431f-ae8b-493c661d16f4",
   "metadata": {},
   "outputs": [
    {
     "name": "stdout",
     "output_type": "stream",
     "text": [
      "charity begins at home 22\n",
      "['charity', 'begins', 'at', 'home'] 4\n",
      "['charity', 'begins', 'at', 'home'] 4\n",
      "['char', 'ty beg', 'ns at home'] 3\n"
     ]
    }
   ],
   "source": [
    "mystr = \"charity begins at home\"\n",
    "print (mystr, len(mystr))\n",
    "result = mystr.split()\n",
    "print (result, len(result))\n",
    "result = mystr.split(\" \")\n",
    "print (result, len(result))\n",
    "result = mystr.split(\"i\")\n",
    "print (result, len(result))"
   ]
  },
  {
   "cell_type": "code",
   "execution_count": null,
   "id": "17c31503-da1c-44c4-bf38-d7807e262302",
   "metadata": {},
   "outputs": [],
   "source": [
    "help(str.split)"
   ]
  },
  {
   "cell_type": "code",
   "execution_count": 109,
   "id": "15a04e5c-b93c-4602-a38c-2d8ea53d8477",
   "metadata": {},
   "outputs": [
    {
     "name": "stdout",
     "output_type": "stream",
     "text": [
      "charity begins at home\n",
      "charity - begins - at - home\n",
      "charity begins at home\n"
     ]
    }
   ],
   "source": [
    "source = ['charity', 'begins', 'at', 'home']\n",
    "mystr = \" \".join(source)\n",
    "print (mystr)\n",
    "\n",
    "mystr = \" - \".join(source)\n",
    "print (mystr)\n",
    "\n",
    "source = ['char', 'ty beg', 'ns at home']\n",
    "mystr = \"i\".join(source)\n",
    "print (mystr)"
   ]
  },
  {
   "cell_type": "code",
   "execution_count": 117,
   "id": "c93264e0-637b-4455-acd8-057f49e8859e",
   "metadata": {},
   "outputs": [
    {
     "name": "stdout",
     "output_type": "stream",
     "text": [
      "university True True False False False\n",
      "university123 False True False False False\n",
      "university-123 False False False False False\n",
      "123 False True True True True\n",
      "123.45 False False False False False\n",
      "四 True True False True False\n"
     ]
    }
   ],
   "source": [
    "mystr = \"university\"\n",
    "print (mystr, mystr.isalpha(), mystr.isalnum(), mystr.isdigit(), mystr.isnumeric(), mystr.isdecimal())\n",
    "mystr = \"university123\"\n",
    "print (mystr, mystr.isalpha(), mystr.isalnum(), mystr.isdigit(), mystr.isnumeric(), mystr.isdecimal())\n",
    "mystr = \"university-123\"\n",
    "print (mystr, mystr.isalpha(), mystr.isalnum(), mystr.isdigit(), mystr.isnumeric(), mystr.isdecimal())\n",
    "mystr = \"123\"\n",
    "print (mystr, mystr.isalpha(), mystr.isalnum(), mystr.isdigit(), mystr.isnumeric(), mystr.isdecimal())\n",
    "mystr = \"123.45\"\n",
    "print (mystr, mystr.isalpha(), mystr.isalnum(), mystr.isdigit(), mystr.isnumeric(), mystr.isdecimal())\n",
    "mystr = \"四\"\n",
    "print (mystr, mystr.isalpha(), mystr.isalnum(), mystr.isdigit(), mystr.isnumeric(), mystr.isdecimal())\n",
    "\n",
    "# isdecimal() is subset of isdigit() is subset of isnumeric()"
   ]
  },
  {
   "cell_type": "code",
   "execution_count": 120,
   "id": "d49e2c65-f0b6-445c-8f82-2c6a920aa637",
   "metadata": {},
   "outputs": [
    {
     "name": "stdout",
     "output_type": "stream",
     "text": [
      "university 10\n",
      "2 1 0\n"
     ]
    }
   ],
   "source": [
    "mystr = \"university\"\n",
    "print (mystr, len(mystr))\n",
    "print (mystr.count(\"i\"), mystr.count(\"v\"), mystr.count(\"I\"))"
   ]
  },
  {
   "cell_type": "code",
   "execution_count": 124,
   "id": "f909be31-0580-4c32-aef6-099ec8597153",
   "metadata": {},
   "outputs": [
    {
     "name": "stdout",
     "output_type": "stream",
     "text": [
      "university 10\n",
      "unxversxty\n",
      "university\n",
      "unxversxty\n"
     ]
    }
   ],
   "source": [
    "mystr = \"university\"\n",
    "print (mystr, len(mystr))\n",
    "print (mystr.replace(\"i\", \"x\"))\n",
    "print (mystr)\n",
    "mystr = mystr.replace(\"i\", \"x\")\n",
    "print (mystr)"
   ]
  },
  {
   "cell_type": "code",
   "execution_count": null,
   "id": "953f7576-8de2-4f71-b8e9-5efc71548d34",
   "metadata": {},
   "outputs": [],
   "source": [
    "Class Assignment - 1\n",
    "--------------------\n",
    "Take a string from the user as input and find the number of vowels and cosonants in that given string.\n",
    "String may contain upper and lower case characters and special characters."
   ]
  },
  {
   "cell_type": "code",
   "execution_count": null,
   "id": "77911da6-fc16-425a-ac94-845455a6a62e",
   "metadata": {},
   "outputs": [],
   "source": []
  },
  {
   "cell_type": "code",
   "execution_count": null,
   "id": "5ab09710-ad18-42a7-b629-97eea85f4fd7",
   "metadata": {},
   "outputs": [],
   "source": []
  }
 ],
 "metadata": {
  "kernelspec": {
   "display_name": "Python 3 (ipykernel)",
   "language": "python",
   "name": "python3"
  },
  "language_info": {
   "codemirror_mode": {
    "name": "ipython",
    "version": 3
   },
   "file_extension": ".py",
   "mimetype": "text/x-python",
   "name": "python",
   "nbconvert_exporter": "python",
   "pygments_lexer": "ipython3",
   "version": "3.10.9"
  }
 },
 "nbformat": 4,
 "nbformat_minor": 5
}
