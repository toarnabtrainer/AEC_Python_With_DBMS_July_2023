{
 "cells": [
  {
   "cell_type": "markdown",
   "id": "5f220211-50d7-4310-a59e-ab627c22bfa0",
   "metadata": {},
   "source": [
    "### **Exception Handling**"
   ]
  },
  {
   "cell_type": "code",
   "execution_count": 5,
   "id": "e5578727-2ded-4a12-b1f4-b23f18630b69",
   "metadata": {},
   "outputs": [
    {
     "name": "stdin",
     "output_type": "stream",
     "text": [
      "Please enter the first number:  100\n",
      "Please enter the second number:  0\n"
     ]
    },
    {
     "ename": "ZeroDivisionError",
     "evalue": "division by zero",
     "output_type": "error",
     "traceback": [
      "\u001b[1;31m---------------------------------------------------------------------------\u001b[0m",
      "\u001b[1;31mZeroDivisionError\u001b[0m                         Traceback (most recent call last)",
      "Cell \u001b[1;32mIn[5], line 3\u001b[0m\n\u001b[0;32m      1\u001b[0m num1 \u001b[38;5;241m=\u001b[39m \u001b[38;5;28mint\u001b[39m(\u001b[38;5;28minput\u001b[39m(\u001b[38;5;124m\"\u001b[39m\u001b[38;5;124mPlease enter the first number: \u001b[39m\u001b[38;5;124m\"\u001b[39m))\n\u001b[0;32m      2\u001b[0m num2 \u001b[38;5;241m=\u001b[39m \u001b[38;5;28mint\u001b[39m(\u001b[38;5;28minput\u001b[39m(\u001b[38;5;124m\"\u001b[39m\u001b[38;5;124mPlease enter the second number: \u001b[39m\u001b[38;5;124m\"\u001b[39m))\n\u001b[1;32m----> 3\u001b[0m result \u001b[38;5;241m=\u001b[39m \u001b[43mnum1\u001b[49m\u001b[43m \u001b[49m\u001b[38;5;241;43m/\u001b[39;49m\u001b[43m \u001b[49m\u001b[43mnum2\u001b[49m\n\u001b[0;32m      4\u001b[0m \u001b[38;5;28mprint\u001b[39m (\u001b[38;5;124mf\u001b[39m\u001b[38;5;124m\"\u001b[39m\u001b[38;5;124mSo \u001b[39m\u001b[38;5;132;01m{\u001b[39;00mnum1\u001b[38;5;132;01m}\u001b[39;00m\u001b[38;5;124m / \u001b[39m\u001b[38;5;132;01m{\u001b[39;00mnum2\u001b[38;5;132;01m}\u001b[39;00m\u001b[38;5;124m = \u001b[39m\u001b[38;5;132;01m{\u001b[39;00mresult\u001b[38;5;132;01m}\u001b[39;00m\u001b[38;5;124m\"\u001b[39m)\n\u001b[0;32m      5\u001b[0m \u001b[38;5;28mprint\u001b[39m (\u001b[38;5;124m\"\u001b[39m\u001b[38;5;124mEnd of the program...\u001b[39m\u001b[38;5;124m\"\u001b[39m)\n",
      "\u001b[1;31mZeroDivisionError\u001b[0m: division by zero"
     ]
    }
   ],
   "source": [
    "num1 = int(input(\"Please enter the first number: \"))\n",
    "num2 = int(input(\"Please enter the second number: \"))\n",
    "result = num1 / num2\n",
    "print (f\"So {num1} / {num2} = {result}\")\n",
    "print (\"End of the program...\")"
   ]
  },
  {
   "cell_type": "code",
   "execution_count": 12,
   "id": "a841aea6-7b19-4970-893e-10b6d86b13b0",
   "metadata": {},
   "outputs": [
    {
     "name": "stdin",
     "output_type": "stream",
     "text": [
      "Please enter the first number:  100\n",
      "Please enter the second number:  two\n"
     ]
    },
    {
     "ename": "ValueError",
     "evalue": "invalid literal for int() with base 10: 'two'",
     "output_type": "error",
     "traceback": [
      "\u001b[1;31m---------------------------------------------------------------------------\u001b[0m",
      "\u001b[1;31mValueError\u001b[0m                                Traceback (most recent call last)",
      "Cell \u001b[1;32mIn[12], line 3\u001b[0m\n\u001b[0;32m      1\u001b[0m \u001b[38;5;28;01mtry\u001b[39;00m:\n\u001b[0;32m      2\u001b[0m     num1 \u001b[38;5;241m=\u001b[39m \u001b[38;5;28mint\u001b[39m(\u001b[38;5;28minput\u001b[39m(\u001b[38;5;124m\"\u001b[39m\u001b[38;5;124mPlease enter the first number: \u001b[39m\u001b[38;5;124m\"\u001b[39m))\n\u001b[1;32m----> 3\u001b[0m     num2 \u001b[38;5;241m=\u001b[39m \u001b[38;5;28;43mint\u001b[39;49m\u001b[43m(\u001b[49m\u001b[38;5;28;43minput\u001b[39;49m\u001b[43m(\u001b[49m\u001b[38;5;124;43m\"\u001b[39;49m\u001b[38;5;124;43mPlease enter the second number: \u001b[39;49m\u001b[38;5;124;43m\"\u001b[39;49m\u001b[43m)\u001b[49m\u001b[43m)\u001b[49m\n\u001b[0;32m      4\u001b[0m     result \u001b[38;5;241m=\u001b[39m num1 \u001b[38;5;241m/\u001b[39m num2\n\u001b[0;32m      5\u001b[0m     \u001b[38;5;28mprint\u001b[39m (\u001b[38;5;124mf\u001b[39m\u001b[38;5;124m\"\u001b[39m\u001b[38;5;124mSo \u001b[39m\u001b[38;5;132;01m{\u001b[39;00mnum1\u001b[38;5;132;01m}\u001b[39;00m\u001b[38;5;124m / \u001b[39m\u001b[38;5;132;01m{\u001b[39;00mnum2\u001b[38;5;132;01m}\u001b[39;00m\u001b[38;5;124m = \u001b[39m\u001b[38;5;132;01m{\u001b[39;00mresult\u001b[38;5;132;01m}\u001b[39;00m\u001b[38;5;124m\"\u001b[39m)\n",
      "\u001b[1;31mValueError\u001b[0m: invalid literal for int() with base 10: 'two'"
     ]
    }
   ],
   "source": [
    "try:\n",
    "    num1 = int(input(\"Please enter the first number: \"))\n",
    "    num2 = int(input(\"Please enter the second number: \"))\n",
    "    result = num1 / num2\n",
    "    print (f\"So {num1} / {num2} = {result}\")\n",
    "except ZeroDivisionError as zde:    # zde is an object of ZeroDivisionError class\n",
    "    print (\"ZeroDivisionError: Division by ZERO is illegal...\")\n",
    "    print (\"ZeroDivisionError: Error message:\", zde)\n",
    "    print (\"ZeroDivisionError: Error Type:\", type(zde))\n",
    "print (\"End of the program...\")"
   ]
  },
  {
   "cell_type": "code",
   "execution_count": 13,
   "id": "5d3f5420-b512-4c66-a413-e5805540f480",
   "metadata": {},
   "outputs": [
    {
     "name": "stdin",
     "output_type": "stream",
     "text": [
      "Please enter the first number:  100.5\n"
     ]
    },
    {
     "name": "stdout",
     "output_type": "stream",
     "text": [
      "ValueError: Please provide integer numbers only...\n",
      "ValueError: Error message: invalid literal for int() with base 10: '100.5'\n",
      "ValueError: Error Type: <class 'ValueError'>\n",
      "End of the program...\n"
     ]
    }
   ],
   "source": [
    "try:\n",
    "    num1 = int(input(\"Please enter the first number: \"))\n",
    "    num2 = int(input(\"Please enter the second number: \"))\n",
    "    result = num1 / num2\n",
    "    print (f\"So {num1} / {num2} = {result}\")\n",
    "except ZeroDivisionError as zde:    # zde is an object of ZeroDivisionError class\n",
    "    print (\"ZeroDivisionError: Division by ZERO is illegal...\")\n",
    "    print (\"ZeroDivisionError: Error message:\", zde)\n",
    "    print (\"ZeroDivisionError: Error Type:\", type(zde))\n",
    "except ValueError as ve:\n",
    "    print (\"ValueError: Please provide integer numbers only...\")\n",
    "    print (\"ValueError: Error message:\", ve)\n",
    "    print (\"ValueError: Error Type:\", type(ve))\n",
    "print (\"End of the program...\")"
   ]
  },
  {
   "cell_type": "code",
   "execution_count": 19,
   "id": "9c7e3543-a7ae-4808-9500-d0732c52ba97",
   "metadata": {},
   "outputs": [
    {
     "name": "stdin",
     "output_type": "stream",
     "text": [
      "Please enter the first number:  100.5\n"
     ]
    },
    {
     "name": "stdout",
     "output_type": "stream",
     "text": [
      "ValueError: Please provide integer numbers only...\n",
      "ValueError: Error message: invalid literal for int() with base 10: '100.5'\n",
      "ValueError: Error Type: <class 'ValueError'>\n",
      "End of the program...\n"
     ]
    }
   ],
   "source": [
    "try:\n",
    "    num1 = int(input(\"Please enter the first number: \"))\n",
    "    num2 = int(input(\"Please enter the second number: \"))\n",
    "    result = num1 / num2\n",
    "    print (f\"So {num1} / {num2} = {result}\")\n",
    "except ZeroDivisionError as zde:    # zde is an object of ZeroDivisionError class\n",
    "    print (\"ZeroDivisionError: Division by ZERO is illegal...\")\n",
    "    print (\"ZeroDivisionError: Error message:\", zde)\n",
    "    print (\"ZeroDivisionError: Error Type:\", type(zde))\n",
    "except ValueError as ve:\n",
    "    print (\"ValueError: Please provide integer numbers only...\")\n",
    "    print (\"ValueError: Error message:\", ve)\n",
    "    print (\"ValueError: Error Type:\", type(ve))\n",
    "except Exception as ex:\n",
    "    print (\"Exception: Some other exception has taken place...\")\n",
    "    print (\"Exception: Error message:\", ex)\n",
    "    print (\"Exception: Error Type:\", type(ex))\n",
    "print (\"End of the program...\")"
   ]
  },
  {
   "cell_type": "code",
   "execution_count": 32,
   "id": "bf724d79-f612-4669-8a37-a616e2827448",
   "metadata": {},
   "outputs": [
    {
     "name": "stdin",
     "output_type": "stream",
     "text": [
      "Please enter the first number:  100.3\n"
     ]
    },
    {
     "name": "stdout",
     "output_type": "stream",
     "text": [
      "ValueError: Please provide integer numbers only...\n",
      "ValueError: Error message: invalid literal for int() with base 10: '100.3'\n",
      "ValueError: Error Type: <class 'ValueError'>\n",
      "Finally: Finally block executes always...\n",
      "Finally: Finally block should be the last block...\n",
      "End of the program...\n"
     ]
    }
   ],
   "source": [
    "try:\n",
    "    num1 = int(input(\"Please enter the first number: \"))\n",
    "    num2 = int(input(\"Please enter the second number: \"))\n",
    "    result = num1 / num2\n",
    "    print (f\"So {num1} / {num2} = {result}\")\n",
    "except ValueError as ve:\n",
    "    print (\"ValueError: Please provide integer numbers only...\")\n",
    "    print (\"ValueError: Error message:\", ve)\n",
    "    print (\"ValueError: Error Type:\", type(ve))\n",
    "except ZeroDivisionError as zde:    # zde is an object of ZeroDivisionError class\n",
    "    print (\"ZeroDivisionError: Division by ZERO is illegal...\")\n",
    "    print (\"ZeroDivisionError: Error message:\", zde)\n",
    "    print (\"ZeroDivisionError: Error Type:\", type(zde))\n",
    "except Exception as ex:\n",
    "    print (\"Exception: Some other exception has taken place...\")\n",
    "    print (\"Exception: Error message:\", ex)\n",
    "    print (\"Exception: Error Type:\", type(ex))\n",
    "else:\n",
    "    print (\"Else: Had a smooth execution...\")\n",
    "    print (\"Else: No exception has occcurred...\")\n",
    "finally:\n",
    "    print (\"Finally: Finally block executes always...\")\n",
    "    print (\"Finally: Finally block should be the last block...\")\n",
    "print (\"End of the program...\")"
   ]
  },
  {
   "cell_type": "code",
   "execution_count": 37,
   "id": "8baeab0e-f603-4066-aa2f-c15f3abced75",
   "metadata": {},
   "outputs": [
    {
     "name": "stdin",
     "output_type": "stream",
     "text": [
      "Please enter the first number:  900\n",
      "Please enter the second number:  -900\n"
     ]
    },
    {
     "name": "stdout",
     "output_type": "stream",
     "text": [
      "NameError: Input values are out of range...\n",
      "NameError: Input values are BELOW -100...\n",
      "Finally: Finally block executes always...\n",
      "Finally: Finally block should be the last block...\n",
      "End of the program...\n"
     ]
    }
   ],
   "source": [
    "try:\n",
    "    num1 = int(input(\"Please enter the first number: \"))\n",
    "    num2 = int(input(\"Please enter the second number: \"))\n",
    "    if (num1 < -100 or num2 < -100): raise NameError(\"Below-100\")\n",
    "    if (num1 > 100 or num2 > 100): raise NameError(\"Above+100\")\n",
    "    result = num1 / num2\n",
    "    print (f\"So {num1} / {num2} = {result}\")\n",
    "except ValueError as ve:\n",
    "    print (\"ValueError: Please provide integer numbers only...\")\n",
    "    print (\"ValueError: Error message:\", ve)\n",
    "    print (\"ValueError: Error Type:\", type(ve))\n",
    "except ZeroDivisionError as zde:    # zde is an object of ZeroDivisionError class\n",
    "    print (\"ZeroDivisionError: Division by ZERO is illegal...\")\n",
    "    print (\"ZeroDivisionError: Error message:\", zde)\n",
    "    print (\"ZeroDivisionError: Error Type:\", type(zde))\n",
    "except NameError as ne:\n",
    "    print (\"NameError: Input values are out of range...\")\n",
    "    if (str(ne) == \"Below-100\"): print (\"NameError: Input values are BELOW -100...\")\n",
    "    if (str(ne) == \"Above+100\"): print (\"NameError: Input values are ABOVE +100...\")        \n",
    "except Exception as ex:\n",
    "    print (\"Exception: Some other exception has taken place...\")\n",
    "    print (\"Exception: Error message:\", ex)\n",
    "    print (\"Exception: Error Type:\", type(ex))\n",
    "else:\n",
    "    print (\"Else: Had a smooth execution...\")\n",
    "    print (\"Else: No exception has occcurred...\")\n",
    "finally:\n",
    "    print (\"Finally: Finally block executes always...\")\n",
    "    print (\"Finally: Finally block should be the last block...\")\n",
    "print (\"End of the program...\")"
   ]
  },
  {
   "cell_type": "code",
   "execution_count": null,
   "id": "8a118a30-3281-4864-afb3-6d51ab551bd8",
   "metadata": {},
   "outputs": [],
   "source": []
  },
  {
   "cell_type": "code",
   "execution_count": null,
   "id": "dd53b33d-0c8f-4788-b28a-7b18b7a6707f",
   "metadata": {},
   "outputs": [],
   "source": []
  },
  {
   "cell_type": "code",
   "execution_count": null,
   "id": "00935ca6-a09f-4e66-bfb3-dad9a33baf19",
   "metadata": {},
   "outputs": [],
   "source": []
  },
  {
   "cell_type": "code",
   "execution_count": null,
   "id": "e59c93f9-8f63-430c-b152-ec26e4e5403f",
   "metadata": {},
   "outputs": [],
   "source": []
  },
  {
   "cell_type": "code",
   "execution_count": null,
   "id": "0756a103-67ae-477b-bf78-d03e0277a61e",
   "metadata": {},
   "outputs": [],
   "source": []
  },
  {
   "cell_type": "code",
   "execution_count": null,
   "id": "9e9164f3-8c55-4dba-a686-6116aba72703",
   "metadata": {},
   "outputs": [],
   "source": []
  },
  {
   "cell_type": "code",
   "execution_count": null,
   "id": "95c94b22-cd29-4796-a641-59ec6785e77b",
   "metadata": {},
   "outputs": [],
   "source": []
  },
  {
   "cell_type": "code",
   "execution_count": null,
   "id": "6bbb7bd2-06cf-47b4-8d0e-627eafff0a69",
   "metadata": {},
   "outputs": [],
   "source": []
  },
  {
   "cell_type": "code",
   "execution_count": null,
   "id": "52e4ba59-547b-4b9c-b141-35b9378cc30e",
   "metadata": {},
   "outputs": [],
   "source": []
  },
  {
   "cell_type": "code",
   "execution_count": null,
   "id": "3f329e89-72e0-42e0-b645-503b22c1a365",
   "metadata": {},
   "outputs": [],
   "source": []
  },
  {
   "cell_type": "code",
   "execution_count": null,
   "id": "b475189c-79df-4688-9f41-1722df054686",
   "metadata": {},
   "outputs": [],
   "source": []
  },
  {
   "cell_type": "code",
   "execution_count": null,
   "id": "104d0e5d-4070-4b65-ae5a-c21f64f5f292",
   "metadata": {},
   "outputs": [],
   "source": []
  },
  {
   "cell_type": "code",
   "execution_count": null,
   "id": "79b334b3-35d2-4f89-9472-66c9d01e7994",
   "metadata": {},
   "outputs": [],
   "source": []
  },
  {
   "cell_type": "code",
   "execution_count": null,
   "id": "12375d70-5d84-495d-839d-9c317ced26c6",
   "metadata": {},
   "outputs": [],
   "source": []
  },
  {
   "cell_type": "code",
   "execution_count": null,
   "id": "28d67bec-5be8-4716-813f-4877a736dc7b",
   "metadata": {},
   "outputs": [],
   "source": []
  },
  {
   "cell_type": "code",
   "execution_count": null,
   "id": "afda3a84-7807-48f0-a97f-d7fb33b25163",
   "metadata": {},
   "outputs": [],
   "source": []
  },
  {
   "cell_type": "code",
   "execution_count": null,
   "id": "01b7a2fe-cdf4-4a67-94b3-f9963848a129",
   "metadata": {},
   "outputs": [],
   "source": []
  },
  {
   "cell_type": "code",
   "execution_count": null,
   "id": "6b0b78c0-f5f2-4391-9efb-2b2e4ddb59a4",
   "metadata": {},
   "outputs": [],
   "source": []
  },
  {
   "cell_type": "code",
   "execution_count": null,
   "id": "0d589662-f766-4a03-b383-4ca89ae8b5a0",
   "metadata": {},
   "outputs": [],
   "source": []
  },
  {
   "cell_type": "code",
   "execution_count": null,
   "id": "0bfeb63d-3eac-45ec-8962-a5ebfe9fa869",
   "metadata": {},
   "outputs": [],
   "source": []
  }
 ],
 "metadata": {
  "kernelspec": {
   "display_name": "Python 3 (ipykernel)",
   "language": "python",
   "name": "python3"
  },
  "language_info": {
   "codemirror_mode": {
    "name": "ipython",
    "version": 3
   },
   "file_extension": ".py",
   "mimetype": "text/x-python",
   "name": "python",
   "nbconvert_exporter": "python",
   "pygments_lexer": "ipython3",
   "version": "3.10.9"
  }
 },
 "nbformat": 4,
 "nbformat_minor": 5
}
